{
  "nbformat": 4,
  "nbformat_minor": 0,
  "metadata": {
    "colab": {
      "provenance": [],
      "gpuType": "T4"
    },
    "kernelspec": {
      "name": "ir",
      "display_name": "R"
    },
    "accelerator": "GPU",
    "language_info": {
      "name": "R"
    }
  },
  "cells": [
    {
      "cell_type": "markdown",
      "source": [
        "# Skill Lab : R Programming"
      ],
      "metadata": {
        "id": "rpkvI-I9olwU"
      }
    },
    {
      "cell_type": "markdown",
      "source": [
        "# Day 1 : Learning Basics"
      ],
      "metadata": {
        "id": "lEmUQIMG3B1n"
      }
    },
    {
      "cell_type": "code",
      "source": [
        "# @title Demo\n",
        "print(\"Hello World\")\n",
        "print(5+6+7+8)\n",
        "a<-10\n",
        "b=20  # assignment operator\n",
        "print(a+b)\n",
        "# print() is used for general-purpose printing in R, automatically formatting output and adding a newline,\n",
        "# cat() is used for more controlled printing, concatenating its arguments with spaces by default and not automatically adding a newline"
      ],
      "metadata": {
        "colab": {
          "base_uri": "https://localhost:8080/"
        },
        "id": "oP9Wq2-VuwKN",
        "outputId": "248789f2-16bd-4126-a1dc-2ed444c2ceec"
      },
      "execution_count": null,
      "outputs": [
        {
          "output_type": "stream",
          "name": "stdout",
          "text": [
            "[1] \"Hello World\"\n",
            "[1] 26\n",
            "[1] 30\n"
          ]
        }
      ]
    },
    {
      "cell_type": "code",
      "source": [
        "# @title Variable Declaration\n",
        "10->a  # rightward declaration\n",
        "b<-20  # leftward declaration\n",
        "cat(a,\"\\n\",b) # concatenate and print its arguments , cannot be used in iterable func\n",
        "A <-B <-C <-D <- 'RVCE'  # multi-variable declaration\n",
        "cat('\\n',A,B,C,D,'\\n')\n",
        "print(paste0(\"Welcome to \",A))  # paste0 no space"
      ],
      "metadata": {
        "colab": {
          "base_uri": "https://localhost:8080/"
        },
        "id": "XpUaHouoyLqN",
        "outputId": "f7025524-bfe6-4398-bdf9-2951c1c9d95d"
      },
      "execution_count": null,
      "outputs": [
        {
          "output_type": "stream",
          "name": "stdout",
          "text": [
            "10 \n",
            " 20\n",
            " RVCE RVCE RVCE RVCE \n",
            "[1] \"Welcome to RVCE\"\n"
          ]
        }
      ]
    },
    {
      "cell_type": "code",
      "source": [
        "# @title For Loop\n",
        "for(x in 1:5)\n",
        "print(x)     # need to use print in loops"
      ],
      "metadata": {
        "colab": {
          "base_uri": "https://localhost:8080/"
        },
        "id": "3Lb6UaFc1fvW",
        "outputId": "7f05b31e-8c69-4e0f-c451-40787aea0000"
      },
      "execution_count": null,
      "outputs": [
        {
          "output_type": "stream",
          "name": "stdout",
          "text": [
            "[1] 1\n",
            "[1] 2\n",
            "[1] 3\n",
            "[1] 4\n",
            "[1] 5\n"
          ]
        }
      ]
    },
    {
      "cell_type": "code",
      "source": [
        "# @title Variable Types\n",
        "# Variable names must begin with a letter (uppercase or lowercase) or a dot (.). They can't start with a digit or an underscore.\n",
        "# R Numbers - Integer, Numeric, Comple\n",
        "a = TRUE  # boolean\n",
        "class(a)\n",
        "typeof(a)\n",
        "ab = T    # T or F can also work\n",
        "class(ab)\n",
        "b = 45    # Numeric / Double\n",
        "class(b)\n",
        "typeof(b)\n",
        "c = 10L   # Integer\n",
        "class(c)\n",
        "typeof(c)\n",
        "d = 13.4  # Double\n",
        "class(d)\n",
        "typeof(d)\n",
        "e = \"a\"   # Character\n",
        "class(e)\n",
        "typeof(e)"
      ],
      "metadata": {
        "colab": {
          "base_uri": "https://localhost:8080/",
          "height": 208
        },
        "id": "t-zxv5DO4mA3",
        "outputId": "a79b5ac8-a0fb-4a0a-d224-9b75848f9163"
      },
      "execution_count": null,
      "outputs": [
        {
          "output_type": "display_data",
          "data": {
            "text/html": [
              "'logical'"
            ],
            "text/markdown": "'logical'",
            "text/latex": "'logical'",
            "text/plain": [
              "[1] \"logical\""
            ]
          },
          "metadata": {}
        },
        {
          "output_type": "display_data",
          "data": {
            "text/html": [
              "'logical'"
            ],
            "text/markdown": "'logical'",
            "text/latex": "'logical'",
            "text/plain": [
              "[1] \"logical\""
            ]
          },
          "metadata": {}
        },
        {
          "output_type": "display_data",
          "data": {
            "text/html": [
              "'logical'"
            ],
            "text/markdown": "'logical'",
            "text/latex": "'logical'",
            "text/plain": [
              "[1] \"logical\""
            ]
          },
          "metadata": {}
        },
        {
          "output_type": "display_data",
          "data": {
            "text/html": [
              "'numeric'"
            ],
            "text/markdown": "'numeric'",
            "text/latex": "'numeric'",
            "text/plain": [
              "[1] \"numeric\""
            ]
          },
          "metadata": {}
        },
        {
          "output_type": "display_data",
          "data": {
            "text/html": [
              "'double'"
            ],
            "text/markdown": "'double'",
            "text/latex": "'double'",
            "text/plain": [
              "[1] \"double\""
            ]
          },
          "metadata": {}
        },
        {
          "output_type": "display_data",
          "data": {
            "text/html": [
              "'integer'"
            ],
            "text/markdown": "'integer'",
            "text/latex": "'integer'",
            "text/plain": [
              "[1] \"integer\""
            ]
          },
          "metadata": {}
        },
        {
          "output_type": "display_data",
          "data": {
            "text/html": [
              "'integer'"
            ],
            "text/markdown": "'integer'",
            "text/latex": "'integer'",
            "text/plain": [
              "[1] \"integer\""
            ]
          },
          "metadata": {}
        },
        {
          "output_type": "display_data",
          "data": {
            "text/html": [
              "'numeric'"
            ],
            "text/markdown": "'numeric'",
            "text/latex": "'numeric'",
            "text/plain": [
              "[1] \"numeric\""
            ]
          },
          "metadata": {}
        },
        {
          "output_type": "display_data",
          "data": {
            "text/html": [
              "'double'"
            ],
            "text/markdown": "'double'",
            "text/latex": "'double'",
            "text/plain": [
              "[1] \"double\""
            ]
          },
          "metadata": {}
        },
        {
          "output_type": "display_data",
          "data": {
            "text/html": [
              "'character'"
            ],
            "text/markdown": "'character'",
            "text/latex": "'character'",
            "text/plain": [
              "[1] \"character\""
            ]
          },
          "metadata": {}
        },
        {
          "output_type": "display_data",
          "data": {
            "text/html": [
              "'character'"
            ],
            "text/markdown": "'character'",
            "text/latex": "'character'",
            "text/plain": [
              "[1] \"character\""
            ]
          },
          "metadata": {}
        }
      ]
    },
    {
      "cell_type": "code",
      "source": [
        "# @title Type-casting\n",
        "x <- 1L # Integer\n",
        "y <- 2 # Numeric\n",
        "a <- as.numeric(x)\n",
        "b <- as.integer(y)\n",
        "cat(a, b, typeof(a), typeof(b))"
      ],
      "metadata": {
        "colab": {
          "base_uri": "https://localhost:8080/"
        },
        "id": "GRi-YZuxD5MS",
        "outputId": "b68b555f-7e66-43f6-fdcd-009d386d0946"
      },
      "execution_count": null,
      "outputs": [
        {
          "output_type": "stream",
          "name": "stdout",
          "text": [
            "1 2 double integer"
          ]
        }
      ]
    },
    {
      "cell_type": "code",
      "source": [
        "# @title Raw Data Type\n",
        "char_string <- \"Welcome to RVCE!\"\n",
        "raw_code <- as.raw(charToRaw(char_string))  # Raw binary data\n",
        "print(raw_code)\n",
        "print(rawToBits(raw_code))\n",
        "print(rawToChar(raw_code))"
      ],
      "metadata": {
        "colab": {
          "base_uri": "https://localhost:8080/"
        },
        "id": "ZkAmFgjDHNZR",
        "outputId": "1cc2f75c-555c-4b0f-83e8-84b69fee08b6"
      },
      "execution_count": null,
      "outputs": [
        {
          "output_type": "stream",
          "name": "stdout",
          "text": [
            " [1] 57 65 6c 63 6f 6d 65 20 74 6f 20 52 56 43 45 21\n",
            "  [1] 01 01 01 00 01 00 01 00 01 00 01 00 00 01 01 00 00 00 01 01 00 01 01 00 01\n",
            " [26] 01 00 00 00 01 01 00 01 01 01 01 00 01 01 00 01 00 01 01 00 01 01 00 01 00\n",
            " [51] 01 00 00 01 01 00 00 00 00 00 00 01 00 00 00 00 01 00 01 01 01 00 01 01 01\n",
            " [76] 01 00 01 01 00 00 00 00 00 00 01 00 00 00 01 00 00 01 00 01 00 00 01 01 00\n",
            "[101] 01 00 01 00 01 01 00 00 00 00 01 00 01 00 01 00 00 00 01 00 01 00 00 00 00\n",
            "[126] 01 00 00\n",
            "[1] \"Welcome to RVCE!\"\n"
          ]
        }
      ]
    },
    {
      "cell_type": "code",
      "source": [
        "# @title Vectors\n",
        "numbers <- c(3, 6, 9, 12, 15)  # c combines arguments together\n",
        "mean_value <- mean(numbers)\n",
        "print(mean_value)\n",
        "\n",
        "vec1 <- c(4, 15, 19)\n",
        "vec2 <- c(10, 100, 20)\n",
        "vec3 <- c(vec1,vec2)\n",
        "vec3"
      ],
      "metadata": {
        "colab": {
          "base_uri": "https://localhost:8080/",
          "height": 52
        },
        "id": "dBnodEqzoY0j",
        "outputId": "b8d51f4d-8e74-4086-c6a9-482472633511"
      },
      "execution_count": null,
      "outputs": [
        {
          "output_type": "stream",
          "name": "stdout",
          "text": [
            "[1] 9\n"
          ]
        },
        {
          "output_type": "display_data",
          "data": {
            "text/html": [
              "<style>\n",
              ".list-inline {list-style: none; margin:0; padding: 0}\n",
              ".list-inline>li {display: inline-block}\n",
              ".list-inline>li:not(:last-child)::after {content: \"\\00b7\"; padding: 0 .5ex}\n",
              "</style>\n",
              "<ol class=list-inline><li>4</li><li>15</li><li>19</li><li>10</li><li>100</li><li>20</li></ol>\n"
            ],
            "text/markdown": "1. 4\n2. 15\n3. 19\n4. 10\n5. 100\n6. 20\n\n\n",
            "text/latex": "\\begin{enumerate*}\n\\item 4\n\\item 15\n\\item 19\n\\item 10\n\\item 100\n\\item 20\n\\end{enumerate*}\n",
            "text/plain": [
              "[1]   4  15  19  10 100  20"
            ]
          },
          "metadata": {}
        }
      ]
    },
    {
      "cell_type": "code",
      "source": [
        "# @title List and Remove\n",
        "ls()  # list all variables defined till now\n",
        "print(ls(pattern = 'vec'))  # all.names = TRUE to print variables starting with dot\n",
        "rm(ab) # delete variable\n",
        "rm(list = ls()) # delete all variables\n",
        "ls()"
      ],
      "metadata": {
        "colab": {
          "base_uri": "https://localhost:8080/",
          "height": 104
        },
        "id": "Hv8f6h6SH_Ni",
        "outputId": "92ebfe91-02ca-4b82-fd54-b1d333163348"
      },
      "execution_count": null,
      "outputs": [
        {
          "output_type": "display_data",
          "data": {
            "text/html": [
              "<style>\n",
              ".list-inline {list-style: none; margin:0; padding: 0}\n",
              ".list-inline>li {display: inline-block}\n",
              ".list-inline>li:not(:last-child)::after {content: \"\\00b7\"; padding: 0 .5ex}\n",
              "</style>\n",
              "<ol class=list-inline><li>'a'</li><li>'A'</li><li>'ab'</li><li>'airquality'</li><li>'arr'</li><li>'b'</li><li>'B'</li><li>'bool'</li><li>'c'</li><li>'C'</li><li>'char'</li><li>'char_string'</li><li>'col_means'</li><li>'col_sums'</li><li>'colors'</li><li>'cols'</li><li>'combined_list'</li><li>'cross_join'</li><li>'csv_file'</li><li>'d'</li><li>'D'</li><li>'data'</li><li>'data1'</li><li>'data2'</li><li>'Date_Values'</li><li>'Deptinfo'</li><li>'df'</li><li>'df1'</li><li>'df2'</li><li>'difference'</li><li>'e'</li><li>'Empinfo'</li><li>'employee'</li><li>'f'</li><li>'factor_var'</li><li>'fib'</li><li>'filtered_students'</li><li>'first_name'</li><li>'fruits'</li><li>'full_name'</li><li>'i'</li><li>'inner_join'</li><li>'j'</li><li>'k'</li><li>'labels'</li><li>'last_name'</li><li>'list1'</li><li>'list2'</li><li>'list3'</li><li>'logical_and'</li><li>'logical_or'</li><li>'mat'</li><li>'matrix'</li><li>'matrix_cbind'</li><li>'matrix_rbind'</li><li>'matrix1'</li><li>'matrix2'</li><li>'matrix3'</li><li>'mean_value'</li><li>'months'</li><li>'mtcars'</li><li>'my_list'</li><li>'N'</li><li>'na_count'</li><li>'name'</li><li>'num'</li><li>'numbers'</li><li>'numbers1'</li><li>'numbers2'</li><li>'numbers3'</li><li>'numbers4'</li><li>'p'</li><li>'P'</li><li>'piepercent'</li><li>'product'</li><li>'q'</li><li>'quotient'</li><li>'raw_code'</li><li>'record'</li><li>'regions'</li><li>'result'</li><li>'right_outer_join'</li><li>'row_means'</li><li>'row_sums'</li><li>'rows'</li><li>'stats'</li><li>'str'</li><li>'str_comma'</li><li>'str_trim'</li><li>'str_underscore'</li><li>'string'</li><li>'student'</li><li>'student_data'</li><li>'students'</li><li>'sum'</li><li>'temperature'</li><li>'text'</li><li>'third_element'</li><li>'upper_quartile'</li><li>'v'</li><li>'values'</li><li>'vec'</li><li>'vec1'</li><li>'vec2'</li><li>'vec3'</li><li>'weather'</li><li>'x'</li><li>'x1'</li><li>'y'</li><li>'y1'</li><li>'z'</li></ol>\n"
            ],
            "text/markdown": "1. 'a'\n2. 'A'\n3. 'ab'\n4. 'airquality'\n5. 'arr'\n6. 'b'\n7. 'B'\n8. 'bool'\n9. 'c'\n10. 'C'\n11. 'char'\n12. 'char_string'\n13. 'col_means'\n14. 'col_sums'\n15. 'colors'\n16. 'cols'\n17. 'combined_list'\n18. 'cross_join'\n19. 'csv_file'\n20. 'd'\n21. 'D'\n22. 'data'\n23. 'data1'\n24. 'data2'\n25. 'Date_Values'\n26. 'Deptinfo'\n27. 'df'\n28. 'df1'\n29. 'df2'\n30. 'difference'\n31. 'e'\n32. 'Empinfo'\n33. 'employee'\n34. 'f'\n35. 'factor_var'\n36. 'fib'\n37. 'filtered_students'\n38. 'first_name'\n39. 'fruits'\n40. 'full_name'\n41. 'i'\n42. 'inner_join'\n43. 'j'\n44. 'k'\n45. 'labels'\n46. 'last_name'\n47. 'list1'\n48. 'list2'\n49. 'list3'\n50. 'logical_and'\n51. 'logical_or'\n52. 'mat'\n53. 'matrix'\n54. 'matrix_cbind'\n55. 'matrix_rbind'\n56. 'matrix1'\n57. 'matrix2'\n58. 'matrix3'\n59. 'mean_value'\n60. 'months'\n61. 'mtcars'\n62. 'my_list'\n63. 'N'\n64. 'na_count'\n65. 'name'\n66. 'num'\n67. 'numbers'\n68. 'numbers1'\n69. 'numbers2'\n70. 'numbers3'\n71. 'numbers4'\n72. 'p'\n73. 'P'\n74. 'piepercent'\n75. 'product'\n76. 'q'\n77. 'quotient'\n78. 'raw_code'\n79. 'record'\n80. 'regions'\n81. 'result'\n82. 'right_outer_join'\n83. 'row_means'\n84. 'row_sums'\n85. 'rows'\n86. 'stats'\n87. 'str'\n88. 'str_comma'\n89. 'str_trim'\n90. 'str_underscore'\n91. 'string'\n92. 'student'\n93. 'student_data'\n94. 'students'\n95. 'sum'\n96. 'temperature'\n97. 'text'\n98. 'third_element'\n99. 'upper_quartile'\n100. 'v'\n101. 'values'\n102. 'vec'\n103. 'vec1'\n104. 'vec2'\n105. 'vec3'\n106. 'weather'\n107. 'x'\n108. 'x1'\n109. 'y'\n110. 'y1'\n111. 'z'\n\n\n",
            "text/latex": "\\begin{enumerate*}\n\\item 'a'\n\\item 'A'\n\\item 'ab'\n\\item 'airquality'\n\\item 'arr'\n\\item 'b'\n\\item 'B'\n\\item 'bool'\n\\item 'c'\n\\item 'C'\n\\item 'char'\n\\item 'char\\_string'\n\\item 'col\\_means'\n\\item 'col\\_sums'\n\\item 'colors'\n\\item 'cols'\n\\item 'combined\\_list'\n\\item 'cross\\_join'\n\\item 'csv\\_file'\n\\item 'd'\n\\item 'D'\n\\item 'data'\n\\item 'data1'\n\\item 'data2'\n\\item 'Date\\_Values'\n\\item 'Deptinfo'\n\\item 'df'\n\\item 'df1'\n\\item 'df2'\n\\item 'difference'\n\\item 'e'\n\\item 'Empinfo'\n\\item 'employee'\n\\item 'f'\n\\item 'factor\\_var'\n\\item 'fib'\n\\item 'filtered\\_students'\n\\item 'first\\_name'\n\\item 'fruits'\n\\item 'full\\_name'\n\\item 'i'\n\\item 'inner\\_join'\n\\item 'j'\n\\item 'k'\n\\item 'labels'\n\\item 'last\\_name'\n\\item 'list1'\n\\item 'list2'\n\\item 'list3'\n\\item 'logical\\_and'\n\\item 'logical\\_or'\n\\item 'mat'\n\\item 'matrix'\n\\item 'matrix\\_cbind'\n\\item 'matrix\\_rbind'\n\\item 'matrix1'\n\\item 'matrix2'\n\\item 'matrix3'\n\\item 'mean\\_value'\n\\item 'months'\n\\item 'mtcars'\n\\item 'my\\_list'\n\\item 'N'\n\\item 'na\\_count'\n\\item 'name'\n\\item 'num'\n\\item 'numbers'\n\\item 'numbers1'\n\\item 'numbers2'\n\\item 'numbers3'\n\\item 'numbers4'\n\\item 'p'\n\\item 'P'\n\\item 'piepercent'\n\\item 'product'\n\\item 'q'\n\\item 'quotient'\n\\item 'raw\\_code'\n\\item 'record'\n\\item 'regions'\n\\item 'result'\n\\item 'right\\_outer\\_join'\n\\item 'row\\_means'\n\\item 'row\\_sums'\n\\item 'rows'\n\\item 'stats'\n\\item 'str'\n\\item 'str\\_comma'\n\\item 'str\\_trim'\n\\item 'str\\_underscore'\n\\item 'string'\n\\item 'student'\n\\item 'student\\_data'\n\\item 'students'\n\\item 'sum'\n\\item 'temperature'\n\\item 'text'\n\\item 'third\\_element'\n\\item 'upper\\_quartile'\n\\item 'v'\n\\item 'values'\n\\item 'vec'\n\\item 'vec1'\n\\item 'vec2'\n\\item 'vec3'\n\\item 'weather'\n\\item 'x'\n\\item 'x1'\n\\item 'y'\n\\item 'y1'\n\\item 'z'\n\\end{enumerate*}\n",
            "text/plain": [
              "  [1] \"a\"                 \"A\"                 \"ab\"               \n",
              "  [4] \"airquality\"        \"arr\"               \"b\"                \n",
              "  [7] \"B\"                 \"bool\"              \"c\"                \n",
              " [10] \"C\"                 \"char\"              \"char_string\"      \n",
              " [13] \"col_means\"         \"col_sums\"          \"colors\"           \n",
              " [16] \"cols\"              \"combined_list\"     \"cross_join\"       \n",
              " [19] \"csv_file\"          \"d\"                 \"D\"                \n",
              " [22] \"data\"              \"data1\"             \"data2\"            \n",
              " [25] \"Date_Values\"       \"Deptinfo\"          \"df\"               \n",
              " [28] \"df1\"               \"df2\"               \"difference\"       \n",
              " [31] \"e\"                 \"Empinfo\"           \"employee\"         \n",
              " [34] \"f\"                 \"factor_var\"        \"fib\"              \n",
              " [37] \"filtered_students\" \"first_name\"        \"fruits\"           \n",
              " [40] \"full_name\"         \"i\"                 \"inner_join\"       \n",
              " [43] \"j\"                 \"k\"                 \"labels\"           \n",
              " [46] \"last_name\"         \"list1\"             \"list2\"            \n",
              " [49] \"list3\"             \"logical_and\"       \"logical_or\"       \n",
              " [52] \"mat\"               \"matrix\"            \"matrix_cbind\"     \n",
              " [55] \"matrix_rbind\"      \"matrix1\"           \"matrix2\"          \n",
              " [58] \"matrix3\"           \"mean_value\"        \"months\"           \n",
              " [61] \"mtcars\"            \"my_list\"           \"N\"                \n",
              " [64] \"na_count\"          \"name\"              \"num\"              \n",
              " [67] \"numbers\"           \"numbers1\"          \"numbers2\"         \n",
              " [70] \"numbers3\"          \"numbers4\"          \"p\"                \n",
              " [73] \"P\"                 \"piepercent\"        \"product\"          \n",
              " [76] \"q\"                 \"quotient\"          \"raw_code\"         \n",
              " [79] \"record\"            \"regions\"           \"result\"           \n",
              " [82] \"right_outer_join\"  \"row_means\"         \"row_sums\"         \n",
              " [85] \"rows\"              \"stats\"             \"str\"              \n",
              " [88] \"str_comma\"         \"str_trim\"          \"str_underscore\"   \n",
              " [91] \"string\"            \"student\"           \"student_data\"     \n",
              " [94] \"students\"          \"sum\"               \"temperature\"      \n",
              " [97] \"text\"              \"third_element\"     \"upper_quartile\"   \n",
              "[100] \"v\"                 \"values\"            \"vec\"              \n",
              "[103] \"vec1\"              \"vec2\"              \"vec3\"             \n",
              "[106] \"weather\"           \"x\"                 \"x1\"               \n",
              "[109] \"y\"                 \"y1\"                \"z\"                "
            ]
          },
          "metadata": {}
        },
        {
          "output_type": "stream",
          "name": "stdout",
          "text": [
            "[1] \"vec\"  \"vec1\" \"vec2\" \"vec3\"\n"
          ]
        },
        {
          "output_type": "display_data",
          "data": {
            "text/html": [],
            "text/markdown": "",
            "text/latex": "",
            "text/plain": [
              "character(0)"
            ]
          },
          "metadata": {}
        }
      ]
    },
    {
      "cell_type": "code",
      "source": [
        "# @title Vectors\n",
        "numbers1 <- 1:10\n",
        "numbers1\n",
        "numbers2 <- as.numeric(1.0:5.3)\n",
        "numbers2\n",
        "numbers3 <- as.numeric(1.2:4.2)\n",
        "numbers3\n",
        "numbers4 <- seq(1, 5.3, by = 0.1)\n",
        "numbers4\n",
        "length(numbers1)\n",
        "length(numbers2)\n",
        "length(numbers3)\n",
        "length(numbers4)"
      ],
      "metadata": {
        "colab": {
          "base_uri": "https://localhost:8080/",
          "height": 156
        },
        "id": "lkVSSS9UMEBz",
        "outputId": "ea0aa40a-3f52-43f8-e74d-58298c0bc375"
      },
      "execution_count": null,
      "outputs": [
        {
          "output_type": "display_data",
          "data": {
            "text/html": [
              "<style>\n",
              ".list-inline {list-style: none; margin:0; padding: 0}\n",
              ".list-inline>li {display: inline-block}\n",
              ".list-inline>li:not(:last-child)::after {content: \"\\00b7\"; padding: 0 .5ex}\n",
              "</style>\n",
              "<ol class=list-inline><li>1</li><li>2</li><li>3</li><li>4</li><li>5</li><li>6</li><li>7</li><li>8</li><li>9</li><li>10</li></ol>\n"
            ],
            "text/markdown": "1. 1\n2. 2\n3. 3\n4. 4\n5. 5\n6. 6\n7. 7\n8. 8\n9. 9\n10. 10\n\n\n",
            "text/latex": "\\begin{enumerate*}\n\\item 1\n\\item 2\n\\item 3\n\\item 4\n\\item 5\n\\item 6\n\\item 7\n\\item 8\n\\item 9\n\\item 10\n\\end{enumerate*}\n",
            "text/plain": [
              " [1]  1  2  3  4  5  6  7  8  9 10"
            ]
          },
          "metadata": {}
        },
        {
          "output_type": "display_data",
          "data": {
            "text/html": [
              "<style>\n",
              ".list-inline {list-style: none; margin:0; padding: 0}\n",
              ".list-inline>li {display: inline-block}\n",
              ".list-inline>li:not(:last-child)::after {content: \"\\00b7\"; padding: 0 .5ex}\n",
              "</style>\n",
              "<ol class=list-inline><li>1</li><li>2</li><li>3</li><li>4</li><li>5</li></ol>\n"
            ],
            "text/markdown": "1. 1\n2. 2\n3. 3\n4. 4\n5. 5\n\n\n",
            "text/latex": "\\begin{enumerate*}\n\\item 1\n\\item 2\n\\item 3\n\\item 4\n\\item 5\n\\end{enumerate*}\n",
            "text/plain": [
              "[1] 1 2 3 4 5"
            ]
          },
          "metadata": {}
        },
        {
          "output_type": "display_data",
          "data": {
            "text/html": [
              "<style>\n",
              ".list-inline {list-style: none; margin:0; padding: 0}\n",
              ".list-inline>li {display: inline-block}\n",
              ".list-inline>li:not(:last-child)::after {content: \"\\00b7\"; padding: 0 .5ex}\n",
              "</style>\n",
              "<ol class=list-inline><li>1.2</li><li>2.2</li><li>3.2</li><li>4.2</li></ol>\n"
            ],
            "text/markdown": "1. 1.2\n2. 2.2\n3. 3.2\n4. 4.2\n\n\n",
            "text/latex": "\\begin{enumerate*}\n\\item 1.2\n\\item 2.2\n\\item 3.2\n\\item 4.2\n\\end{enumerate*}\n",
            "text/plain": [
              "[1] 1.2 2.2 3.2 4.2"
            ]
          },
          "metadata": {}
        },
        {
          "output_type": "display_data",
          "data": {
            "text/html": [
              "<style>\n",
              ".list-inline {list-style: none; margin:0; padding: 0}\n",
              ".list-inline>li {display: inline-block}\n",
              ".list-inline>li:not(:last-child)::after {content: \"\\00b7\"; padding: 0 .5ex}\n",
              "</style>\n",
              "<ol class=list-inline><li>1</li><li>1.1</li><li>1.2</li><li>1.3</li><li>1.4</li><li>1.5</li><li>1.6</li><li>1.7</li><li>1.8</li><li>1.9</li><li>2</li><li>2.1</li><li>2.2</li><li>2.3</li><li>2.4</li><li>2.5</li><li>2.6</li><li>2.7</li><li>2.8</li><li>2.9</li><li>3</li><li>3.1</li><li>3.2</li><li>3.3</li><li>3.4</li><li>3.5</li><li>3.6</li><li>3.7</li><li>3.8</li><li>3.9</li><li>4</li><li>4.1</li><li>4.2</li><li>4.3</li><li>4.4</li><li>4.5</li><li>4.6</li><li>4.7</li><li>4.8</li><li>4.9</li><li>5</li><li>5.1</li><li>5.2</li><li>5.3</li></ol>\n"
            ],
            "text/markdown": "1. 1\n2. 1.1\n3. 1.2\n4. 1.3\n5. 1.4\n6. 1.5\n7. 1.6\n8. 1.7\n9. 1.8\n10. 1.9\n11. 2\n12. 2.1\n13. 2.2\n14. 2.3\n15. 2.4\n16. 2.5\n17. 2.6\n18. 2.7\n19. 2.8\n20. 2.9\n21. 3\n22. 3.1\n23. 3.2\n24. 3.3\n25. 3.4\n26. 3.5\n27. 3.6\n28. 3.7\n29. 3.8\n30. 3.9\n31. 4\n32. 4.1\n33. 4.2\n34. 4.3\n35. 4.4\n36. 4.5\n37. 4.6\n38. 4.7\n39. 4.8\n40. 4.9\n41. 5\n42. 5.1\n43. 5.2\n44. 5.3\n\n\n",
            "text/latex": "\\begin{enumerate*}\n\\item 1\n\\item 1.1\n\\item 1.2\n\\item 1.3\n\\item 1.4\n\\item 1.5\n\\item 1.6\n\\item 1.7\n\\item 1.8\n\\item 1.9\n\\item 2\n\\item 2.1\n\\item 2.2\n\\item 2.3\n\\item 2.4\n\\item 2.5\n\\item 2.6\n\\item 2.7\n\\item 2.8\n\\item 2.9\n\\item 3\n\\item 3.1\n\\item 3.2\n\\item 3.3\n\\item 3.4\n\\item 3.5\n\\item 3.6\n\\item 3.7\n\\item 3.8\n\\item 3.9\n\\item 4\n\\item 4.1\n\\item 4.2\n\\item 4.3\n\\item 4.4\n\\item 4.5\n\\item 4.6\n\\item 4.7\n\\item 4.8\n\\item 4.9\n\\item 5\n\\item 5.1\n\\item 5.2\n\\item 5.3\n\\end{enumerate*}\n",
            "text/plain": [
              " [1] 1.0 1.1 1.2 1.3 1.4 1.5 1.6 1.7 1.8 1.9 2.0 2.1 2.2 2.3 2.4 2.5 2.6 2.7 2.8\n",
              "[20] 2.9 3.0 3.1 3.2 3.3 3.4 3.5 3.6 3.7 3.8 3.9 4.0 4.1 4.2 4.3 4.4 4.5 4.6 4.7\n",
              "[39] 4.8 4.9 5.0 5.1 5.2 5.3"
            ]
          },
          "metadata": {}
        },
        {
          "output_type": "display_data",
          "data": {
            "text/html": [
              "10"
            ],
            "text/markdown": "10",
            "text/latex": "10",
            "text/plain": [
              "[1] 10"
            ]
          },
          "metadata": {}
        },
        {
          "output_type": "display_data",
          "data": {
            "text/html": [
              "5"
            ],
            "text/markdown": "5",
            "text/latex": "5",
            "text/plain": [
              "[1] 5"
            ]
          },
          "metadata": {}
        },
        {
          "output_type": "display_data",
          "data": {
            "text/html": [
              "4"
            ],
            "text/markdown": "4",
            "text/latex": "4",
            "text/plain": [
              "[1] 4"
            ]
          },
          "metadata": {}
        },
        {
          "output_type": "display_data",
          "data": {
            "text/html": [
              "44"
            ],
            "text/markdown": "44",
            "text/latex": "44",
            "text/plain": [
              "[1] 44"
            ]
          },
          "metadata": {}
        }
      ]
    },
    {
      "cell_type": "code",
      "source": [
        "# @title Length\n",
        "name = c(\"Apple\", \"Orange\", \"Mango\", NA)\n",
        "length(name)-length(is.null(name))\n",
        "length(na.omit(name))   # Omit null values"
      ],
      "metadata": {
        "colab": {
          "base_uri": "https://localhost:8080/",
          "height": 52
        },
        "id": "emmqRvJgNnZl",
        "outputId": "a0fe001b-6ab0-4e90-ee7c-6b4f69d61dc0"
      },
      "execution_count": null,
      "outputs": [
        {
          "output_type": "display_data",
          "data": {
            "text/html": [
              "3"
            ],
            "text/markdown": "3",
            "text/latex": "3",
            "text/plain": [
              "[1] 3"
            ]
          },
          "metadata": {}
        },
        {
          "output_type": "display_data",
          "data": {
            "text/html": [
              "3"
            ],
            "text/markdown": "3",
            "text/latex": "3",
            "text/plain": [
              "[1] 3"
            ]
          },
          "metadata": {}
        }
      ]
    },
    {
      "cell_type": "code",
      "source": [
        "# @title Accessing vectors in R\n",
        "vec <- c(4, 15, 19)\n",
        "vec[3]  # indexing starts from 1\n",
        "vec[c(1, 3)]\n",
        "vec[1:3]\n",
        "vec[-2]  # access all elements except the second element"
      ],
      "metadata": {
        "colab": {
          "base_uri": "https://localhost:8080/",
          "height": 86
        },
        "id": "RLjDYOotPNLr",
        "outputId": "ce5913fd-3144-487d-9ea9-1a8c867430ad"
      },
      "execution_count": null,
      "outputs": [
        {
          "output_type": "display_data",
          "data": {
            "text/html": [
              "19"
            ],
            "text/markdown": "19",
            "text/latex": "19",
            "text/plain": [
              "[1] 19"
            ]
          },
          "metadata": {}
        },
        {
          "output_type": "display_data",
          "data": {
            "text/html": [
              "<style>\n",
              ".list-inline {list-style: none; margin:0; padding: 0}\n",
              ".list-inline>li {display: inline-block}\n",
              ".list-inline>li:not(:last-child)::after {content: \"\\00b7\"; padding: 0 .5ex}\n",
              "</style>\n",
              "<ol class=list-inline><li>4</li><li>19</li></ol>\n"
            ],
            "text/markdown": "1. 4\n2. 19\n\n\n",
            "text/latex": "\\begin{enumerate*}\n\\item 4\n\\item 19\n\\end{enumerate*}\n",
            "text/plain": [
              "[1]  4 19"
            ]
          },
          "metadata": {}
        },
        {
          "output_type": "display_data",
          "data": {
            "text/html": [
              "<style>\n",
              ".list-inline {list-style: none; margin:0; padding: 0}\n",
              ".list-inline>li {display: inline-block}\n",
              ".list-inline>li:not(:last-child)::after {content: \"\\00b7\"; padding: 0 .5ex}\n",
              "</style>\n",
              "<ol class=list-inline><li>4</li><li>15</li><li>19</li></ol>\n"
            ],
            "text/markdown": "1. 4\n2. 15\n3. 19\n\n\n",
            "text/latex": "\\begin{enumerate*}\n\\item 4\n\\item 15\n\\item 19\n\\end{enumerate*}\n",
            "text/plain": [
              "[1]  4 15 19"
            ]
          },
          "metadata": {}
        },
        {
          "output_type": "display_data",
          "data": {
            "text/html": [
              "<style>\n",
              ".list-inline {list-style: none; margin:0; padding: 0}\n",
              ".list-inline>li {display: inline-block}\n",
              ".list-inline>li:not(:last-child)::after {content: \"\\00b7\"; padding: 0 .5ex}\n",
              "</style>\n",
              "<ol class=list-inline><li>4</li><li>19</li></ol>\n"
            ],
            "text/markdown": "1. 4\n2. 19\n\n\n",
            "text/latex": "\\begin{enumerate*}\n\\item 4\n\\item 19\n\\end{enumerate*}\n",
            "text/plain": [
              "[1]  4 19"
            ]
          },
          "metadata": {}
        }
      ]
    },
    {
      "cell_type": "code",
      "source": [
        "# @title Sorting\n",
        "x <- c(10, 5, 15, 20, 3)\n",
        "sort(x)\n",
        "fruits <- c(\"mango\", \"banana\", \"apple\", \"orange\", \"grapes\")\n",
        "sort(fruits)\n",
        "sort(x, T)"
      ],
      "metadata": {
        "colab": {
          "base_uri": "https://localhost:8080/",
          "height": 69
        },
        "id": "KH7Oc25ERKQN",
        "outputId": "7800aa82-e2fd-45c5-cba9-6d00e7f9dff5"
      },
      "execution_count": null,
      "outputs": [
        {
          "output_type": "display_data",
          "data": {
            "text/html": [
              "<style>\n",
              ".list-inline {list-style: none; margin:0; padding: 0}\n",
              ".list-inline>li {display: inline-block}\n",
              ".list-inline>li:not(:last-child)::after {content: \"\\00b7\"; padding: 0 .5ex}\n",
              "</style>\n",
              "<ol class=list-inline><li>3</li><li>5</li><li>10</li><li>15</li><li>20</li></ol>\n"
            ],
            "text/markdown": "1. 3\n2. 5\n3. 10\n4. 15\n5. 20\n\n\n",
            "text/latex": "\\begin{enumerate*}\n\\item 3\n\\item 5\n\\item 10\n\\item 15\n\\item 20\n\\end{enumerate*}\n",
            "text/plain": [
              "[1]  3  5 10 15 20"
            ]
          },
          "metadata": {}
        },
        {
          "output_type": "display_data",
          "data": {
            "text/html": [
              "<style>\n",
              ".list-inline {list-style: none; margin:0; padding: 0}\n",
              ".list-inline>li {display: inline-block}\n",
              ".list-inline>li:not(:last-child)::after {content: \"\\00b7\"; padding: 0 .5ex}\n",
              "</style>\n",
              "<ol class=list-inline><li>'apple'</li><li>'banana'</li><li>'grapes'</li><li>'mango'</li><li>'orange'</li></ol>\n"
            ],
            "text/markdown": "1. 'apple'\n2. 'banana'\n3. 'grapes'\n4. 'mango'\n5. 'orange'\n\n\n",
            "text/latex": "\\begin{enumerate*}\n\\item 'apple'\n\\item 'banana'\n\\item 'grapes'\n\\item 'mango'\n\\item 'orange'\n\\end{enumerate*}\n",
            "text/plain": [
              "[1] \"apple\"  \"banana\" \"grapes\" \"mango\"  \"orange\""
            ]
          },
          "metadata": {}
        },
        {
          "output_type": "display_data",
          "data": {
            "text/html": [
              "<style>\n",
              ".list-inline {list-style: none; margin:0; padding: 0}\n",
              ".list-inline>li {display: inline-block}\n",
              ".list-inline>li:not(:last-child)::after {content: \"\\00b7\"; padding: 0 .5ex}\n",
              "</style>\n",
              "<ol class=list-inline><li>20</li><li>15</li><li>10</li><li>5</li><li>3</li></ol>\n"
            ],
            "text/markdown": "1. 20\n2. 15\n3. 10\n4. 5\n5. 3\n\n\n",
            "text/latex": "\\begin{enumerate*}\n\\item 20\n\\item 15\n\\item 10\n\\item 5\n\\item 3\n\\end{enumerate*}\n",
            "text/plain": [
              "[1] 20 15 10  5  3"
            ]
          },
          "metadata": {}
        }
      ]
    },
    {
      "cell_type": "code",
      "source": [
        "# @title Repeating Vectors\n",
        "rep(c(1,2,3), each = 3)\n",
        "rep(c(1,2,3), times = 3)\n",
        "rep(c(1,2,3), times = c(4,5,6))\n",
        "rep(c(1,2,3), c(4,5,6))\n",
        "rep(c(1,2,3), 4)"
      ],
      "metadata": {
        "colab": {
          "base_uri": "https://localhost:8080/",
          "height": 104
        },
        "id": "ajN8ohqKR78U",
        "outputId": "f76c0969-9efa-41e2-d4f6-f5d438d2542a"
      },
      "execution_count": null,
      "outputs": [
        {
          "output_type": "display_data",
          "data": {
            "text/html": [
              "<style>\n",
              ".list-inline {list-style: none; margin:0; padding: 0}\n",
              ".list-inline>li {display: inline-block}\n",
              ".list-inline>li:not(:last-child)::after {content: \"\\00b7\"; padding: 0 .5ex}\n",
              "</style>\n",
              "<ol class=list-inline><li>1</li><li>1</li><li>1</li><li>2</li><li>2</li><li>2</li><li>3</li><li>3</li><li>3</li></ol>\n"
            ],
            "text/markdown": "1. 1\n2. 1\n3. 1\n4. 2\n5. 2\n6. 2\n7. 3\n8. 3\n9. 3\n\n\n",
            "text/latex": "\\begin{enumerate*}\n\\item 1\n\\item 1\n\\item 1\n\\item 2\n\\item 2\n\\item 2\n\\item 3\n\\item 3\n\\item 3\n\\end{enumerate*}\n",
            "text/plain": [
              "[1] 1 1 1 2 2 2 3 3 3"
            ]
          },
          "metadata": {}
        },
        {
          "output_type": "display_data",
          "data": {
            "text/html": [
              "<style>\n",
              ".list-inline {list-style: none; margin:0; padding: 0}\n",
              ".list-inline>li {display: inline-block}\n",
              ".list-inline>li:not(:last-child)::after {content: \"\\00b7\"; padding: 0 .5ex}\n",
              "</style>\n",
              "<ol class=list-inline><li>1</li><li>2</li><li>3</li><li>1</li><li>2</li><li>3</li><li>1</li><li>2</li><li>3</li></ol>\n"
            ],
            "text/markdown": "1. 1\n2. 2\n3. 3\n4. 1\n5. 2\n6. 3\n7. 1\n8. 2\n9. 3\n\n\n",
            "text/latex": "\\begin{enumerate*}\n\\item 1\n\\item 2\n\\item 3\n\\item 1\n\\item 2\n\\item 3\n\\item 1\n\\item 2\n\\item 3\n\\end{enumerate*}\n",
            "text/plain": [
              "[1] 1 2 3 1 2 3 1 2 3"
            ]
          },
          "metadata": {}
        },
        {
          "output_type": "display_data",
          "data": {
            "text/html": [
              "<style>\n",
              ".list-inline {list-style: none; margin:0; padding: 0}\n",
              ".list-inline>li {display: inline-block}\n",
              ".list-inline>li:not(:last-child)::after {content: \"\\00b7\"; padding: 0 .5ex}\n",
              "</style>\n",
              "<ol class=list-inline><li>1</li><li>1</li><li>1</li><li>1</li><li>2</li><li>2</li><li>2</li><li>2</li><li>2</li><li>3</li><li>3</li><li>3</li><li>3</li><li>3</li><li>3</li></ol>\n"
            ],
            "text/markdown": "1. 1\n2. 1\n3. 1\n4. 1\n5. 2\n6. 2\n7. 2\n8. 2\n9. 2\n10. 3\n11. 3\n12. 3\n13. 3\n14. 3\n15. 3\n\n\n",
            "text/latex": "\\begin{enumerate*}\n\\item 1\n\\item 1\n\\item 1\n\\item 1\n\\item 2\n\\item 2\n\\item 2\n\\item 2\n\\item 2\n\\item 3\n\\item 3\n\\item 3\n\\item 3\n\\item 3\n\\item 3\n\\end{enumerate*}\n",
            "text/plain": [
              " [1] 1 1 1 1 2 2 2 2 2 3 3 3 3 3 3"
            ]
          },
          "metadata": {}
        },
        {
          "output_type": "display_data",
          "data": {
            "text/html": [
              "<style>\n",
              ".list-inline {list-style: none; margin:0; padding: 0}\n",
              ".list-inline>li {display: inline-block}\n",
              ".list-inline>li:not(:last-child)::after {content: \"\\00b7\"; padding: 0 .5ex}\n",
              "</style>\n",
              "<ol class=list-inline><li>1</li><li>1</li><li>1</li><li>1</li><li>2</li><li>2</li><li>2</li><li>2</li><li>2</li><li>3</li><li>3</li><li>3</li><li>3</li><li>3</li><li>3</li></ol>\n"
            ],
            "text/markdown": "1. 1\n2. 1\n3. 1\n4. 1\n5. 2\n6. 2\n7. 2\n8. 2\n9. 2\n10. 3\n11. 3\n12. 3\n13. 3\n14. 3\n15. 3\n\n\n",
            "text/latex": "\\begin{enumerate*}\n\\item 1\n\\item 1\n\\item 1\n\\item 1\n\\item 2\n\\item 2\n\\item 2\n\\item 2\n\\item 2\n\\item 3\n\\item 3\n\\item 3\n\\item 3\n\\item 3\n\\item 3\n\\end{enumerate*}\n",
            "text/plain": [
              " [1] 1 1 1 1 2 2 2 2 2 3 3 3 3 3 3"
            ]
          },
          "metadata": {}
        },
        {
          "output_type": "display_data",
          "data": {
            "text/html": [
              "<style>\n",
              ".list-inline {list-style: none; margin:0; padding: 0}\n",
              ".list-inline>li {display: inline-block}\n",
              ".list-inline>li:not(:last-child)::after {content: \"\\00b7\"; padding: 0 .5ex}\n",
              "</style>\n",
              "<ol class=list-inline><li>1</li><li>2</li><li>3</li><li>1</li><li>2</li><li>3</li><li>1</li><li>2</li><li>3</li><li>1</li><li>2</li><li>3</li></ol>\n"
            ],
            "text/markdown": "1. 1\n2. 2\n3. 3\n4. 1\n5. 2\n6. 3\n7. 1\n8. 2\n9. 3\n10. 1\n11. 2\n12. 3\n\n\n",
            "text/latex": "\\begin{enumerate*}\n\\item 1\n\\item 2\n\\item 3\n\\item 1\n\\item 2\n\\item 3\n\\item 1\n\\item 2\n\\item 3\n\\item 1\n\\item 2\n\\item 3\n\\end{enumerate*}\n",
            "text/plain": [
              " [1] 1 2 3 1 2 3 1 2 3 1 2 3"
            ]
          },
          "metadata": {}
        }
      ]
    },
    {
      "cell_type": "code",
      "source": [
        "# @title Naming vectors\n",
        "x <- c(1, 2, 3, 4, 5)\n",
        "names(x) <- c(\"a\", \"b\", \"c\", \"d\", \"e\")\n",
        "x"
      ],
      "metadata": {
        "colab": {
          "base_uri": "https://localhost:8080/",
          "height": 34
        },
        "id": "A8BqzwNEUUgr",
        "outputId": "1d60a6ba-f62d-46ab-8a74-2a20d8748109"
      },
      "execution_count": null,
      "outputs": [
        {
          "output_type": "display_data",
          "data": {
            "text/html": [
              "<style>\n",
              ".dl-inline {width: auto; margin:0; padding: 0}\n",
              ".dl-inline>dt, .dl-inline>dd {float: none; width: auto; display: inline-block}\n",
              ".dl-inline>dt::after {content: \":\\0020\"; padding-right: .5ex}\n",
              ".dl-inline>dt:not(:first-of-type) {padding-left: .5ex}\n",
              "</style><dl class=dl-inline><dt>a</dt><dd>1</dd><dt>b</dt><dd>2</dd><dt>c</dt><dd>3</dd><dt>d</dt><dd>4</dd><dt>e</dt><dd>5</dd></dl>\n"
            ],
            "text/markdown": "a\n:   1b\n:   2c\n:   3d\n:   4e\n:   5\n\n",
            "text/latex": "\\begin{description*}\n\\item[a] 1\n\\item[b] 2\n\\item[c] 3\n\\item[d] 4\n\\item[e] 5\n\\end{description*}\n",
            "text/plain": [
              "a b c d e \n",
              "1 2 3 4 5 "
            ]
          },
          "metadata": {}
        }
      ]
    },
    {
      "cell_type": "code",
      "source": [
        "# @title Vector Maths\n",
        "vec1 <- c(4, 15, 19)\n",
        "vec2 <- c(10, 100, 20)\n",
        "vec1 + vec2  # Addition\n",
        "vec1 - vec2  # Subtraction\n",
        "vec1 * vec2  # Multiplication\n",
        "vec1 / vec2  # Division\n",
        "vec1 ** vec2 # Exponentiation"
      ],
      "metadata": {
        "colab": {
          "base_uri": "https://localhost:8080/",
          "height": 104
        },
        "id": "kN3YLu40VFCs",
        "outputId": "295e9d4f-6c9e-4e60-db82-426a0309af3e"
      },
      "execution_count": null,
      "outputs": [
        {
          "output_type": "display_data",
          "data": {
            "text/html": [
              "<style>\n",
              ".list-inline {list-style: none; margin:0; padding: 0}\n",
              ".list-inline>li {display: inline-block}\n",
              ".list-inline>li:not(:last-child)::after {content: \"\\00b7\"; padding: 0 .5ex}\n",
              "</style>\n",
              "<ol class=list-inline><li>14</li><li>115</li><li>39</li></ol>\n"
            ],
            "text/markdown": "1. 14\n2. 115\n3. 39\n\n\n",
            "text/latex": "\\begin{enumerate*}\n\\item 14\n\\item 115\n\\item 39\n\\end{enumerate*}\n",
            "text/plain": [
              "[1]  14 115  39"
            ]
          },
          "metadata": {}
        },
        {
          "output_type": "display_data",
          "data": {
            "text/html": [
              "<style>\n",
              ".list-inline {list-style: none; margin:0; padding: 0}\n",
              ".list-inline>li {display: inline-block}\n",
              ".list-inline>li:not(:last-child)::after {content: \"\\00b7\"; padding: 0 .5ex}\n",
              "</style>\n",
              "<ol class=list-inline><li>-6</li><li>-85</li><li>-1</li></ol>\n"
            ],
            "text/markdown": "1. -6\n2. -85\n3. -1\n\n\n",
            "text/latex": "\\begin{enumerate*}\n\\item -6\n\\item -85\n\\item -1\n\\end{enumerate*}\n",
            "text/plain": [
              "[1]  -6 -85  -1"
            ]
          },
          "metadata": {}
        },
        {
          "output_type": "display_data",
          "data": {
            "text/html": [
              "<style>\n",
              ".list-inline {list-style: none; margin:0; padding: 0}\n",
              ".list-inline>li {display: inline-block}\n",
              ".list-inline>li:not(:last-child)::after {content: \"\\00b7\"; padding: 0 .5ex}\n",
              "</style>\n",
              "<ol class=list-inline><li>40</li><li>1500</li><li>380</li></ol>\n"
            ],
            "text/markdown": "1. 40\n2. 1500\n3. 380\n\n\n",
            "text/latex": "\\begin{enumerate*}\n\\item 40\n\\item 1500\n\\item 380\n\\end{enumerate*}\n",
            "text/plain": [
              "[1]   40 1500  380"
            ]
          },
          "metadata": {}
        },
        {
          "output_type": "display_data",
          "data": {
            "text/html": [
              "<style>\n",
              ".list-inline {list-style: none; margin:0; padding: 0}\n",
              ".list-inline>li {display: inline-block}\n",
              ".list-inline>li:not(:last-child)::after {content: \"\\00b7\"; padding: 0 .5ex}\n",
              "</style>\n",
              "<ol class=list-inline><li>0.4</li><li>0.15</li><li>0.95</li></ol>\n"
            ],
            "text/markdown": "1. 0.4\n2. 0.15\n3. 0.95\n\n\n",
            "text/latex": "\\begin{enumerate*}\n\\item 0.4\n\\item 0.15\n\\item 0.95\n\\end{enumerate*}\n",
            "text/plain": [
              "[1] 0.40 0.15 0.95"
            ]
          },
          "metadata": {}
        },
        {
          "output_type": "display_data",
          "data": {
            "text/html": [
              "<style>\n",
              ".list-inline {list-style: none; margin:0; padding: 0}\n",
              ".list-inline>li {display: inline-block}\n",
              ".list-inline>li:not(:last-child)::after {content: \"\\00b7\"; padding: 0 .5ex}\n",
              "</style>\n",
              "<ol class=list-inline><li>1048576</li><li>4.06561177535215e+117</li><li>3.7589973457546e+25</li></ol>\n"
            ],
            "text/markdown": "1. 1048576\n2. 4.06561177535215e+117\n3. 3.7589973457546e+25\n\n\n",
            "text/latex": "\\begin{enumerate*}\n\\item 1048576\n\\item 4.06561177535215e+117\n\\item 3.7589973457546e+25\n\\end{enumerate*}\n",
            "text/plain": [
              "[1]  1.048576e+06 4.065612e+117  3.758997e+25"
            ]
          },
          "metadata": {}
        }
      ]
    },
    {
      "cell_type": "code",
      "source": [
        "# @title List\n",
        "my_list <- list(\"apple\", 10, TRUE)\n",
        "my_list\n",
        "\n",
        "my_list[2]  # Access the second element\n",
        "length(my_list)\n",
        "\n",
        "\"apple\" %in% my_list  # Check if elemnt is present in list\n",
        "\n",
        "my_list = append(my_list, \"orange\", after = 2)  # Adding at speciic position\n",
        "my_list\n",
        "\n",
        "my_list[2] <- NULL  # Remove the second element\n",
        "my_list"
      ],
      "metadata": {
        "colab": {
          "base_uri": "https://localhost:8080/",
          "height": 327
        },
        "id": "h86y-a_Cni9B",
        "outputId": "e21d15ae-54ba-4ede-b2a5-7c8824000571"
      },
      "execution_count": null,
      "outputs": [
        {
          "output_type": "display_data",
          "data": {
            "text/html": [
              "<ol>\n",
              "\t<li>'apple'</li>\n",
              "\t<li>10</li>\n",
              "\t<li>TRUE</li>\n",
              "</ol>\n"
            ],
            "text/markdown": "1. 'apple'\n2. 10\n3. TRUE\n\n\n",
            "text/latex": "\\begin{enumerate}\n\\item 'apple'\n\\item 10\n\\item TRUE\n\\end{enumerate}\n",
            "text/plain": [
              "[[1]]\n",
              "[1] \"apple\"\n",
              "\n",
              "[[2]]\n",
              "[1] 10\n",
              "\n",
              "[[3]]\n",
              "[1] TRUE\n"
            ]
          },
          "metadata": {}
        },
        {
          "output_type": "display_data",
          "data": {
            "text/html": [
              "<ol>\n",
              "\t<li>10</li>\n",
              "</ol>\n"
            ],
            "text/markdown": "1. 10\n\n\n",
            "text/latex": "\\begin{enumerate}\n\\item 10\n\\end{enumerate}\n",
            "text/plain": [
              "[[1]]\n",
              "[1] 10\n"
            ]
          },
          "metadata": {}
        },
        {
          "output_type": "display_data",
          "data": {
            "text/html": [
              "3"
            ],
            "text/markdown": "3",
            "text/latex": "3",
            "text/plain": [
              "[1] 3"
            ]
          },
          "metadata": {}
        },
        {
          "output_type": "display_data",
          "data": {
            "text/html": [
              "TRUE"
            ],
            "text/markdown": "TRUE",
            "text/latex": "TRUE",
            "text/plain": [
              "[1] TRUE"
            ]
          },
          "metadata": {}
        },
        {
          "output_type": "display_data",
          "data": {
            "text/html": [
              "<ol>\n",
              "\t<li>'apple'</li>\n",
              "\t<li>10</li>\n",
              "\t<li>'orange'</li>\n",
              "\t<li>TRUE</li>\n",
              "</ol>\n"
            ],
            "text/markdown": "1. 'apple'\n2. 10\n3. 'orange'\n4. TRUE\n\n\n",
            "text/latex": "\\begin{enumerate}\n\\item 'apple'\n\\item 10\n\\item 'orange'\n\\item TRUE\n\\end{enumerate}\n",
            "text/plain": [
              "[[1]]\n",
              "[1] \"apple\"\n",
              "\n",
              "[[2]]\n",
              "[1] 10\n",
              "\n",
              "[[3]]\n",
              "[1] \"orange\"\n",
              "\n",
              "[[4]]\n",
              "[1] TRUE\n"
            ]
          },
          "metadata": {}
        },
        {
          "output_type": "display_data",
          "data": {
            "text/html": [
              "<ol>\n",
              "\t<li>'apple'</li>\n",
              "\t<li>'orange'</li>\n",
              "\t<li>TRUE</li>\n",
              "</ol>\n"
            ],
            "text/markdown": "1. 'apple'\n2. 'orange'\n3. TRUE\n\n\n",
            "text/latex": "\\begin{enumerate}\n\\item 'apple'\n\\item 'orange'\n\\item TRUE\n\\end{enumerate}\n",
            "text/plain": [
              "[[1]]\n",
              "[1] \"apple\"\n",
              "\n",
              "[[2]]\n",
              "[1] \"orange\"\n",
              "\n",
              "[[3]]\n",
              "[1] TRUE\n"
            ]
          },
          "metadata": {}
        }
      ]
    },
    {
      "cell_type": "code",
      "source": [
        "# @title Joining List\n",
        "list1 <- list(\"apple\", \"banana\", \"mango\")\n",
        "list2 <- list(\"orange\", \"grapes\", \"papaya\")\n",
        "list3 <- list(1,2,3)\n",
        "combined_list <- c(list1, list2, list3)\n",
        "combined_list"
      ],
      "metadata": {
        "colab": {
          "base_uri": "https://localhost:8080/",
          "height": 201
        },
        "id": "1wipkEscq6g5",
        "outputId": "b5acf5e0-98a8-4eb6-ad32-ffcd6bbbee40"
      },
      "execution_count": null,
      "outputs": [
        {
          "output_type": "display_data",
          "data": {
            "text/html": [
              "<ol>\n",
              "\t<li>'apple'</li>\n",
              "\t<li>'banana'</li>\n",
              "\t<li>'mango'</li>\n",
              "\t<li>'orange'</li>\n",
              "\t<li>'grapes'</li>\n",
              "\t<li>'papaya'</li>\n",
              "\t<li>1</li>\n",
              "\t<li>2</li>\n",
              "\t<li>3</li>\n",
              "</ol>\n"
            ],
            "text/markdown": "1. 'apple'\n2. 'banana'\n3. 'mango'\n4. 'orange'\n5. 'grapes'\n6. 'papaya'\n7. 1\n8. 2\n9. 3\n\n\n",
            "text/latex": "\\begin{enumerate}\n\\item 'apple'\n\\item 'banana'\n\\item 'mango'\n\\item 'orange'\n\\item 'grapes'\n\\item 'papaya'\n\\item 1\n\\item 2\n\\item 3\n\\end{enumerate}\n",
            "text/plain": [
              "[[1]]\n",
              "[1] \"apple\"\n",
              "\n",
              "[[2]]\n",
              "[1] \"banana\"\n",
              "\n",
              "[[3]]\n",
              "[1] \"mango\"\n",
              "\n",
              "[[4]]\n",
              "[1] \"orange\"\n",
              "\n",
              "[[5]]\n",
              "[1] \"grapes\"\n",
              "\n",
              "[[6]]\n",
              "[1] \"papaya\"\n",
              "\n",
              "[[7]]\n",
              "[1] 1\n",
              "\n",
              "[[8]]\n",
              "[1] 2\n",
              "\n",
              "[[9]]\n",
              "[1] 3\n"
            ]
          },
          "metadata": {}
        }
      ]
    },
    {
      "cell_type": "code",
      "source": [
        "# @title Fibonacci using List\n",
        "fib <- list(0, 1)\n",
        "for (i in 3:10) {\n",
        "  num <- fib[[i-1]] + fib[[i-2]]\n",
        "  fib = c(fib , num)\n",
        "}\n",
        "fib"
      ],
      "metadata": {
        "colab": {
          "base_uri": "https://localhost:8080/",
          "height": 219
        },
        "id": "3OQ7CQOrrqRI",
        "outputId": "23afafe5-c7c3-45b0-9951-b8bcde36d5b2"
      },
      "execution_count": null,
      "outputs": [
        {
          "output_type": "display_data",
          "data": {
            "text/html": [
              "<ol>\n",
              "\t<li>0</li>\n",
              "\t<li>1</li>\n",
              "\t<li>1</li>\n",
              "\t<li>2</li>\n",
              "\t<li>3</li>\n",
              "\t<li>5</li>\n",
              "\t<li>8</li>\n",
              "\t<li>13</li>\n",
              "\t<li>21</li>\n",
              "\t<li>34</li>\n",
              "</ol>\n"
            ],
            "text/markdown": "1. 0\n2. 1\n3. 1\n4. 2\n5. 3\n6. 5\n7. 8\n8. 13\n9. 21\n10. 34\n\n\n",
            "text/latex": "\\begin{enumerate}\n\\item 0\n\\item 1\n\\item 1\n\\item 2\n\\item 3\n\\item 5\n\\item 8\n\\item 13\n\\item 21\n\\item 34\n\\end{enumerate}\n",
            "text/plain": [
              "[[1]]\n",
              "[1] 0\n",
              "\n",
              "[[2]]\n",
              "[1] 1\n",
              "\n",
              "[[3]]\n",
              "[1] 1\n",
              "\n",
              "[[4]]\n",
              "[1] 2\n",
              "\n",
              "[[5]]\n",
              "[1] 3\n",
              "\n",
              "[[6]]\n",
              "[1] 5\n",
              "\n",
              "[[7]]\n",
              "[1] 8\n",
              "\n",
              "[[8]]\n",
              "[1] 13\n",
              "\n",
              "[[9]]\n",
              "[1] 21\n",
              "\n",
              "[[10]]\n",
              "[1] 34\n"
            ]
          },
          "metadata": {}
        }
      ]
    },
    {
      "cell_type": "code",
      "source": [
        "# @title Matrix\n",
        "mat <- matrix(c(1, 2, 3, 4, 5, 6, 7, 8, 9), nrow = 3 , ncol = 3)  # Create a matrix\n",
        "print(mat)\n",
        "\n",
        "cat(\"\\n\")\n",
        "mat[2,1] # Accesing element\n",
        "mat[2,]  # Accesing entire row\n",
        "mat[,2]  # Accessing entire column\n",
        "cat(\"\\n\")\n",
        "mat[2:3,2:3] # Accessing sub-Matrix\n",
        "cat(\"\\n\")\n",
        "\n",
        "rows <- c(\"row1\", \"row2\", \"row3\")\n",
        "cols <- c(\"col1\", \"col2\")\n",
        "matrix(c(1, 2, 3, 4, 5, 6), nrow = 3, ncol = 2, byrow = T, dimnames = list(rows, cols))  # Create a matrix filling row wise , byrow = False -> Tranpose"
      ],
      "metadata": {
        "colab": {
          "base_uri": "https://localhost:8080/",
          "height": 501
        },
        "id": "bJw_Y5zTtEXa",
        "outputId": "85939c59-268b-437f-bbed-f4d081af1644"
      },
      "execution_count": null,
      "outputs": [
        {
          "output_type": "stream",
          "name": "stdout",
          "text": [
            "     [,1] [,2] [,3]\n",
            "[1,]    1    4    7\n",
            "[2,]    2    5    8\n",
            "[3,]    3    6    9\n",
            "\n"
          ]
        },
        {
          "output_type": "display_data",
          "data": {
            "text/html": [
              "2"
            ],
            "text/markdown": "2",
            "text/latex": "2",
            "text/plain": [
              "[1] 2"
            ]
          },
          "metadata": {}
        },
        {
          "output_type": "display_data",
          "data": {
            "text/html": [
              "<style>\n",
              ".list-inline {list-style: none; margin:0; padding: 0}\n",
              ".list-inline>li {display: inline-block}\n",
              ".list-inline>li:not(:last-child)::after {content: \"\\00b7\"; padding: 0 .5ex}\n",
              "</style>\n",
              "<ol class=list-inline><li>2</li><li>5</li><li>8</li></ol>\n"
            ],
            "text/markdown": "1. 2\n2. 5\n3. 8\n\n\n",
            "text/latex": "\\begin{enumerate*}\n\\item 2\n\\item 5\n\\item 8\n\\end{enumerate*}\n",
            "text/plain": [
              "[1] 2 5 8"
            ]
          },
          "metadata": {}
        },
        {
          "output_type": "display_data",
          "data": {
            "text/html": [
              "<style>\n",
              ".list-inline {list-style: none; margin:0; padding: 0}\n",
              ".list-inline>li {display: inline-block}\n",
              ".list-inline>li:not(:last-child)::after {content: \"\\00b7\"; padding: 0 .5ex}\n",
              "</style>\n",
              "<ol class=list-inline><li>4</li><li>5</li><li>6</li></ol>\n"
            ],
            "text/markdown": "1. 4\n2. 5\n3. 6\n\n\n",
            "text/latex": "\\begin{enumerate*}\n\\item 4\n\\item 5\n\\item 6\n\\end{enumerate*}\n",
            "text/plain": [
              "[1] 4 5 6"
            ]
          },
          "metadata": {}
        },
        {
          "output_type": "stream",
          "name": "stdout",
          "text": [
            "\n"
          ]
        },
        {
          "output_type": "display_data",
          "data": {
            "text/html": [
              "<table class=\"dataframe\">\n",
              "<caption>A matrix: 2 × 2 of type dbl</caption>\n",
              "<tbody>\n",
              "\t<tr><td>5</td><td>8</td></tr>\n",
              "\t<tr><td>6</td><td>9</td></tr>\n",
              "</tbody>\n",
              "</table>\n"
            ],
            "text/markdown": "\nA matrix: 2 × 2 of type dbl\n\n| 5 | 8 |\n| 6 | 9 |\n\n",
            "text/latex": "A matrix: 2 × 2 of type dbl\n\\begin{tabular}{ll}\n\t 5 & 8\\\\\n\t 6 & 9\\\\\n\\end{tabular}\n",
            "text/plain": [
              "     [,1] [,2]\n",
              "[1,] 5    8   \n",
              "[2,] 6    9   "
            ]
          },
          "metadata": {}
        },
        {
          "output_type": "stream",
          "name": "stdout",
          "text": [
            "\n"
          ]
        },
        {
          "output_type": "display_data",
          "data": {
            "text/html": [
              "<table class=\"dataframe\">\n",
              "<caption>A matrix: 3 × 2 of type dbl</caption>\n",
              "<thead>\n",
              "\t<tr><th></th><th scope=col>col1</th><th scope=col>col2</th></tr>\n",
              "</thead>\n",
              "<tbody>\n",
              "\t<tr><th scope=row>row1</th><td>1</td><td>2</td></tr>\n",
              "\t<tr><th scope=row>row2</th><td>3</td><td>4</td></tr>\n",
              "\t<tr><th scope=row>row3</th><td>5</td><td>6</td></tr>\n",
              "</tbody>\n",
              "</table>\n"
            ],
            "text/markdown": "\nA matrix: 3 × 2 of type dbl\n\n| <!--/--> | col1 | col2 |\n|---|---|---|\n| row1 | 1 | 2 |\n| row2 | 3 | 4 |\n| row3 | 5 | 6 |\n\n",
            "text/latex": "A matrix: 3 × 2 of type dbl\n\\begin{tabular}{r|ll}\n  & col1 & col2\\\\\n\\hline\n\trow1 & 1 & 2\\\\\n\trow2 & 3 & 4\\\\\n\trow3 & 5 & 6\\\\\n\\end{tabular}\n",
            "text/plain": [
              "     col1 col2\n",
              "row1 1    2   \n",
              "row2 3    4   \n",
              "row3 5    6   "
            ]
          },
          "metadata": {}
        }
      ]
    },
    {
      "cell_type": "code",
      "source": [
        "# @title Matrix Using Vectors\n",
        "vec1 <- c(1, 2, 3)\n",
        "vec2 <- c(4, 5, 6)\n",
        "vec3 <- c(7, 8, 9)\n",
        "\n",
        "# Rbind\n",
        "matrix_rbind <- rbind(vec1, vec2, vec3)\n",
        "matrix_rbind\n",
        "cat(\"\\n\")\n",
        "\n",
        "# Cbind\n",
        "matrix_cbind <- cbind(vec1, vec2, vec3)\n",
        "matrix_cbind\n",
        "cat(\"\\n\")\n",
        "\n",
        "vec <- 1:9\n",
        "dim(vec) <- c(3,3)\n",
        "print(vec)"
      ],
      "metadata": {
        "colab": {
          "base_uri": "https://localhost:8080/",
          "height": 411
        },
        "id": "8zuQXa6Uv0zb",
        "outputId": "c06d90f4-741e-459d-ab83-4c8de94a368f"
      },
      "execution_count": null,
      "outputs": [
        {
          "output_type": "display_data",
          "data": {
            "text/html": [
              "<table class=\"dataframe\">\n",
              "<caption>A matrix: 3 × 3 of type dbl</caption>\n",
              "<tbody>\n",
              "\t<tr><th scope=row>vec1</th><td>1</td><td>2</td><td>3</td></tr>\n",
              "\t<tr><th scope=row>vec2</th><td>4</td><td>5</td><td>6</td></tr>\n",
              "\t<tr><th scope=row>vec3</th><td>7</td><td>8</td><td>9</td></tr>\n",
              "</tbody>\n",
              "</table>\n"
            ],
            "text/markdown": "\nA matrix: 3 × 3 of type dbl\n\n| vec1 | 1 | 2 | 3 |\n| vec2 | 4 | 5 | 6 |\n| vec3 | 7 | 8 | 9 |\n\n",
            "text/latex": "A matrix: 3 × 3 of type dbl\n\\begin{tabular}{r|lll}\n\tvec1 & 1 & 2 & 3\\\\\n\tvec2 & 4 & 5 & 6\\\\\n\tvec3 & 7 & 8 & 9\\\\\n\\end{tabular}\n",
            "text/plain": [
              "     [,1] [,2] [,3]\n",
              "vec1 1    2    3   \n",
              "vec2 4    5    6   \n",
              "vec3 7    8    9   "
            ]
          },
          "metadata": {}
        },
        {
          "output_type": "stream",
          "name": "stdout",
          "text": [
            "\n"
          ]
        },
        {
          "output_type": "display_data",
          "data": {
            "text/html": [
              "<table class=\"dataframe\">\n",
              "<caption>A matrix: 3 × 3 of type dbl</caption>\n",
              "<thead>\n",
              "\t<tr><th scope=col>vec1</th><th scope=col>vec2</th><th scope=col>vec3</th></tr>\n",
              "</thead>\n",
              "<tbody>\n",
              "\t<tr><td>1</td><td>4</td><td>7</td></tr>\n",
              "\t<tr><td>2</td><td>5</td><td>8</td></tr>\n",
              "\t<tr><td>3</td><td>6</td><td>9</td></tr>\n",
              "</tbody>\n",
              "</table>\n"
            ],
            "text/markdown": "\nA matrix: 3 × 3 of type dbl\n\n| vec1 | vec2 | vec3 |\n|---|---|---|\n| 1 | 4 | 7 |\n| 2 | 5 | 8 |\n| 3 | 6 | 9 |\n\n",
            "text/latex": "A matrix: 3 × 3 of type dbl\n\\begin{tabular}{lll}\n vec1 & vec2 & vec3\\\\\n\\hline\n\t 1 & 4 & 7\\\\\n\t 2 & 5 & 8\\\\\n\t 3 & 6 & 9\\\\\n\\end{tabular}\n",
            "text/plain": [
              "     vec1 vec2 vec3\n",
              "[1,] 1    4    7   \n",
              "[2,] 2    5    8   \n",
              "[3,] 3    6    9   "
            ]
          },
          "metadata": {}
        },
        {
          "output_type": "stream",
          "name": "stdout",
          "text": [
            "\n",
            "     [,1] [,2] [,3]\n",
            "[1,]    1    4    7\n",
            "[2,]    2    5    8\n",
            "[3,]    3    6    9\n"
          ]
        }
      ]
    },
    {
      "cell_type": "code",
      "source": [
        "# @title Matrix Operations\n",
        "matrix1 <- matrix(c(1, 2, 3, 4), nrow = 2, ncol = 2)\n",
        "matrix2 <- matrix(c(5, 6, 7, 8), nrow = 2, ncol = 2)\n",
        "\n",
        "matrix1 + matrix2  # Addition\n",
        "cat(\"\\n\")\n",
        "matrix1 - matrix2  # Subtraction\n",
        "cat(\"\\n\")\n",
        "matrix1 * matrix2  # Multiplication\n",
        "cat(\"\\n\")\n",
        "matrix1 / matrix2  # Division\n",
        "cat(\"\\n\")\n",
        "matrix1 ** matrix2 # Exponentiation\n",
        "cat(\"\\n\")\n",
        "\n",
        "cat(\"Determinant\", \"\\n\")\n",
        "det(matrix1) # Determinant\n",
        "cat(\"Inverse\", \"\\n\")\n",
        "solve(matrix1) # Inverse\n",
        "cat(\"Transpose\", \"\\n\")\n",
        "t(matrix1) # Transpose"
      ],
      "metadata": {
        "colab": {
          "base_uri": "https://localhost:8080/",
          "height": 994
        },
        "id": "nD3CeFoQuBi6",
        "outputId": "fd6b3b17-5ed6-4a84-81f1-32b8ba9c37ff"
      },
      "execution_count": null,
      "outputs": [
        {
          "output_type": "display_data",
          "data": {
            "text/html": [
              "<table class=\"dataframe\">\n",
              "<caption>A matrix: 2 × 2 of type dbl</caption>\n",
              "<tbody>\n",
              "\t<tr><td>6</td><td>10</td></tr>\n",
              "\t<tr><td>8</td><td>12</td></tr>\n",
              "</tbody>\n",
              "</table>\n"
            ],
            "text/markdown": "\nA matrix: 2 × 2 of type dbl\n\n| 6 | 10 |\n| 8 | 12 |\n\n",
            "text/latex": "A matrix: 2 × 2 of type dbl\n\\begin{tabular}{ll}\n\t 6 & 10\\\\\n\t 8 & 12\\\\\n\\end{tabular}\n",
            "text/plain": [
              "     [,1] [,2]\n",
              "[1,] 6    10  \n",
              "[2,] 8    12  "
            ]
          },
          "metadata": {}
        },
        {
          "output_type": "stream",
          "name": "stdout",
          "text": [
            "\n"
          ]
        },
        {
          "output_type": "display_data",
          "data": {
            "text/html": [
              "<table class=\"dataframe\">\n",
              "<caption>A matrix: 2 × 2 of type dbl</caption>\n",
              "<tbody>\n",
              "\t<tr><td>-4</td><td>-4</td></tr>\n",
              "\t<tr><td>-4</td><td>-4</td></tr>\n",
              "</tbody>\n",
              "</table>\n"
            ],
            "text/markdown": "\nA matrix: 2 × 2 of type dbl\n\n| -4 | -4 |\n| -4 | -4 |\n\n",
            "text/latex": "A matrix: 2 × 2 of type dbl\n\\begin{tabular}{ll}\n\t -4 & -4\\\\\n\t -4 & -4\\\\\n\\end{tabular}\n",
            "text/plain": [
              "     [,1] [,2]\n",
              "[1,] -4   -4  \n",
              "[2,] -4   -4  "
            ]
          },
          "metadata": {}
        },
        {
          "output_type": "stream",
          "name": "stdout",
          "text": [
            "\n"
          ]
        },
        {
          "output_type": "display_data",
          "data": {
            "text/html": [
              "<table class=\"dataframe\">\n",
              "<caption>A matrix: 2 × 2 of type dbl</caption>\n",
              "<tbody>\n",
              "\t<tr><td> 5</td><td>21</td></tr>\n",
              "\t<tr><td>12</td><td>32</td></tr>\n",
              "</tbody>\n",
              "</table>\n"
            ],
            "text/markdown": "\nA matrix: 2 × 2 of type dbl\n\n|  5 | 21 |\n| 12 | 32 |\n\n",
            "text/latex": "A matrix: 2 × 2 of type dbl\n\\begin{tabular}{ll}\n\t  5 & 21\\\\\n\t 12 & 32\\\\\n\\end{tabular}\n",
            "text/plain": [
              "     [,1] [,2]\n",
              "[1,]  5   21  \n",
              "[2,] 12   32  "
            ]
          },
          "metadata": {}
        },
        {
          "output_type": "stream",
          "name": "stdout",
          "text": [
            "\n"
          ]
        },
        {
          "output_type": "display_data",
          "data": {
            "text/html": [
              "<table class=\"dataframe\">\n",
              "<caption>A matrix: 2 × 2 of type dbl</caption>\n",
              "<tbody>\n",
              "\t<tr><td>0.2000000</td><td>0.4285714</td></tr>\n",
              "\t<tr><td>0.3333333</td><td>0.5000000</td></tr>\n",
              "</tbody>\n",
              "</table>\n"
            ],
            "text/markdown": "\nA matrix: 2 × 2 of type dbl\n\n| 0.2000000 | 0.4285714 |\n| 0.3333333 | 0.5000000 |\n\n",
            "text/latex": "A matrix: 2 × 2 of type dbl\n\\begin{tabular}{ll}\n\t 0.2000000 & 0.4285714\\\\\n\t 0.3333333 & 0.5000000\\\\\n\\end{tabular}\n",
            "text/plain": [
              "     [,1]      [,2]     \n",
              "[1,] 0.2000000 0.4285714\n",
              "[2,] 0.3333333 0.5000000"
            ]
          },
          "metadata": {}
        },
        {
          "output_type": "stream",
          "name": "stdout",
          "text": [
            "\n"
          ]
        },
        {
          "output_type": "display_data",
          "data": {
            "text/html": [
              "<table class=\"dataframe\">\n",
              "<caption>A matrix: 2 × 2 of type dbl</caption>\n",
              "<tbody>\n",
              "\t<tr><td> 1</td><td> 2187</td></tr>\n",
              "\t<tr><td>64</td><td>65536</td></tr>\n",
              "</tbody>\n",
              "</table>\n"
            ],
            "text/markdown": "\nA matrix: 2 × 2 of type dbl\n\n|  1 |  2187 |\n| 64 | 65536 |\n\n",
            "text/latex": "A matrix: 2 × 2 of type dbl\n\\begin{tabular}{ll}\n\t  1 &  2187\\\\\n\t 64 & 65536\\\\\n\\end{tabular}\n",
            "text/plain": [
              "     [,1] [,2] \n",
              "[1,]  1    2187\n",
              "[2,] 64   65536"
            ]
          },
          "metadata": {}
        },
        {
          "output_type": "stream",
          "name": "stdout",
          "text": [
            "\n",
            "Determinant \n"
          ]
        },
        {
          "output_type": "display_data",
          "data": {
            "text/html": [
              "-2"
            ],
            "text/markdown": "-2",
            "text/latex": "-2",
            "text/plain": [
              "[1] -2"
            ]
          },
          "metadata": {}
        },
        {
          "output_type": "stream",
          "name": "stdout",
          "text": [
            "Inverse \n"
          ]
        },
        {
          "output_type": "display_data",
          "data": {
            "text/html": [
              "<table class=\"dataframe\">\n",
              "<caption>A matrix: 2 × 2 of type dbl</caption>\n",
              "<tbody>\n",
              "\t<tr><td>-2</td><td> 1.5</td></tr>\n",
              "\t<tr><td> 1</td><td>-0.5</td></tr>\n",
              "</tbody>\n",
              "</table>\n"
            ],
            "text/markdown": "\nA matrix: 2 × 2 of type dbl\n\n| -2 |  1.5 |\n|  1 | -0.5 |\n\n",
            "text/latex": "A matrix: 2 × 2 of type dbl\n\\begin{tabular}{ll}\n\t -2 &  1.5\\\\\n\t  1 & -0.5\\\\\n\\end{tabular}\n",
            "text/plain": [
              "     [,1] [,2]\n",
              "[1,] -2    1.5\n",
              "[2,]  1   -0.5"
            ]
          },
          "metadata": {}
        },
        {
          "output_type": "stream",
          "name": "stdout",
          "text": [
            "Transpose \n"
          ]
        },
        {
          "output_type": "display_data",
          "data": {
            "text/html": [
              "<table class=\"dataframe\">\n",
              "<caption>A matrix: 2 × 2 of type dbl</caption>\n",
              "<tbody>\n",
              "\t<tr><td>1</td><td>2</td></tr>\n",
              "\t<tr><td>3</td><td>4</td></tr>\n",
              "</tbody>\n",
              "</table>\n"
            ],
            "text/markdown": "\nA matrix: 2 × 2 of type dbl\n\n| 1 | 2 |\n| 3 | 4 |\n\n",
            "text/latex": "A matrix: 2 × 2 of type dbl\n\\begin{tabular}{ll}\n\t 1 & 2\\\\\n\t 3 & 4\\\\\n\\end{tabular}\n",
            "text/plain": [
              "     [,1] [,2]\n",
              "[1,] 1    2   \n",
              "[2,] 3    4   "
            ]
          },
          "metadata": {}
        }
      ]
    },
    {
      "cell_type": "code",
      "source": [
        "# @title Combining Matrix Using rbind/cbind\n",
        "matrix1 <- matrix(c(1, 2, 3, 4), nrow = 2, ncol = 2)\n",
        "matrix2 <- matrix(c(5, 6, 7, 8), nrow = 2, ncol = 2)\n",
        "matrix3 <- matrix(c(4, 5, 0, 9), nrow = 2, ncol = 2)\n",
        "\n",
        "# Rbind\n",
        "matrix_rbind <- rbind(matrix1, matrix2, matrix3)\n",
        "# Cbind\n",
        "matrix_cbind <- cbind(matrix1, matrix2, matrix3)\n",
        "\n",
        "matrix_rbind\n",
        "cat(\"\\n\")\n",
        "matrix_cbind"
      ],
      "metadata": {
        "colab": {
          "base_uri": "https://localhost:8080/",
          "height": 407
        },
        "id": "2jYkxZDx2s-2",
        "outputId": "bd4622e1-f7d7-40b2-f563-085815b44b43"
      },
      "execution_count": null,
      "outputs": [
        {
          "output_type": "display_data",
          "data": {
            "text/html": [
              "<table class=\"dataframe\">\n",
              "<caption>A matrix: 6 × 2 of type dbl</caption>\n",
              "<tbody>\n",
              "\t<tr><td>1</td><td>3</td></tr>\n",
              "\t<tr><td>2</td><td>4</td></tr>\n",
              "\t<tr><td>5</td><td>7</td></tr>\n",
              "\t<tr><td>6</td><td>8</td></tr>\n",
              "\t<tr><td>4</td><td>0</td></tr>\n",
              "\t<tr><td>5</td><td>9</td></tr>\n",
              "</tbody>\n",
              "</table>\n"
            ],
            "text/markdown": "\nA matrix: 6 × 2 of type dbl\n\n| 1 | 3 |\n| 2 | 4 |\n| 5 | 7 |\n| 6 | 8 |\n| 4 | 0 |\n| 5 | 9 |\n\n",
            "text/latex": "A matrix: 6 × 2 of type dbl\n\\begin{tabular}{ll}\n\t 1 & 3\\\\\n\t 2 & 4\\\\\n\t 5 & 7\\\\\n\t 6 & 8\\\\\n\t 4 & 0\\\\\n\t 5 & 9\\\\\n\\end{tabular}\n",
            "text/plain": [
              "     [,1] [,2]\n",
              "[1,] 1    3   \n",
              "[2,] 2    4   \n",
              "[3,] 5    7   \n",
              "[4,] 6    8   \n",
              "[5,] 4    0   \n",
              "[6,] 5    9   "
            ]
          },
          "metadata": {}
        },
        {
          "output_type": "stream",
          "name": "stdout",
          "text": [
            "\n"
          ]
        },
        {
          "output_type": "display_data",
          "data": {
            "text/html": [
              "<table class=\"dataframe\">\n",
              "<caption>A matrix: 2 × 6 of type dbl</caption>\n",
              "<tbody>\n",
              "\t<tr><td>1</td><td>3</td><td>5</td><td>7</td><td>4</td><td>0</td></tr>\n",
              "\t<tr><td>2</td><td>4</td><td>6</td><td>8</td><td>5</td><td>9</td></tr>\n",
              "</tbody>\n",
              "</table>\n"
            ],
            "text/markdown": "\nA matrix: 2 × 6 of type dbl\n\n| 1 | 3 | 5 | 7 | 4 | 0 |\n| 2 | 4 | 6 | 8 | 5 | 9 |\n\n",
            "text/latex": "A matrix: 2 × 6 of type dbl\n\\begin{tabular}{llllll}\n\t 1 & 3 & 5 & 7 & 4 & 0\\\\\n\t 2 & 4 & 6 & 8 & 5 & 9\\\\\n\\end{tabular}\n",
            "text/plain": [
              "     [,1] [,2] [,3] [,4] [,5] [,6]\n",
              "[1,] 1    3    5    7    4    0   \n",
              "[2,] 2    4    6    8    5    9   "
            ]
          },
          "metadata": {}
        }
      ]
    },
    {
      "cell_type": "code",
      "source": [
        "# @title Applying Funcion to Matrix Rows/Columns\n",
        "matrix1 <- matrix(c(1, 2, 3, 4, 5, 6, 7, 8, 9, 10, 11, 12, 13, 14, 15, 16), nrow = 4, ncol = 4)\n",
        "print(matrix1)\n",
        "\n",
        "# Row = 1, Columns = 2\n",
        "row_sums <- apply(matrix1, 1, sum)\n",
        "col_sums <- apply(matrix1, 2, sum)\n",
        "col_means <- apply(matrix1, 2, mean)\n",
        "row_means <- apply(matrix1, 1, mean)\n",
        "\n",
        "cat(\"\\n\")\n",
        "print(row_sums)\n",
        "cat(\"\\n\")\n",
        "print(row_means)\n",
        "cat(\"\\n\")\n",
        "print(col_means)\n",
        "cat(\"\\n\")\n",
        "print(col_sums)"
      ],
      "metadata": {
        "colab": {
          "base_uri": "https://localhost:8080/"
        },
        "id": "al61nmFn3x-z",
        "outputId": "620faf95-084b-4231-b06f-52a75baac423"
      },
      "execution_count": null,
      "outputs": [
        {
          "output_type": "stream",
          "name": "stdout",
          "text": [
            "     [,1] [,2] [,3] [,4]\n",
            "[1,]    1    5    9   13\n",
            "[2,]    2    6   10   14\n",
            "[3,]    3    7   11   15\n",
            "[4,]    4    8   12   16\n",
            "\n",
            "[1] 28 32 36 40\n",
            "\n",
            "[1]  7  8  9 10\n",
            "\n",
            "[1]  2.5  6.5 10.5 14.5\n",
            "\n",
            "[1] 10 26 42 58\n"
          ]
        }
      ]
    },
    {
      "cell_type": "code",
      "source": [
        "# @title Array\n",
        "arr <- array(c(1, 2, 3, 4, 5, 6, 7, 8), dim = c(2, 2, 3)) # Array is a multidimensional\n",
        "print(arr)\n",
        "cat(\"\\n\")\n",
        "array(c(1, 2, 3, 4, 5, 6), dim = c(2, 3, 1))  # Create an array with dimension 2*3*1\n",
        "cat(\"\\n\")\n",
        "\n",
        "arr[1, , ]  # Accessing all elements of first row\n",
        "arr[, 1, ]  # Accessing all elements of first column\n",
        "arr[, , 2]  # Accessing all elements of second layer"
      ],
      "metadata": {
        "colab": {
          "base_uri": "https://localhost:8080/",
          "height": 761
        },
        "id": "_MJkMaKT7Rts",
        "outputId": "5dc3ded6-ed4a-4ca9-b5cf-61de91ef1982"
      },
      "execution_count": null,
      "outputs": [
        {
          "output_type": "stream",
          "name": "stdout",
          "text": [
            ", , 1\n",
            "\n",
            "     [,1] [,2]\n",
            "[1,]    1    3\n",
            "[2,]    2    4\n",
            "\n",
            ", , 2\n",
            "\n",
            "     [,1] [,2]\n",
            "[1,]    5    7\n",
            "[2,]    6    8\n",
            "\n",
            ", , 3\n",
            "\n",
            "     [,1] [,2]\n",
            "[1,]    1    3\n",
            "[2,]    2    4\n",
            "\n",
            "\n"
          ]
        },
        {
          "output_type": "display_data",
          "data": {
            "text/html": [
              "<style>\n",
              ".list-inline {list-style: none; margin:0; padding: 0}\n",
              ".list-inline>li {display: inline-block}\n",
              ".list-inline>li:not(:last-child)::after {content: \"\\00b7\"; padding: 0 .5ex}\n",
              "</style>\n",
              "<ol class=list-inline><li>1</li><li>2</li><li>3</li><li>4</li><li>5</li><li>6</li></ol>\n"
            ],
            "text/markdown": "1. 1\n2. 2\n3. 3\n4. 4\n5. 5\n6. 6\n\n\n",
            "text/latex": "\\begin{enumerate*}\n\\item 1\n\\item 2\n\\item 3\n\\item 4\n\\item 5\n\\item 6\n\\end{enumerate*}\n",
            "text/plain": [
              ", , 1\n",
              "\n",
              "     [,1] [,2] [,3]\n",
              "[1,]    1    3    5\n",
              "[2,]    2    4    6\n"
            ]
          },
          "metadata": {}
        },
        {
          "output_type": "stream",
          "name": "stdout",
          "text": [
            "\n"
          ]
        },
        {
          "output_type": "display_data",
          "data": {
            "text/html": [
              "<table class=\"dataframe\">\n",
              "<caption>A matrix: 2 × 3 of type dbl</caption>\n",
              "<tbody>\n",
              "\t<tr><td>1</td><td>5</td><td>1</td></tr>\n",
              "\t<tr><td>3</td><td>7</td><td>3</td></tr>\n",
              "</tbody>\n",
              "</table>\n"
            ],
            "text/markdown": "\nA matrix: 2 × 3 of type dbl\n\n| 1 | 5 | 1 |\n| 3 | 7 | 3 |\n\n",
            "text/latex": "A matrix: 2 × 3 of type dbl\n\\begin{tabular}{lll}\n\t 1 & 5 & 1\\\\\n\t 3 & 7 & 3\\\\\n\\end{tabular}\n",
            "text/plain": [
              "     [,1] [,2] [,3]\n",
              "[1,] 1    5    1   \n",
              "[2,] 3    7    3   "
            ]
          },
          "metadata": {}
        },
        {
          "output_type": "display_data",
          "data": {
            "text/html": [
              "<table class=\"dataframe\">\n",
              "<caption>A matrix: 2 × 3 of type dbl</caption>\n",
              "<tbody>\n",
              "\t<tr><td>1</td><td>5</td><td>1</td></tr>\n",
              "\t<tr><td>2</td><td>6</td><td>2</td></tr>\n",
              "</tbody>\n",
              "</table>\n"
            ],
            "text/markdown": "\nA matrix: 2 × 3 of type dbl\n\n| 1 | 5 | 1 |\n| 2 | 6 | 2 |\n\n",
            "text/latex": "A matrix: 2 × 3 of type dbl\n\\begin{tabular}{lll}\n\t 1 & 5 & 1\\\\\n\t 2 & 6 & 2\\\\\n\\end{tabular}\n",
            "text/plain": [
              "     [,1] [,2] [,3]\n",
              "[1,] 1    5    1   \n",
              "[2,] 2    6    2   "
            ]
          },
          "metadata": {}
        },
        {
          "output_type": "display_data",
          "data": {
            "text/html": [
              "<table class=\"dataframe\">\n",
              "<caption>A matrix: 2 × 2 of type dbl</caption>\n",
              "<tbody>\n",
              "\t<tr><td>5</td><td>7</td></tr>\n",
              "\t<tr><td>6</td><td>8</td></tr>\n",
              "</tbody>\n",
              "</table>\n"
            ],
            "text/markdown": "\nA matrix: 2 × 2 of type dbl\n\n| 5 | 7 |\n| 6 | 8 |\n\n",
            "text/latex": "A matrix: 2 × 2 of type dbl\n\\begin{tabular}{ll}\n\t 5 & 7\\\\\n\t 6 & 8\\\\\n\\end{tabular}\n",
            "text/plain": [
              "     [,1] [,2]\n",
              "[1,] 5    7   \n",
              "[2,] 6    8   "
            ]
          },
          "metadata": {}
        }
      ]
    },
    {
      "cell_type": "code",
      "source": [
        "# @title Applying Functions to Array\n",
        "arr <- array(c(1, 2, 3, 4, 5, 6, 7, 8), dim = c(2, 2, 3))\n",
        "print(arr)\n",
        "\n",
        "apply(arr, c(1, 2, 3), function(x) x + 1)\n",
        "# Row = 1, Column = 2, Layers = 3\n",
        "apply(arr, 1, sum)\n",
        "apply(arr, 2, mean)\n",
        "apply(arr, 3, max)"
      ],
      "metadata": {
        "colab": {
          "base_uri": "https://localhost:8080/",
          "height": 399
        },
        "id": "OcZgMjbM-utu",
        "outputId": "f16824c5-ba46-4271-9d2b-276807eb26b2"
      },
      "execution_count": null,
      "outputs": [
        {
          "output_type": "stream",
          "name": "stdout",
          "text": [
            ", , 1\n",
            "\n",
            "     [,1] [,2]\n",
            "[1,]    1    3\n",
            "[2,]    2    4\n",
            "\n",
            ", , 2\n",
            "\n",
            "     [,1] [,2]\n",
            "[1,]    5    7\n",
            "[2,]    6    8\n",
            "\n",
            ", , 3\n",
            "\n",
            "     [,1] [,2]\n",
            "[1,]    1    3\n",
            "[2,]    2    4\n",
            "\n"
          ]
        },
        {
          "output_type": "display_data",
          "data": {
            "text/html": [
              "<style>\n",
              ".list-inline {list-style: none; margin:0; padding: 0}\n",
              ".list-inline>li {display: inline-block}\n",
              ".list-inline>li:not(:last-child)::after {content: \"\\00b7\"; padding: 0 .5ex}\n",
              "</style>\n",
              "<ol class=list-inline><li>2</li><li>3</li><li>4</li><li>5</li><li>6</li><li>7</li><li>8</li><li>9</li><li>2</li><li>3</li><li>4</li><li>5</li></ol>\n"
            ],
            "text/markdown": "1. 2\n2. 3\n3. 4\n4. 5\n5. 6\n6. 7\n7. 8\n8. 9\n9. 2\n10. 3\n11. 4\n12. 5\n\n\n",
            "text/latex": "\\begin{enumerate*}\n\\item 2\n\\item 3\n\\item 4\n\\item 5\n\\item 6\n\\item 7\n\\item 8\n\\item 9\n\\item 2\n\\item 3\n\\item 4\n\\item 5\n\\end{enumerate*}\n",
            "text/plain": [
              ", , 1\n",
              "\n",
              "     [,1] [,2]\n",
              "[1,]    2    4\n",
              "[2,]    3    5\n",
              "\n",
              ", , 2\n",
              "\n",
              "     [,1] [,2]\n",
              "[1,]    6    8\n",
              "[2,]    7    9\n",
              "\n",
              ", , 3\n",
              "\n",
              "     [,1] [,2]\n",
              "[1,]    2    4\n",
              "[2,]    3    5\n"
            ]
          },
          "metadata": {}
        },
        {
          "output_type": "display_data",
          "data": {
            "text/html": [
              "<style>\n",
              ".list-inline {list-style: none; margin:0; padding: 0}\n",
              ".list-inline>li {display: inline-block}\n",
              ".list-inline>li:not(:last-child)::after {content: \"\\00b7\"; padding: 0 .5ex}\n",
              "</style>\n",
              "<ol class=list-inline><li>20</li><li>26</li></ol>\n"
            ],
            "text/markdown": "1. 20\n2. 26\n\n\n",
            "text/latex": "\\begin{enumerate*}\n\\item 20\n\\item 26\n\\end{enumerate*}\n",
            "text/plain": [
              "[1] 20 26"
            ]
          },
          "metadata": {}
        },
        {
          "output_type": "display_data",
          "data": {
            "text/html": [
              "<style>\n",
              ".list-inline {list-style: none; margin:0; padding: 0}\n",
              ".list-inline>li {display: inline-block}\n",
              ".list-inline>li:not(:last-child)::after {content: \"\\00b7\"; padding: 0 .5ex}\n",
              "</style>\n",
              "<ol class=list-inline><li>2.83333333333333</li><li>4.83333333333333</li></ol>\n"
            ],
            "text/markdown": "1. 2.83333333333333\n2. 4.83333333333333\n\n\n",
            "text/latex": "\\begin{enumerate*}\n\\item 2.83333333333333\n\\item 4.83333333333333\n\\end{enumerate*}\n",
            "text/plain": [
              "[1] 2.833333 4.833333"
            ]
          },
          "metadata": {}
        },
        {
          "output_type": "display_data",
          "data": {
            "text/html": [
              "<style>\n",
              ".list-inline {list-style: none; margin:0; padding: 0}\n",
              ".list-inline>li {display: inline-block}\n",
              ".list-inline>li:not(:last-child)::after {content: \"\\00b7\"; padding: 0 .5ex}\n",
              "</style>\n",
              "<ol class=list-inline><li>4</li><li>8</li><li>4</li></ol>\n"
            ],
            "text/markdown": "1. 4\n2. 8\n3. 4\n\n\n",
            "text/latex": "\\begin{enumerate*}\n\\item 4\n\\item 8\n\\item 4\n\\end{enumerate*}\n",
            "text/plain": [
              "[1] 4 8 4"
            ]
          },
          "metadata": {}
        }
      ]
    },
    {
      "cell_type": "code",
      "source": [
        "# @title Factors\n",
        "factor_var <- factor(c(\"A\", \"B\", \"C\", \"A\", \"B\", \"C\"), levels = c(\"A\", \"B\", \"C\"))\n",
        "print(factor_var)\n",
        "levels(factor_var)\n",
        "factor_var <- droplevels(factor_var) # drop unused levels\n",
        "print(factor_var)"
      ],
      "metadata": {
        "colab": {
          "base_uri": "https://localhost:8080/",
          "height": 104
        },
        "id": "WfinYgLS_sf_",
        "outputId": "efba1eea-07df-4042-c6ac-e32a2b8b4cee"
      },
      "execution_count": null,
      "outputs": [
        {
          "output_type": "stream",
          "name": "stdout",
          "text": [
            "[1] A B C A B C\n",
            "Levels: A B C\n"
          ]
        },
        {
          "output_type": "display_data",
          "data": {
            "text/html": [
              "<style>\n",
              ".list-inline {list-style: none; margin:0; padding: 0}\n",
              ".list-inline>li {display: inline-block}\n",
              ".list-inline>li:not(:last-child)::after {content: \"\\00b7\"; padding: 0 .5ex}\n",
              "</style>\n",
              "<ol class=list-inline><li>'A'</li><li>'B'</li><li>'C'</li></ol>\n"
            ],
            "text/markdown": "1. 'A'\n2. 'B'\n3. 'C'\n\n\n",
            "text/latex": "\\begin{enumerate*}\n\\item 'A'\n\\item 'B'\n\\item 'C'\n\\end{enumerate*}\n",
            "text/plain": [
              "[1] \"A\" \"B\" \"C\""
            ]
          },
          "metadata": {}
        },
        {
          "output_type": "stream",
          "name": "stdout",
          "text": [
            "[1] A B C A B C\n",
            "Levels: A B C\n"
          ]
        }
      ]
    },
    {
      "cell_type": "code",
      "source": [
        "# @title DataFrame\n",
        "student_data <- data.frame(\n",
        "  student_name = c(\"Mayur\", \"Garv\", \"Bhanu\", \"Vinayaka\"),\n",
        "  student_id = c(52, 34, 49, 23),\n",
        "  marks = c(51, 49, 48, 50)\n",
        ")\n",
        "print(student_data)"
      ],
      "metadata": {
        "colab": {
          "base_uri": "https://localhost:8080/"
        },
        "id": "duMc_CFDsAWz",
        "outputId": "cefe5e4e-7339-47da-a66a-59ede9317768"
      },
      "execution_count": null,
      "outputs": [
        {
          "output_type": "stream",
          "name": "stdout",
          "text": [
            "  student_name student_id marks\n",
            "1        Mayur         52    51\n",
            "2         Garv         34    49\n",
            "3        Bhanu         49    48\n",
            "4     Vinayaka         23    50\n"
          ]
        }
      ]
    },
    {
      "cell_type": "code",
      "source": [
        "# @title Access values of DataFrame\n",
        "print(student_data$student_name) # output in form of vectors , row-wise\n",
        "cat(\"\\n\")\n",
        "print(student_data[[\"student_name\"]]) # output in form of vectors , row-wise\n",
        "cat(\"\\n\")\n",
        "print(student_data[\"student_name\"]) # output column-wise\n",
        "cat(\"\\n\")\n",
        "print(student_data[2, 2])\n",
        "cat(\"\\n\")\n",
        "print(student_data[c(1, 3), c(\"student_name\", \"marks\")])"
      ],
      "metadata": {
        "colab": {
          "base_uri": "https://localhost:8080/"
        },
        "id": "KLLJR-c1Di01",
        "outputId": "e5d7f519-b908-4fbe-b9e9-4728ce0de8b8"
      },
      "execution_count": null,
      "outputs": [
        {
          "output_type": "stream",
          "name": "stdout",
          "text": [
            "[1] \"Mayur\"    \"Garv\"     \"Bhanu\"    \"Vinayaka\"\n",
            "\n",
            "[1] \"Mayur\"    \"Garv\"     \"Bhanu\"    \"Vinayaka\"\n",
            "\n",
            "  student_name\n",
            "1        Mayur\n",
            "2         Garv\n",
            "3        Bhanu\n",
            "4     Vinayaka\n",
            "\n",
            "[1] 34\n",
            "\n",
            "  student_name marks\n",
            "1        Mayur    51\n",
            "3        Bhanu    48\n"
          ]
        }
      ]
    },
    {
      "cell_type": "code",
      "source": [
        "# @title Combining DataFrames\n",
        "data1 <- c(\"Ahibruth\", 11, 48)\n",
        "\n",
        "data2 <- data.frame(\n",
        "  address = c(\"Bangalore\", \"Assam\", \"YGR\", \"Bellari\")\n",
        ")\n",
        "\n",
        "# Row-wise\n",
        " rbind(student_data , data1)\n",
        "# Column-wise\n",
        "cbind(student_data , data2)"
      ],
      "metadata": {
        "colab": {
          "base_uri": "https://localhost:8080/",
          "height": 461
        },
        "id": "n-hJJ1cVET_l",
        "outputId": "6d98f75c-35ba-4315-a5e5-28e86d5a3966"
      },
      "execution_count": null,
      "outputs": [
        {
          "output_type": "display_data",
          "data": {
            "text/html": [
              "<table class=\"dataframe\">\n",
              "<caption>A data.frame: 5 × 3</caption>\n",
              "<thead>\n",
              "\t<tr><th scope=col>student_name</th><th scope=col>student_id</th><th scope=col>marks</th></tr>\n",
              "\t<tr><th scope=col>&lt;chr&gt;</th><th scope=col>&lt;chr&gt;</th><th scope=col>&lt;chr&gt;</th></tr>\n",
              "</thead>\n",
              "<tbody>\n",
              "\t<tr><td>Mayur   </td><td>52</td><td>51</td></tr>\n",
              "\t<tr><td>Garv    </td><td>34</td><td>49</td></tr>\n",
              "\t<tr><td>Bhanu   </td><td>49</td><td>48</td></tr>\n",
              "\t<tr><td>Vinayaka</td><td>23</td><td>50</td></tr>\n",
              "\t<tr><td>Ahibruth</td><td>11</td><td>48</td></tr>\n",
              "</tbody>\n",
              "</table>\n"
            ],
            "text/markdown": "\nA data.frame: 5 × 3\n\n| student_name &lt;chr&gt; | student_id &lt;chr&gt; | marks &lt;chr&gt; |\n|---|---|---|\n| Mayur    | 52 | 51 |\n| Garv     | 34 | 49 |\n| Bhanu    | 49 | 48 |\n| Vinayaka | 23 | 50 |\n| Ahibruth | 11 | 48 |\n\n",
            "text/latex": "A data.frame: 5 × 3\n\\begin{tabular}{lll}\n student\\_name & student\\_id & marks\\\\\n <chr> & <chr> & <chr>\\\\\n\\hline\n\t Mayur    & 52 & 51\\\\\n\t Garv     & 34 & 49\\\\\n\t Bhanu    & 49 & 48\\\\\n\t Vinayaka & 23 & 50\\\\\n\t Ahibruth & 11 & 48\\\\\n\\end{tabular}\n",
            "text/plain": [
              "  student_name student_id marks\n",
              "1 Mayur        52         51   \n",
              "2 Garv         34         49   \n",
              "3 Bhanu        49         48   \n",
              "4 Vinayaka     23         50   \n",
              "5 Ahibruth     11         48   "
            ]
          },
          "metadata": {}
        },
        {
          "output_type": "display_data",
          "data": {
            "text/html": [
              "<table class=\"dataframe\">\n",
              "<caption>A data.frame: 4 × 4</caption>\n",
              "<thead>\n",
              "\t<tr><th scope=col>student_name</th><th scope=col>student_id</th><th scope=col>marks</th><th scope=col>address</th></tr>\n",
              "\t<tr><th scope=col>&lt;chr&gt;</th><th scope=col>&lt;dbl&gt;</th><th scope=col>&lt;dbl&gt;</th><th scope=col>&lt;chr&gt;</th></tr>\n",
              "</thead>\n",
              "<tbody>\n",
              "\t<tr><td>Mayur   </td><td>52</td><td>51</td><td>Bangalore</td></tr>\n",
              "\t<tr><td>Garv    </td><td>34</td><td>49</td><td>Assam    </td></tr>\n",
              "\t<tr><td>Bhanu   </td><td>49</td><td>48</td><td>YGR      </td></tr>\n",
              "\t<tr><td>Vinayaka</td><td>23</td><td>50</td><td>Bellari  </td></tr>\n",
              "</tbody>\n",
              "</table>\n"
            ],
            "text/markdown": "\nA data.frame: 4 × 4\n\n| student_name &lt;chr&gt; | student_id &lt;dbl&gt; | marks &lt;dbl&gt; | address &lt;chr&gt; |\n|---|---|---|---|\n| Mayur    | 52 | 51 | Bangalore |\n| Garv     | 34 | 49 | Assam     |\n| Bhanu    | 49 | 48 | YGR       |\n| Vinayaka | 23 | 50 | Bellari   |\n\n",
            "text/latex": "A data.frame: 4 × 4\n\\begin{tabular}{llll}\n student\\_name & student\\_id & marks & address\\\\\n <chr> & <dbl> & <dbl> & <chr>\\\\\n\\hline\n\t Mayur    & 52 & 51 & Bangalore\\\\\n\t Garv     & 34 & 49 & Assam    \\\\\n\t Bhanu    & 49 & 48 & YGR      \\\\\n\t Vinayaka & 23 & 50 & Bellari  \\\\\n\\end{tabular}\n",
            "text/plain": [
              "  student_name student_id marks address  \n",
              "1 Mayur        52         51    Bangalore\n",
              "2 Garv         34         49    Assam    \n",
              "3 Bhanu        49         48    YGR      \n",
              "4 Vinayaka     23         50    Bellari  "
            ]
          },
          "metadata": {}
        }
      ]
    },
    {
      "cell_type": "markdown",
      "source": [
        "# Day 1 : Assignment"
      ],
      "metadata": {
        "id": "WtWwZ2gfT_Fg"
      }
    },
    {
      "cell_type": "code",
      "source": [
        "# @title Assignment : Level 1\n",
        "\n",
        "# Question 1: Variable Assignment\n",
        "# Assign the value 10 to a variable named x and then print the value of x.\n",
        "x <- 10\n",
        "print(x)\n",
        "cat(\"\\n\")\n",
        "\n",
        "# Question 2: Arithmetic Operations\n",
        "# Create two variables a and b, assign them the values 5 and 3 respectively.\n",
        "# Calculate the sum, difference, product, and quotient of these variables.\n",
        "a <- 5\n",
        "b <- 3\n",
        "sum <- a + b\n",
        "difference <- a - b\n",
        "product <- a * b\n",
        "quotient <- a / b\n",
        "print(sum)\n",
        "print(difference)\n",
        "print(product)\n",
        "print(quotient)\n",
        "cat(\"\\n\")\n",
        "\n",
        "# Question 3: Updating Variable Value\n",
        "# Assign the value 7 to a variable y. Update the value of y to be its current value multiplied by 2.\n",
        "y <- 7\n",
        "y <- y * 2\n",
        "print(y)\n",
        "cat(\"\\n\")\n",
        "\n",
        "# Question 4: Variable Types\n",
        "# Create three variables: num with a numeric value 20, char with a character value \"Hello\", and bool with a logical value TRUE. Print the type of each variable.\n",
        "num <- 20\n",
        "char <- \"Hello\"\n",
        "bool <- TRUE\n",
        "print(class(num))\n",
        "print(class(char))\n",
        "print(class(bool))\n",
        "cat(\"\\n\")\n",
        "\n",
        "# Question 5: Variable Reassignment\n",
        "# Assign the value 15 to a variable z. Reassign z to a character value \"New Value\". Print the value and type of z.\n",
        "z <- 15\n",
        "z <- \"New Value\"\n",
        "print(z)\n",
        "print(typeof(z))\n",
        "cat(\"\\n\")\n",
        "\n",
        "# Question 6: Logical Operations\n",
        "# Create two variables p and q with values TRUE and FALSE respectively. Calculate the logical AND and logical OR of these variables and print the results.\n",
        "p <- TRUE\n",
        "q <- FALSE\n",
        "logical_and <- p & q\n",
        "logical_or <- p | q\n",
        "print(logical_and)\n",
        "print(logical_or)\n",
        "cat(\"\\n\")\n",
        "\n",
        "# Question 7: Concatenating Strings\n",
        "# Create two variables first_name and last_name with values \"John\" and \"Doe\" respectively. Concatenate these two variables to form a full name and print it.\n",
        "first_name <- \"John\"\n",
        "last_name <- \"Doe\"\n",
        "full_name <- cat(first_name, last_name)\n",
        "print(full_name)\n",
        "cat(\"\\n\")\n",
        "\n",
        "# Question 8: Length of a Variable\n",
        "# Create a variable vec with values 1, 2, 3, 4, 5. Find and print the length of this variable.\n",
        "vec <- c(1, 2, 3, 4, 5)\n",
        "print(length(vec))\n",
        "cat(\"\\n\")\n",
        "\n",
        "# Question 9: Variable with NA Value\n",
        "# Create a variable data with values 5, NA, 8, NA, 12. Count and print the number of NA values in the variable.\n",
        "data <- c(5, NA, 8, NA, 12)\n",
        "na_count <- sum(is.na(data))\n",
        "print(na_count)\n",
        "cat(\"\\n\")\n",
        "\n",
        "# Question 10: Subsetting Variables\n",
        "# Create a variable numbers with values 10, 20, 30, 40, 50. Extract and print the third element from this variable.\n",
        "numbers <- c(10, 20, 30, 40, 50)\n",
        "third_element <- numbers[3]\n",
        "print(third_element)"
      ],
      "metadata": {
        "colab": {
          "base_uri": "https://localhost:8080/"
        },
        "id": "v01TeBtoxGJw",
        "outputId": "2abc5b47-8e64-4344-8986-ef3e5504c925"
      },
      "execution_count": null,
      "outputs": [
        {
          "output_type": "stream",
          "name": "stdout",
          "text": [
            "[1] 10\n",
            "\n",
            "[1] 8\n",
            "[1] 2\n",
            "[1] 15\n",
            "[1] 1.666667\n",
            "\n",
            "[1] 14\n",
            "\n",
            "[1] \"numeric\"\n",
            "[1] \"character\"\n",
            "[1] \"logical\"\n",
            "\n",
            "[1] \"New Value\"\n",
            "[1] \"character\"\n",
            "\n",
            "[1] FALSE\n",
            "[1] TRUE\n",
            "\n",
            "John DoeNULL\n",
            "\n",
            "[1] 5\n",
            "\n",
            "[1] 2\n",
            "\n",
            "[1] 30\n"
          ]
        }
      ]
    },
    {
      "cell_type": "code",
      "source": [
        "# @title Assignment : Level 2\n",
        "\n",
        "# Question 1: Conditional Variable Assignment\n",
        "# Create a variable temperature and assign it a value of 25. Write a conditional statement that assigns a new variable weather with the value \"Hot\" if temperature is greater than 30, \"Warm\" if temperature is between 20 and 30 (inclusive), and \"Cold\" if temperature is less than 20. Print the value of weather.\n",
        "temperature <- 25\n",
        "if (temperature > 30) {\n",
        "  weather <- \"Hot\"\n",
        "} else if (temperature >= 20 && temperature <= 30) {\n",
        "  weather <- \"Warm\"\n",
        "} else {\n",
        "  weather <- \"Cold\"\n",
        "}\n",
        "print(weather)\n",
        "cat(\"\\n\")\n",
        "\n",
        "# Question 2: Vectorized Operations\n",
        "# Create a numeric vector v with values 2, 4, 6, 8, 10. Multiply each element of the vector by 3 and then subtract 5 from each element. Print the resulting vector.\n",
        "v <- c(2, 4, 6, 8, 10)\n",
        "result <- (v * 3) - 5\n",
        "print(result)\n",
        "cat(\"\\n\")\n",
        "\n",
        "# Question 3: Data Frame Manipulation\n",
        "# Create a data frame df with columns name (values: \"Alice\", \"Bob\", \"Charlie\"), age (values: 25, 30, 35), and salary (values: 50000, 60000, 70000). Add a new column bonus which is 10% of the salary. Print the updated data frame.\n",
        "df <- data.frame(\n",
        "  name = c(\"Alice\", \"Bob\", \"Charlie\"),\n",
        "  age = c(25, 30, 35),\n",
        "  salary = c(50000, 60000, 70000)\n",
        ")\n",
        "df$bonus <- df$salary * 0.10\n",
        "print(df)\n",
        "cat(\"\\n\")\n",
        "\n",
        "# Question 4: Handling Missing Values\n",
        "# Create a vector data with values 1, 2, NA, 4, 5, NA, 7. Replace all NA values with the mean of the non-NA values in the vector. Print the resulting vector.\n",
        "data <- c(1, 2, NA, 4, 5, NA, 7)\n",
        "mean_value <- mean(data, na.rm = TRUE)\n",
        "data[is.na(data)] <- mean_value\n",
        "print(data)\n",
        "cat(\"\\n\")\n",
        "\n",
        "# Question 5: List Operations\n",
        "# Create a list my_list with elements: a numeric vector c(1, 2, 3), a character vector c(\"a\", \"b\", \"c\"), and a logical vector c(TRUE, FALSE, TRUE). Add a new element to the list which is a matrix matrix(1:9, nrow = 3). Print the updated list.\n",
        "my_list <- list(\n",
        "  numeric_vector = c(1, 2, 3),\n",
        "  character_vector = c(\"a\", \"b\", \"c\"),\n",
        "  logical_vector = c(TRUE, FALSE, TRUE)\n",
        ")\n",
        "my_list$matrix <- matrix(1:9, nrow = 3)\n",
        "print(my_list)\n",
        "cat(\"\\n\")\n",
        "\n",
        "# Question 6: String Manipulation\n",
        "# Create a string variable text with the value \"Hello World\". Replace all occurrences of \"World\" with \"R\" and convert the entire string to uppercase. Print the resulting string.\n",
        "text <- \"Hello World\"\n",
        "text <- gsub(\"World\", \"R\", text)\n",
        "text <- toupper(text)\n",
        "print(text)\n",
        "cat(\"\\n\")\n",
        "\n",
        "# Question 7: Filtering Data Frame\n",
        "# Create a data frame students with columns name (values: \"Alice\", \"Bob\", \"Charlie\", \"David\"), score (values: 85, 92, 78, 90). Filter the data frame to include only the students with scores greater than 80. Print the filtered data frame.\n",
        "students <- data.frame(\n",
        "  name = c(\"Alice\", \"Bob\", \"Charlie\", \"David\"),\n",
        "  score = c(85, 92, 78, 90)\n",
        ")\n",
        "filtered_students <- students[students$score > 80, ]\n",
        "print(filtered_students)\n",
        "cat(\"\\n\")\n",
        "\n",
        "# Question 9: Factor Variables\n",
        "# Create a factor variable colors with levels \"red\", \"green\", and \"blue\". Assign the values \"red\", \"blue\", \"green\", \"red\" to the factor variable. Print the factor variable and its levels.\n",
        "colors <- factor(c(\"red\", \"blue\", \"green\", \"red\"), levels = c(\"red\", \"green\", \"blue\"))\n",
        "print(colors)\n",
        "print(levels(colors))"
      ],
      "metadata": {
        "colab": {
          "base_uri": "https://localhost:8080/"
        },
        "id": "Kx0tUfDZCVTc",
        "outputId": "80821f08-0763-49bd-8ee2-74bd1b31c096"
      },
      "execution_count": null,
      "outputs": [
        {
          "output_type": "stream",
          "name": "stdout",
          "text": [
            "[1] \"Warm\"\n",
            "\n",
            "[1]  1  7 13 19 25\n",
            "\n",
            "     name age salary bonus\n",
            "1   Alice  25  50000  5000\n",
            "2     Bob  30  60000  6000\n",
            "3 Charlie  35  70000  7000\n",
            "\n",
            "[1] 1.0 2.0 3.8 4.0 5.0 3.8 7.0\n",
            "\n",
            "$numeric_vector\n",
            "[1] 1 2 3\n",
            "\n",
            "$character_vector\n",
            "[1] \"a\" \"b\" \"c\"\n",
            "\n",
            "$logical_vector\n",
            "[1]  TRUE FALSE  TRUE\n",
            "\n",
            "$matrix\n",
            "     [,1] [,2] [,3]\n",
            "[1,]    1    4    7\n",
            "[2,]    2    5    8\n",
            "[3,]    3    6    9\n",
            "\n",
            "\n",
            "[1] \"HELLO R\"\n",
            "\n",
            "   name score\n",
            "1 Alice    85\n",
            "2   Bob    92\n",
            "4 David    90\n",
            "\n",
            "[1] red   blue  green red  \n",
            "Levels: red green blue\n",
            "[1] \"red\"   \"green\" \"blue\" \n"
          ]
        }
      ]
    },
    {
      "cell_type": "markdown",
      "source": [
        "# Day 2 : Operations on DataFrame"
      ],
      "metadata": {
        "id": "X4QOIUg22-Dm"
      }
    },
    {
      "cell_type": "code",
      "source": [
        "# @title Defining DataFrames\n",
        "student <- data.frame (\n",
        "  USN = c(\"1RV23AI008\", \"1RV23AI034\", \"1RV23AI052\"),\n",
        "  Name = c(\"Aditya\", \"Garv\", \"Mayur\")\n",
        ")\n",
        "student\n",
        "cat(\"\\n\")\n",
        "\n",
        "employee <- data.frame (\n",
        "  employee_id = c(1:5),\n",
        "  Name = c(\"Aditya\", \"Garv\", \"Mayur\", \"Bhanu\", \"Vinayak\"),\n",
        "  DOJ = as.Date(c(\"2000-01-05\", \"2001-02-04\", \"2002-03-03\", \"2003-04-02\", \"2004-05-01\"))  # Enter Date\n",
        ")\n",
        "employee\n",
        "cat(\"\\n\")\n",
        "str(employee) # Gives Structure of Data"
      ],
      "metadata": {
        "colab": {
          "base_uri": "https://localhost:8080/",
          "height": 534
        },
        "id": "jQp-RrWPxoDX",
        "outputId": "1a5100f7-7975-42e6-e5a3-8bf9c89ae7d6"
      },
      "execution_count": null,
      "outputs": [
        {
          "output_type": "display_data",
          "data": {
            "text/html": [
              "<table class=\"dataframe\">\n",
              "<caption>A data.frame: 3 × 2</caption>\n",
              "<thead>\n",
              "\t<tr><th scope=col>USN</th><th scope=col>Name</th></tr>\n",
              "\t<tr><th scope=col>&lt;chr&gt;</th><th scope=col>&lt;chr&gt;</th></tr>\n",
              "</thead>\n",
              "<tbody>\n",
              "\t<tr><td>1RV23AI008</td><td>Aditya</td></tr>\n",
              "\t<tr><td>1RV23AI034</td><td>Garv  </td></tr>\n",
              "\t<tr><td>1RV23AI052</td><td>Mayur </td></tr>\n",
              "</tbody>\n",
              "</table>\n"
            ],
            "text/markdown": "\nA data.frame: 3 × 2\n\n| USN &lt;chr&gt; | Name &lt;chr&gt; |\n|---|---|\n| 1RV23AI008 | Aditya |\n| 1RV23AI034 | Garv   |\n| 1RV23AI052 | Mayur  |\n\n",
            "text/latex": "A data.frame: 3 × 2\n\\begin{tabular}{ll}\n USN & Name\\\\\n <chr> & <chr>\\\\\n\\hline\n\t 1RV23AI008 & Aditya\\\\\n\t 1RV23AI034 & Garv  \\\\\n\t 1RV23AI052 & Mayur \\\\\n\\end{tabular}\n",
            "text/plain": [
              "  USN        Name  \n",
              "1 1RV23AI008 Aditya\n",
              "2 1RV23AI034 Garv  \n",
              "3 1RV23AI052 Mayur "
            ]
          },
          "metadata": {}
        },
        {
          "output_type": "stream",
          "name": "stdout",
          "text": [
            "\n"
          ]
        },
        {
          "output_type": "display_data",
          "data": {
            "text/html": [
              "<table class=\"dataframe\">\n",
              "<caption>A data.frame: 5 × 3</caption>\n",
              "<thead>\n",
              "\t<tr><th scope=col>employee_id</th><th scope=col>Name</th><th scope=col>DOJ</th></tr>\n",
              "\t<tr><th scope=col>&lt;int&gt;</th><th scope=col>&lt;chr&gt;</th><th scope=col>&lt;date&gt;</th></tr>\n",
              "</thead>\n",
              "<tbody>\n",
              "\t<tr><td>1</td><td>Aditya </td><td>2000-01-05</td></tr>\n",
              "\t<tr><td>2</td><td>Garv   </td><td>2001-02-04</td></tr>\n",
              "\t<tr><td>3</td><td>Mayur  </td><td>2002-03-03</td></tr>\n",
              "\t<tr><td>4</td><td>Bhanu  </td><td>2003-04-02</td></tr>\n",
              "\t<tr><td>5</td><td>Vinayak</td><td>2004-05-01</td></tr>\n",
              "</tbody>\n",
              "</table>\n"
            ],
            "text/markdown": "\nA data.frame: 5 × 3\n\n| employee_id &lt;int&gt; | Name &lt;chr&gt; | DOJ &lt;date&gt; |\n|---|---|---|\n| 1 | Aditya  | 2000-01-05 |\n| 2 | Garv    | 2001-02-04 |\n| 3 | Mayur   | 2002-03-03 |\n| 4 | Bhanu   | 2003-04-02 |\n| 5 | Vinayak | 2004-05-01 |\n\n",
            "text/latex": "A data.frame: 5 × 3\n\\begin{tabular}{lll}\n employee\\_id & Name & DOJ\\\\\n <int> & <chr> & <date>\\\\\n\\hline\n\t 1 & Aditya  & 2000-01-05\\\\\n\t 2 & Garv    & 2001-02-04\\\\\n\t 3 & Mayur   & 2002-03-03\\\\\n\t 4 & Bhanu   & 2003-04-02\\\\\n\t 5 & Vinayak & 2004-05-01\\\\\n\\end{tabular}\n",
            "text/plain": [
              "  employee_id Name    DOJ       \n",
              "1 1           Aditya  2000-01-05\n",
              "2 2           Garv    2001-02-04\n",
              "3 3           Mayur   2002-03-03\n",
              "4 4           Bhanu   2003-04-02\n",
              "5 5           Vinayak 2004-05-01"
            ]
          },
          "metadata": {}
        },
        {
          "output_type": "stream",
          "name": "stdout",
          "text": [
            "\n",
            "'data.frame':\t5 obs. of  3 variables:\n",
            " $ employee_id: int  1 2 3 4 5\n",
            " $ Name       : chr  \"Aditya\" \"Garv\" \"Mayur\" \"Bhanu\" ...\n",
            " $ DOJ        : Date, format: \"2000-01-05\" \"2001-02-04\" ...\n"
          ]
        }
      ]
    },
    {
      "cell_type": "code",
      "source": [
        "# @title Extracting Data\n",
        "print(employee$Name) # Column Values (Row-Wise)\n",
        "cat(\"\\n\")\n",
        "print(employee[\"Name\"]) # Column Values (Column- Wise)\n",
        "cat(\"\\n\")\n",
        "print(data.frame(employee$Name)) #In  Form of DataFrame\n",
        "cat(\"\\n\")\n",
        "print(employee[1,]) # Print 1st Row of DataFrame\n",
        "cat(\"\\n\")\n",
        "print(employee[2:3,]) # Print multiple Rows of DataFrame\n",
        "cat(\"\\n\")\n",
        "print(employee[c(2,3),c(1,3)]) # Print using c [ 2nd and 3rd row && 1st and 3rd Column ]\n",
        "cat(\"\\n\")\n",
        "summary(employee) # Gives all Analysis"
      ],
      "metadata": {
        "colab": {
          "base_uri": "https://localhost:8080/",
          "height": 607
        },
        "id": "-1mT3CNa4LrE",
        "outputId": "159e361a-7efc-409a-b2e3-1dab026aa451"
      },
      "execution_count": null,
      "outputs": [
        {
          "output_type": "stream",
          "name": "stdout",
          "text": [
            "[1] \"Aditya\"  \"Garv\"    \"Mayur\"   \"Bhanu\"   \"Vinayak\"\n",
            "\n",
            "     Name\n",
            "1  Aditya\n",
            "2    Garv\n",
            "3   Mayur\n",
            "4   Bhanu\n",
            "5 Vinayak\n",
            "\n",
            "  employee.Name\n",
            "1        Aditya\n",
            "2          Garv\n",
            "3         Mayur\n",
            "4         Bhanu\n",
            "5       Vinayak\n",
            "\n",
            "  employee_id   Name        DOJ\n",
            "1           1 Aditya 2000-01-05\n",
            "\n",
            "  employee_id  Name        DOJ\n",
            "2           2  Garv 2001-02-04\n",
            "3           3 Mayur 2002-03-03\n",
            "\n",
            "  employee_id        DOJ\n",
            "2           2 2001-02-04\n",
            "3           3 2002-03-03\n",
            "\n"
          ]
        },
        {
          "output_type": "display_data",
          "data": {
            "text/plain": [
              "  employee_id     Name                DOJ            \n",
              " Min.   :1    Length:5           Min.   :2000-01-05  \n",
              " 1st Qu.:2    Class :character   1st Qu.:2001-02-04  \n",
              " Median :3    Mode  :character   Median :2002-03-03  \n",
              " Mean   :3                       Mean   :2002-03-04  \n",
              " 3rd Qu.:4                       3rd Qu.:2003-04-02  \n",
              " Max.   :5                       Max.   :2004-05-01  "
            ]
          },
          "metadata": {}
        }
      ]
    },
    {
      "cell_type": "code",
      "source": [
        "# @title Deleting Rows/Columns\n",
        "df <- data.frame(x = 1:5, y = 6:10, z = 11:15)\n",
        "df\n",
        "\n",
        "df <- df[-1,] # Remove 1st Row\n",
        "df\n",
        "\n",
        "df <- data.frame(x = 1:5, y = 6:10, z = 11:15)\n",
        "df$x <- NULL # Remove Column\n",
        "df\n",
        "\n",
        "df <- data.frame(x = 1:5, y = 6:10, z = 11:15)\n",
        "df[2, ] <- NA # Delete row 2\n",
        "df"
      ],
      "metadata": {
        "colab": {
          "base_uri": "https://localhost:8080/",
          "height": 955
        },
        "id": "EuwqpskZ7Udm",
        "outputId": "90707126-3ec8-4651-e5d0-137569f069ef"
      },
      "execution_count": null,
      "outputs": [
        {
          "output_type": "display_data",
          "data": {
            "text/html": [
              "<table class=\"dataframe\">\n",
              "<caption>A data.frame: 5 × 3</caption>\n",
              "<thead>\n",
              "\t<tr><th scope=col>x</th><th scope=col>y</th><th scope=col>z</th></tr>\n",
              "\t<tr><th scope=col>&lt;int&gt;</th><th scope=col>&lt;int&gt;</th><th scope=col>&lt;int&gt;</th></tr>\n",
              "</thead>\n",
              "<tbody>\n",
              "\t<tr><td>1</td><td> 6</td><td>11</td></tr>\n",
              "\t<tr><td>2</td><td> 7</td><td>12</td></tr>\n",
              "\t<tr><td>3</td><td> 8</td><td>13</td></tr>\n",
              "\t<tr><td>4</td><td> 9</td><td>14</td></tr>\n",
              "\t<tr><td>5</td><td>10</td><td>15</td></tr>\n",
              "</tbody>\n",
              "</table>\n"
            ],
            "text/markdown": "\nA data.frame: 5 × 3\n\n| x &lt;int&gt; | y &lt;int&gt; | z &lt;int&gt; |\n|---|---|---|\n| 1 |  6 | 11 |\n| 2 |  7 | 12 |\n| 3 |  8 | 13 |\n| 4 |  9 | 14 |\n| 5 | 10 | 15 |\n\n",
            "text/latex": "A data.frame: 5 × 3\n\\begin{tabular}{lll}\n x & y & z\\\\\n <int> & <int> & <int>\\\\\n\\hline\n\t 1 &  6 & 11\\\\\n\t 2 &  7 & 12\\\\\n\t 3 &  8 & 13\\\\\n\t 4 &  9 & 14\\\\\n\t 5 & 10 & 15\\\\\n\\end{tabular}\n",
            "text/plain": [
              "  x y  z \n",
              "1 1  6 11\n",
              "2 2  7 12\n",
              "3 3  8 13\n",
              "4 4  9 14\n",
              "5 5 10 15"
            ]
          },
          "metadata": {}
        },
        {
          "output_type": "display_data",
          "data": {
            "text/html": [
              "<table class=\"dataframe\">\n",
              "<caption>A data.frame: 4 × 3</caption>\n",
              "<thead>\n",
              "\t<tr><th></th><th scope=col>x</th><th scope=col>y</th><th scope=col>z</th></tr>\n",
              "\t<tr><th></th><th scope=col>&lt;int&gt;</th><th scope=col>&lt;int&gt;</th><th scope=col>&lt;int&gt;</th></tr>\n",
              "</thead>\n",
              "<tbody>\n",
              "\t<tr><th scope=row>2</th><td>2</td><td> 7</td><td>12</td></tr>\n",
              "\t<tr><th scope=row>3</th><td>3</td><td> 8</td><td>13</td></tr>\n",
              "\t<tr><th scope=row>4</th><td>4</td><td> 9</td><td>14</td></tr>\n",
              "\t<tr><th scope=row>5</th><td>5</td><td>10</td><td>15</td></tr>\n",
              "</tbody>\n",
              "</table>\n"
            ],
            "text/markdown": "\nA data.frame: 4 × 3\n\n| <!--/--> | x &lt;int&gt; | y &lt;int&gt; | z &lt;int&gt; |\n|---|---|---|---|\n| 2 | 2 |  7 | 12 |\n| 3 | 3 |  8 | 13 |\n| 4 | 4 |  9 | 14 |\n| 5 | 5 | 10 | 15 |\n\n",
            "text/latex": "A data.frame: 4 × 3\n\\begin{tabular}{r|lll}\n  & x & y & z\\\\\n  & <int> & <int> & <int>\\\\\n\\hline\n\t2 & 2 &  7 & 12\\\\\n\t3 & 3 &  8 & 13\\\\\n\t4 & 4 &  9 & 14\\\\\n\t5 & 5 & 10 & 15\\\\\n\\end{tabular}\n",
            "text/plain": [
              "  x y  z \n",
              "2 2  7 12\n",
              "3 3  8 13\n",
              "4 4  9 14\n",
              "5 5 10 15"
            ]
          },
          "metadata": {}
        },
        {
          "output_type": "display_data",
          "data": {
            "text/html": [
              "<table class=\"dataframe\">\n",
              "<caption>A data.frame: 5 × 2</caption>\n",
              "<thead>\n",
              "\t<tr><th scope=col>y</th><th scope=col>z</th></tr>\n",
              "\t<tr><th scope=col>&lt;int&gt;</th><th scope=col>&lt;int&gt;</th></tr>\n",
              "</thead>\n",
              "<tbody>\n",
              "\t<tr><td> 6</td><td>11</td></tr>\n",
              "\t<tr><td> 7</td><td>12</td></tr>\n",
              "\t<tr><td> 8</td><td>13</td></tr>\n",
              "\t<tr><td> 9</td><td>14</td></tr>\n",
              "\t<tr><td>10</td><td>15</td></tr>\n",
              "</tbody>\n",
              "</table>\n"
            ],
            "text/markdown": "\nA data.frame: 5 × 2\n\n| y &lt;int&gt; | z &lt;int&gt; |\n|---|---|\n|  6 | 11 |\n|  7 | 12 |\n|  8 | 13 |\n|  9 | 14 |\n| 10 | 15 |\n\n",
            "text/latex": "A data.frame: 5 × 2\n\\begin{tabular}{ll}\n y & z\\\\\n <int> & <int>\\\\\n\\hline\n\t  6 & 11\\\\\n\t  7 & 12\\\\\n\t  8 & 13\\\\\n\t  9 & 14\\\\\n\t 10 & 15\\\\\n\\end{tabular}\n",
            "text/plain": [
              "  y  z \n",
              "1  6 11\n",
              "2  7 12\n",
              "3  8 13\n",
              "4  9 14\n",
              "5 10 15"
            ]
          },
          "metadata": {}
        },
        {
          "output_type": "display_data",
          "data": {
            "text/html": [
              "<table class=\"dataframe\">\n",
              "<caption>A data.frame: 5 × 3</caption>\n",
              "<thead>\n",
              "\t<tr><th scope=col>x</th><th scope=col>y</th><th scope=col>z</th></tr>\n",
              "\t<tr><th scope=col>&lt;int&gt;</th><th scope=col>&lt;int&gt;</th><th scope=col>&lt;int&gt;</th></tr>\n",
              "</thead>\n",
              "<tbody>\n",
              "\t<tr><td> 1</td><td> 6</td><td>11</td></tr>\n",
              "\t<tr><td>NA</td><td>NA</td><td>NA</td></tr>\n",
              "\t<tr><td> 3</td><td> 8</td><td>13</td></tr>\n",
              "\t<tr><td> 4</td><td> 9</td><td>14</td></tr>\n",
              "\t<tr><td> 5</td><td>10</td><td>15</td></tr>\n",
              "</tbody>\n",
              "</table>\n"
            ],
            "text/markdown": "\nA data.frame: 5 × 3\n\n| x &lt;int&gt; | y &lt;int&gt; | z &lt;int&gt; |\n|---|---|---|\n|  1 |  6 | 11 |\n| NA | NA | NA |\n|  3 |  8 | 13 |\n|  4 |  9 | 14 |\n|  5 | 10 | 15 |\n\n",
            "text/latex": "A data.frame: 5 × 3\n\\begin{tabular}{lll}\n x & y & z\\\\\n <int> & <int> & <int>\\\\\n\\hline\n\t  1 &  6 & 11\\\\\n\t NA & NA & NA\\\\\n\t  3 &  8 & 13\\\\\n\t  4 &  9 & 14\\\\\n\t  5 & 10 & 15\\\\\n\\end{tabular}\n",
            "text/plain": [
              "  x  y  z \n",
              "1  1  6 11\n",
              "2 NA NA NA\n",
              "3  3  8 13\n",
              "4  4  9 14\n",
              "5  5 10 15"
            ]
          },
          "metadata": {}
        }
      ]
    },
    {
      "cell_type": "code",
      "source": [
        "# @title Setting Directory If Needed\n",
        "print(getwd())\n",
        "# setwd(\"C://Aditya\")\n",
        "print(getwd())"
      ],
      "metadata": {
        "colab": {
          "base_uri": "https://localhost:8080/"
        },
        "id": "72vf9A3UPN9E",
        "outputId": "207eeb6f-9940-4c3d-e86f-b68da6758ef1"
      },
      "execution_count": null,
      "outputs": [
        {
          "output_type": "stream",
          "name": "stdout",
          "text": [
            "[1] \"/content\"\n",
            "[1] \"/content\"\n"
          ]
        }
      ]
    },
    {
      "cell_type": "code",
      "source": [
        "# @title Creating the CSV File\n",
        "data <- data.frame(\n",
        "    id = c(1, 2, 3, 4, 5, 6, 7, 8),\n",
        "    name = c(\"Shubham\", \"Arpita\", \"Vaishali\", \"Nishka\", \"Gunjan\", \"Sumit\", \"Anisha\", \"Akash\"),\n",
        "    salary = c(613.3, 525.2, 63, 749, 863.25, 588, 932.8, 712.5),\n",
        "    start_date = c(\"01-01-2012\", \"23-09-2013\", \"15-11-2014\", \"11-05-2014\", \"27-03-2015\", \"21-05-2013\", \"30-07-2013\", \"17-06-2014\"),\n",
        "    dept = c(\"IT\", \"Operations\", \"IT\", \"HR\", \"Finance\", \"IT\", \"Operations\", \"Finance\")\n",
        ")\n",
        "csv_file <- \"record.csv\"\n",
        "write.csv(data, file = csv_file, row.names = FALSE)\n",
        "cat(\"CSV file created successfully:\", csv_file)"
      ],
      "metadata": {
        "colab": {
          "base_uri": "https://localhost:8080/"
        },
        "id": "xH98p9ilc1_u",
        "outputId": "3f06c047-7440-4a02-87b4-c02b7536d115"
      },
      "execution_count": null,
      "outputs": [
        {
          "output_type": "stream",
          "name": "stdout",
          "text": [
            "CSV file created successfully: record.csv"
          ]
        }
      ]
    },
    {
      "cell_type": "code",
      "source": [
        "# @title Importing Dataset\n",
        "record <- read.csv(\"record.csv\") # Read Dataset and return DataFrame\n",
        "record\n",
        "print(is.data.frame(record)) # Check if Data-Frame\n",
        "cat(\"\\n\")\n",
        "ncol(record) # No. of Columns\n",
        "nrow(record) # No. of Rows"
      ],
      "metadata": {
        "colab": {
          "base_uri": "https://localhost:8080/",
          "height": 418
        },
        "id": "-OqGeL6MBohA",
        "outputId": "8c1cb75d-367c-44b6-ff87-2f3214ba16b5"
      },
      "execution_count": null,
      "outputs": [
        {
          "output_type": "display_data",
          "data": {
            "text/html": [
              "<table class=\"dataframe\">\n",
              "<caption>A data.frame: 8 × 5</caption>\n",
              "<thead>\n",
              "\t<tr><th scope=col>id</th><th scope=col>name</th><th scope=col>salary</th><th scope=col>start_date</th><th scope=col>dept</th></tr>\n",
              "\t<tr><th scope=col>&lt;int&gt;</th><th scope=col>&lt;chr&gt;</th><th scope=col>&lt;dbl&gt;</th><th scope=col>&lt;chr&gt;</th><th scope=col>&lt;chr&gt;</th></tr>\n",
              "</thead>\n",
              "<tbody>\n",
              "\t<tr><td>1</td><td>Shubham </td><td>613.30</td><td>01-01-2012</td><td>IT        </td></tr>\n",
              "\t<tr><td>2</td><td>Arpita  </td><td>525.20</td><td>23-09-2013</td><td>Operations</td></tr>\n",
              "\t<tr><td>3</td><td>Vaishali</td><td> 63.00</td><td>15-11-2014</td><td>IT        </td></tr>\n",
              "\t<tr><td>4</td><td>Nishka  </td><td>749.00</td><td>11-05-2014</td><td>HR        </td></tr>\n",
              "\t<tr><td>5</td><td>Gunjan  </td><td>863.25</td><td>27-03-2015</td><td>Finance   </td></tr>\n",
              "\t<tr><td>6</td><td>Sumit   </td><td>588.00</td><td>21-05-2013</td><td>IT        </td></tr>\n",
              "\t<tr><td>7</td><td>Anisha  </td><td>932.80</td><td>30-07-2013</td><td>Operations</td></tr>\n",
              "\t<tr><td>8</td><td>Akash   </td><td>712.50</td><td>17-06-2014</td><td>Finance   </td></tr>\n",
              "</tbody>\n",
              "</table>\n"
            ],
            "text/markdown": "\nA data.frame: 8 × 5\n\n| id &lt;int&gt; | name &lt;chr&gt; | salary &lt;dbl&gt; | start_date &lt;chr&gt; | dept &lt;chr&gt; |\n|---|---|---|---|---|\n| 1 | Shubham  | 613.30 | 01-01-2012 | IT         |\n| 2 | Arpita   | 525.20 | 23-09-2013 | Operations |\n| 3 | Vaishali |  63.00 | 15-11-2014 | IT         |\n| 4 | Nishka   | 749.00 | 11-05-2014 | HR         |\n| 5 | Gunjan   | 863.25 | 27-03-2015 | Finance    |\n| 6 | Sumit    | 588.00 | 21-05-2013 | IT         |\n| 7 | Anisha   | 932.80 | 30-07-2013 | Operations |\n| 8 | Akash    | 712.50 | 17-06-2014 | Finance    |\n\n",
            "text/latex": "A data.frame: 8 × 5\n\\begin{tabular}{lllll}\n id & name & salary & start\\_date & dept\\\\\n <int> & <chr> & <dbl> & <chr> & <chr>\\\\\n\\hline\n\t 1 & Shubham  & 613.30 & 01-01-2012 & IT        \\\\\n\t 2 & Arpita   & 525.20 & 23-09-2013 & Operations\\\\\n\t 3 & Vaishali &  63.00 & 15-11-2014 & IT        \\\\\n\t 4 & Nishka   & 749.00 & 11-05-2014 & HR        \\\\\n\t 5 & Gunjan   & 863.25 & 27-03-2015 & Finance   \\\\\n\t 6 & Sumit    & 588.00 & 21-05-2013 & IT        \\\\\n\t 7 & Anisha   & 932.80 & 30-07-2013 & Operations\\\\\n\t 8 & Akash    & 712.50 & 17-06-2014 & Finance   \\\\\n\\end{tabular}\n",
            "text/plain": [
              "  id name     salary start_date dept      \n",
              "1 1  Shubham  613.30 01-01-2012 IT        \n",
              "2 2  Arpita   525.20 23-09-2013 Operations\n",
              "3 3  Vaishali  63.00 15-11-2014 IT        \n",
              "4 4  Nishka   749.00 11-05-2014 HR        \n",
              "5 5  Gunjan   863.25 27-03-2015 Finance   \n",
              "6 6  Sumit    588.00 21-05-2013 IT        \n",
              "7 7  Anisha   932.80 30-07-2013 Operations\n",
              "8 8  Akash    712.50 17-06-2014 Finance   "
            ]
          },
          "metadata": {}
        },
        {
          "output_type": "stream",
          "name": "stdout",
          "text": [
            "[1] TRUE\n",
            "\n"
          ]
        },
        {
          "output_type": "display_data",
          "data": {
            "text/html": [
              "5"
            ],
            "text/markdown": "5",
            "text/latex": "5",
            "text/plain": [
              "[1] 5"
            ]
          },
          "metadata": {}
        },
        {
          "output_type": "display_data",
          "data": {
            "text/html": [
              "8"
            ],
            "text/markdown": "8",
            "text/latex": "8",
            "text/plain": [
              "[1] 8"
            ]
          },
          "metadata": {}
        }
      ]
    },
    {
      "cell_type": "code",
      "source": [
        "# @title Analysing DataFrame\n",
        "max(record$salary) #get Maximum Salary\n",
        "min(record$salary) #get Minimum Salary\n",
        "summary(record)\n",
        "\n",
        "subset(record, salary==max(salary)) # Subset of a Dataset using condition : subset(reference , column == (condition))\n",
        "subset(record, salary == min( subset(record, dept == \"Operations\" )$salary )) # Minimum Salary in Operations Department"
      ],
      "metadata": {
        "colab": {
          "base_uri": "https://localhost:8080/",
          "height": 520
        },
        "id": "lL8BpKFsSIys",
        "outputId": "1f0e4d2b-c823-45d3-b1d5-3755b1d34790"
      },
      "execution_count": null,
      "outputs": [
        {
          "output_type": "display_data",
          "data": {
            "text/html": [
              "932.8"
            ],
            "text/markdown": "932.8",
            "text/latex": "932.8",
            "text/plain": [
              "[1] 932.8"
            ]
          },
          "metadata": {}
        },
        {
          "output_type": "display_data",
          "data": {
            "text/html": [
              "63"
            ],
            "text/markdown": "63",
            "text/latex": "63",
            "text/plain": [
              "[1] 63"
            ]
          },
          "metadata": {}
        },
        {
          "output_type": "display_data",
          "data": {
            "text/plain": [
              "       id           name               salary       start_date       \n",
              " Min.   :1.00   Length:8           Min.   : 63.0   Length:8          \n",
              " 1st Qu.:2.75   Class :character   1st Qu.:572.3   Class :character  \n",
              " Median :4.50   Mode  :character   Median :662.9   Mode  :character  \n",
              " Mean   :4.50                      Mean   :630.9                     \n",
              " 3rd Qu.:6.25                      3rd Qu.:777.6                     \n",
              " Max.   :8.00                      Max.   :932.8                     \n",
              "     dept          \n",
              " Length:8          \n",
              " Class :character  \n",
              " Mode  :character  \n",
              "                   \n",
              "                   \n",
              "                   "
            ]
          },
          "metadata": {}
        },
        {
          "output_type": "display_data",
          "data": {
            "text/html": [
              "<table class=\"dataframe\">\n",
              "<caption>A data.frame: 1 × 5</caption>\n",
              "<thead>\n",
              "\t<tr><th></th><th scope=col>id</th><th scope=col>name</th><th scope=col>salary</th><th scope=col>start_date</th><th scope=col>dept</th></tr>\n",
              "\t<tr><th></th><th scope=col>&lt;int&gt;</th><th scope=col>&lt;chr&gt;</th><th scope=col>&lt;dbl&gt;</th><th scope=col>&lt;chr&gt;</th><th scope=col>&lt;chr&gt;</th></tr>\n",
              "</thead>\n",
              "<tbody>\n",
              "\t<tr><th scope=row>7</th><td>7</td><td>Anisha</td><td>932.8</td><td>30-07-2013</td><td>Operations</td></tr>\n",
              "</tbody>\n",
              "</table>\n"
            ],
            "text/markdown": "\nA data.frame: 1 × 5\n\n| <!--/--> | id &lt;int&gt; | name &lt;chr&gt; | salary &lt;dbl&gt; | start_date &lt;chr&gt; | dept &lt;chr&gt; |\n|---|---|---|---|---|---|\n| 7 | 7 | Anisha | 932.8 | 30-07-2013 | Operations |\n\n",
            "text/latex": "A data.frame: 1 × 5\n\\begin{tabular}{r|lllll}\n  & id & name & salary & start\\_date & dept\\\\\n  & <int> & <chr> & <dbl> & <chr> & <chr>\\\\\n\\hline\n\t7 & 7 & Anisha & 932.8 & 30-07-2013 & Operations\\\\\n\\end{tabular}\n",
            "text/plain": [
              "  id name   salary start_date dept      \n",
              "7 7  Anisha 932.8  30-07-2013 Operations"
            ]
          },
          "metadata": {}
        },
        {
          "output_type": "display_data",
          "data": {
            "text/html": [
              "<table class=\"dataframe\">\n",
              "<caption>A data.frame: 1 × 5</caption>\n",
              "<thead>\n",
              "\t<tr><th></th><th scope=col>id</th><th scope=col>name</th><th scope=col>salary</th><th scope=col>start_date</th><th scope=col>dept</th></tr>\n",
              "\t<tr><th></th><th scope=col>&lt;int&gt;</th><th scope=col>&lt;chr&gt;</th><th scope=col>&lt;dbl&gt;</th><th scope=col>&lt;chr&gt;</th><th scope=col>&lt;chr&gt;</th></tr>\n",
              "</thead>\n",
              "<tbody>\n",
              "\t<tr><th scope=row>2</th><td>2</td><td>Arpita</td><td>525.2</td><td>23-09-2013</td><td>Operations</td></tr>\n",
              "</tbody>\n",
              "</table>\n"
            ],
            "text/markdown": "\nA data.frame: 1 × 5\n\n| <!--/--> | id &lt;int&gt; | name &lt;chr&gt; | salary &lt;dbl&gt; | start_date &lt;chr&gt; | dept &lt;chr&gt; |\n|---|---|---|---|---|---|\n| 2 | 2 | Arpita | 525.2 | 23-09-2013 | Operations |\n\n",
            "text/latex": "A data.frame: 1 × 5\n\\begin{tabular}{r|lllll}\n  & id & name & salary & start\\_date & dept\\\\\n  & <int> & <chr> & <dbl> & <chr> & <chr>\\\\\n\\hline\n\t2 & 2 & Arpita & 525.2 & 23-09-2013 & Operations\\\\\n\\end{tabular}\n",
            "text/plain": [
              "  id name   salary start_date dept      \n",
              "2 2  Arpita 525.2  23-09-2013 Operations"
            ]
          },
          "metadata": {}
        }
      ]
    },
    {
      "cell_type": "code",
      "source": [
        "# @title Data Arrangement\n",
        "library(\"dplyr\")\n",
        "dplyr::arrange(record,name) # arranging data based on condition\n",
        "cat(\"\\n\")\n",
        "dplyr::arrange(record,desc(salary)) # arranging salary in descending order"
      ],
      "metadata": {
        "colab": {
          "base_uri": "https://localhost:8080/",
          "height": 698
        },
        "id": "5CJTVPpsajii",
        "outputId": "4ee7a88c-d786-4c03-9e1e-4d44b0ecddb8"
      },
      "execution_count": null,
      "outputs": [
        {
          "output_type": "display_data",
          "data": {
            "text/html": [
              "<table class=\"dataframe\">\n",
              "<caption>A data.frame: 8 × 5</caption>\n",
              "<thead>\n",
              "\t<tr><th scope=col>id</th><th scope=col>name</th><th scope=col>salary</th><th scope=col>start_date</th><th scope=col>dept</th></tr>\n",
              "\t<tr><th scope=col>&lt;int&gt;</th><th scope=col>&lt;chr&gt;</th><th scope=col>&lt;dbl&gt;</th><th scope=col>&lt;chr&gt;</th><th scope=col>&lt;chr&gt;</th></tr>\n",
              "</thead>\n",
              "<tbody>\n",
              "\t<tr><td>8</td><td>Akash   </td><td>712.50</td><td>17-06-2014</td><td>Finance   </td></tr>\n",
              "\t<tr><td>7</td><td>Anisha  </td><td>932.80</td><td>30-07-2013</td><td>Operations</td></tr>\n",
              "\t<tr><td>2</td><td>Arpita  </td><td>525.20</td><td>23-09-2013</td><td>Operations</td></tr>\n",
              "\t<tr><td>5</td><td>Gunjan  </td><td>863.25</td><td>27-03-2015</td><td>Finance   </td></tr>\n",
              "\t<tr><td>4</td><td>Nishka  </td><td>749.00</td><td>11-05-2014</td><td>HR        </td></tr>\n",
              "\t<tr><td>1</td><td>Shubham </td><td>613.30</td><td>01-01-2012</td><td>IT        </td></tr>\n",
              "\t<tr><td>6</td><td>Sumit   </td><td>588.00</td><td>21-05-2013</td><td>IT        </td></tr>\n",
              "\t<tr><td>3</td><td>Vaishali</td><td> 63.00</td><td>15-11-2014</td><td>IT        </td></tr>\n",
              "</tbody>\n",
              "</table>\n"
            ],
            "text/markdown": "\nA data.frame: 8 × 5\n\n| id &lt;int&gt; | name &lt;chr&gt; | salary &lt;dbl&gt; | start_date &lt;chr&gt; | dept &lt;chr&gt; |\n|---|---|---|---|---|\n| 8 | Akash    | 712.50 | 17-06-2014 | Finance    |\n| 7 | Anisha   | 932.80 | 30-07-2013 | Operations |\n| 2 | Arpita   | 525.20 | 23-09-2013 | Operations |\n| 5 | Gunjan   | 863.25 | 27-03-2015 | Finance    |\n| 4 | Nishka   | 749.00 | 11-05-2014 | HR         |\n| 1 | Shubham  | 613.30 | 01-01-2012 | IT         |\n| 6 | Sumit    | 588.00 | 21-05-2013 | IT         |\n| 3 | Vaishali |  63.00 | 15-11-2014 | IT         |\n\n",
            "text/latex": "A data.frame: 8 × 5\n\\begin{tabular}{lllll}\n id & name & salary & start\\_date & dept\\\\\n <int> & <chr> & <dbl> & <chr> & <chr>\\\\\n\\hline\n\t 8 & Akash    & 712.50 & 17-06-2014 & Finance   \\\\\n\t 7 & Anisha   & 932.80 & 30-07-2013 & Operations\\\\\n\t 2 & Arpita   & 525.20 & 23-09-2013 & Operations\\\\\n\t 5 & Gunjan   & 863.25 & 27-03-2015 & Finance   \\\\\n\t 4 & Nishka   & 749.00 & 11-05-2014 & HR        \\\\\n\t 1 & Shubham  & 613.30 & 01-01-2012 & IT        \\\\\n\t 6 & Sumit    & 588.00 & 21-05-2013 & IT        \\\\\n\t 3 & Vaishali &  63.00 & 15-11-2014 & IT        \\\\\n\\end{tabular}\n",
            "text/plain": [
              "  id name     salary start_date dept      \n",
              "1 8  Akash    712.50 17-06-2014 Finance   \n",
              "2 7  Anisha   932.80 30-07-2013 Operations\n",
              "3 2  Arpita   525.20 23-09-2013 Operations\n",
              "4 5  Gunjan   863.25 27-03-2015 Finance   \n",
              "5 4  Nishka   749.00 11-05-2014 HR        \n",
              "6 1  Shubham  613.30 01-01-2012 IT        \n",
              "7 6  Sumit    588.00 21-05-2013 IT        \n",
              "8 3  Vaishali  63.00 15-11-2014 IT        "
            ]
          },
          "metadata": {}
        },
        {
          "output_type": "stream",
          "name": "stdout",
          "text": [
            "\n"
          ]
        },
        {
          "output_type": "display_data",
          "data": {
            "text/html": [
              "<table class=\"dataframe\">\n",
              "<caption>A data.frame: 8 × 5</caption>\n",
              "<thead>\n",
              "\t<tr><th scope=col>id</th><th scope=col>name</th><th scope=col>salary</th><th scope=col>start_date</th><th scope=col>dept</th></tr>\n",
              "\t<tr><th scope=col>&lt;int&gt;</th><th scope=col>&lt;chr&gt;</th><th scope=col>&lt;dbl&gt;</th><th scope=col>&lt;chr&gt;</th><th scope=col>&lt;chr&gt;</th></tr>\n",
              "</thead>\n",
              "<tbody>\n",
              "\t<tr><td>7</td><td>Anisha  </td><td>932.80</td><td>30-07-2013</td><td>Operations</td></tr>\n",
              "\t<tr><td>5</td><td>Gunjan  </td><td>863.25</td><td>27-03-2015</td><td>Finance   </td></tr>\n",
              "\t<tr><td>4</td><td>Nishka  </td><td>749.00</td><td>11-05-2014</td><td>HR        </td></tr>\n",
              "\t<tr><td>8</td><td>Akash   </td><td>712.50</td><td>17-06-2014</td><td>Finance   </td></tr>\n",
              "\t<tr><td>1</td><td>Shubham </td><td>613.30</td><td>01-01-2012</td><td>IT        </td></tr>\n",
              "\t<tr><td>6</td><td>Sumit   </td><td>588.00</td><td>21-05-2013</td><td>IT        </td></tr>\n",
              "\t<tr><td>2</td><td>Arpita  </td><td>525.20</td><td>23-09-2013</td><td>Operations</td></tr>\n",
              "\t<tr><td>3</td><td>Vaishali</td><td> 63.00</td><td>15-11-2014</td><td>IT        </td></tr>\n",
              "</tbody>\n",
              "</table>\n"
            ],
            "text/markdown": "\nA data.frame: 8 × 5\n\n| id &lt;int&gt; | name &lt;chr&gt; | salary &lt;dbl&gt; | start_date &lt;chr&gt; | dept &lt;chr&gt; |\n|---|---|---|---|---|\n| 7 | Anisha   | 932.80 | 30-07-2013 | Operations |\n| 5 | Gunjan   | 863.25 | 27-03-2015 | Finance    |\n| 4 | Nishka   | 749.00 | 11-05-2014 | HR         |\n| 8 | Akash    | 712.50 | 17-06-2014 | Finance    |\n| 1 | Shubham  | 613.30 | 01-01-2012 | IT         |\n| 6 | Sumit    | 588.00 | 21-05-2013 | IT         |\n| 2 | Arpita   | 525.20 | 23-09-2013 | Operations |\n| 3 | Vaishali |  63.00 | 15-11-2014 | IT         |\n\n",
            "text/latex": "A data.frame: 8 × 5\n\\begin{tabular}{lllll}\n id & name & salary & start\\_date & dept\\\\\n <int> & <chr> & <dbl> & <chr> & <chr>\\\\\n\\hline\n\t 7 & Anisha   & 932.80 & 30-07-2013 & Operations\\\\\n\t 5 & Gunjan   & 863.25 & 27-03-2015 & Finance   \\\\\n\t 4 & Nishka   & 749.00 & 11-05-2014 & HR        \\\\\n\t 8 & Akash    & 712.50 & 17-06-2014 & Finance   \\\\\n\t 1 & Shubham  & 613.30 & 01-01-2012 & IT        \\\\\n\t 6 & Sumit    & 588.00 & 21-05-2013 & IT        \\\\\n\t 2 & Arpita   & 525.20 & 23-09-2013 & Operations\\\\\n\t 3 & Vaishali &  63.00 & 15-11-2014 & IT        \\\\\n\\end{tabular}\n",
            "text/plain": [
              "  id name     salary start_date dept      \n",
              "1 7  Anisha   932.80 30-07-2013 Operations\n",
              "2 5  Gunjan   863.25 27-03-2015 Finance   \n",
              "3 4  Nishka   749.00 11-05-2014 HR        \n",
              "4 8  Akash    712.50 17-06-2014 Finance   \n",
              "5 1  Shubham  613.30 01-01-2012 IT        \n",
              "6 6  Sumit    588.00 21-05-2013 IT        \n",
              "7 2  Arpita   525.20 23-09-2013 Operations\n",
              "8 3  Vaishali  63.00 15-11-2014 IT        "
            ]
          },
          "metadata": {}
        }
      ]
    },
    {
      "cell_type": "code",
      "source": [
        "# @title Filter, Select Functions\n",
        "filter(record, salary > 700) # filter( dataset, condition)\n",
        "cat(\"\\n\")\n",
        "select(record, name, dept) # get multiple data from multiple columns"
      ],
      "metadata": {
        "colab": {
          "base_uri": "https://localhost:8080/",
          "height": 573
        },
        "id": "_6qS1ejdeBlf",
        "outputId": "04ddd344-75fa-46c3-9217-d41cdfdf8696"
      },
      "execution_count": null,
      "outputs": [
        {
          "output_type": "display_data",
          "data": {
            "text/html": [
              "<table class=\"dataframe\">\n",
              "<caption>A data.frame: 4 × 5</caption>\n",
              "<thead>\n",
              "\t<tr><th scope=col>id</th><th scope=col>name</th><th scope=col>salary</th><th scope=col>start_date</th><th scope=col>dept</th></tr>\n",
              "\t<tr><th scope=col>&lt;int&gt;</th><th scope=col>&lt;chr&gt;</th><th scope=col>&lt;dbl&gt;</th><th scope=col>&lt;chr&gt;</th><th scope=col>&lt;chr&gt;</th></tr>\n",
              "</thead>\n",
              "<tbody>\n",
              "\t<tr><td>4</td><td>Nishka</td><td>749.00</td><td>11-05-2014</td><td>HR        </td></tr>\n",
              "\t<tr><td>5</td><td>Gunjan</td><td>863.25</td><td>27-03-2015</td><td>Finance   </td></tr>\n",
              "\t<tr><td>7</td><td>Anisha</td><td>932.80</td><td>30-07-2013</td><td>Operations</td></tr>\n",
              "\t<tr><td>8</td><td>Akash </td><td>712.50</td><td>17-06-2014</td><td>Finance   </td></tr>\n",
              "</tbody>\n",
              "</table>\n"
            ],
            "text/markdown": "\nA data.frame: 4 × 5\n\n| id &lt;int&gt; | name &lt;chr&gt; | salary &lt;dbl&gt; | start_date &lt;chr&gt; | dept &lt;chr&gt; |\n|---|---|---|---|---|\n| 4 | Nishka | 749.00 | 11-05-2014 | HR         |\n| 5 | Gunjan | 863.25 | 27-03-2015 | Finance    |\n| 7 | Anisha | 932.80 | 30-07-2013 | Operations |\n| 8 | Akash  | 712.50 | 17-06-2014 | Finance    |\n\n",
            "text/latex": "A data.frame: 4 × 5\n\\begin{tabular}{lllll}\n id & name & salary & start\\_date & dept\\\\\n <int> & <chr> & <dbl> & <chr> & <chr>\\\\\n\\hline\n\t 4 & Nishka & 749.00 & 11-05-2014 & HR        \\\\\n\t 5 & Gunjan & 863.25 & 27-03-2015 & Finance   \\\\\n\t 7 & Anisha & 932.80 & 30-07-2013 & Operations\\\\\n\t 8 & Akash  & 712.50 & 17-06-2014 & Finance   \\\\\n\\end{tabular}\n",
            "text/plain": [
              "  id name   salary start_date dept      \n",
              "1 4  Nishka 749.00 11-05-2014 HR        \n",
              "2 5  Gunjan 863.25 27-03-2015 Finance   \n",
              "3 7  Anisha 932.80 30-07-2013 Operations\n",
              "4 8  Akash  712.50 17-06-2014 Finance   "
            ]
          },
          "metadata": {}
        },
        {
          "output_type": "stream",
          "name": "stdout",
          "text": [
            "\n"
          ]
        },
        {
          "output_type": "display_data",
          "data": {
            "text/html": [
              "<table class=\"dataframe\">\n",
              "<caption>A data.frame: 8 × 2</caption>\n",
              "<thead>\n",
              "\t<tr><th scope=col>name</th><th scope=col>dept</th></tr>\n",
              "\t<tr><th scope=col>&lt;chr&gt;</th><th scope=col>&lt;chr&gt;</th></tr>\n",
              "</thead>\n",
              "<tbody>\n",
              "\t<tr><td>Shubham </td><td>IT        </td></tr>\n",
              "\t<tr><td>Arpita  </td><td>Operations</td></tr>\n",
              "\t<tr><td>Vaishali</td><td>IT        </td></tr>\n",
              "\t<tr><td>Nishka  </td><td>HR        </td></tr>\n",
              "\t<tr><td>Gunjan  </td><td>Finance   </td></tr>\n",
              "\t<tr><td>Sumit   </td><td>IT        </td></tr>\n",
              "\t<tr><td>Anisha  </td><td>Operations</td></tr>\n",
              "\t<tr><td>Akash   </td><td>Finance   </td></tr>\n",
              "</tbody>\n",
              "</table>\n"
            ],
            "text/markdown": "\nA data.frame: 8 × 2\n\n| name &lt;chr&gt; | dept &lt;chr&gt; |\n|---|---|\n| Shubham  | IT         |\n| Arpita   | Operations |\n| Vaishali | IT         |\n| Nishka   | HR         |\n| Gunjan   | Finance    |\n| Sumit    | IT         |\n| Anisha   | Operations |\n| Akash    | Finance    |\n\n",
            "text/latex": "A data.frame: 8 × 2\n\\begin{tabular}{ll}\n name & dept\\\\\n <chr> & <chr>\\\\\n\\hline\n\t Shubham  & IT        \\\\\n\t Arpita   & Operations\\\\\n\t Vaishali & IT        \\\\\n\t Nishka   & HR        \\\\\n\t Gunjan   & Finance   \\\\\n\t Sumit    & IT        \\\\\n\t Anisha   & Operations\\\\\n\t Akash    & Finance   \\\\\n\\end{tabular}\n",
            "text/plain": [
              "  name     dept      \n",
              "1 Shubham  IT        \n",
              "2 Arpita   Operations\n",
              "3 Vaishali IT        \n",
              "4 Nishka   HR        \n",
              "5 Gunjan   Finance   \n",
              "6 Sumit    IT        \n",
              "7 Anisha   Operations\n",
              "8 Akash    Finance   "
            ]
          },
          "metadata": {}
        }
      ]
    },
    {
      "cell_type": "code",
      "source": [
        "# @title Pipes\n",
        "record %>% filter (dept == \"Operations\") %>% select (name, dept) # Apply multiple conditions"
      ],
      "metadata": {
        "colab": {
          "base_uri": "https://localhost:8080/",
          "height": 161
        },
        "id": "hH_W08C6fe7Q",
        "outputId": "1d8bcc92-0f35-419d-a1b2-01933d7f0ad7"
      },
      "execution_count": null,
      "outputs": [
        {
          "output_type": "display_data",
          "data": {
            "text/html": [
              "<table class=\"dataframe\">\n",
              "<caption>A data.frame: 2 × 2</caption>\n",
              "<thead>\n",
              "\t<tr><th scope=col>name</th><th scope=col>dept</th></tr>\n",
              "\t<tr><th scope=col>&lt;chr&gt;</th><th scope=col>&lt;chr&gt;</th></tr>\n",
              "</thead>\n",
              "<tbody>\n",
              "\t<tr><td>Arpita</td><td>Operations</td></tr>\n",
              "\t<tr><td>Anisha</td><td>Operations</td></tr>\n",
              "</tbody>\n",
              "</table>\n"
            ],
            "text/markdown": "\nA data.frame: 2 × 2\n\n| name &lt;chr&gt; | dept &lt;chr&gt; |\n|---|---|\n| Arpita | Operations |\n| Anisha | Operations |\n\n",
            "text/latex": "A data.frame: 2 × 2\n\\begin{tabular}{ll}\n name & dept\\\\\n <chr> & <chr>\\\\\n\\hline\n\t Arpita & Operations\\\\\n\t Anisha & Operations\\\\\n\\end{tabular}\n",
            "text/plain": [
              "  name   dept      \n",
              "1 Arpita Operations\n",
              "2 Anisha Operations"
            ]
          },
          "metadata": {}
        }
      ]
    },
    {
      "cell_type": "code",
      "source": [
        "# @title Select Functions : matches, starts_with, contains\n",
        "select(record, matches(\"name\"))\n",
        "cat(\"\\n\")\n",
        "select(record, starts_with(\"sal\"))\n",
        "cat(\"\\n\")\n",
        "select(record, contains(\"dept\"))\n",
        "# All apply on column names"
      ],
      "metadata": {
        "colab": {
          "base_uri": "https://localhost:8080/",
          "height": 1000
        },
        "id": "rtUc6rQ6xllr",
        "outputId": "c592faab-17f0-492d-e935-1d2606fc2661"
      },
      "execution_count": null,
      "outputs": [
        {
          "output_type": "display_data",
          "data": {
            "text/html": [
              "<table class=\"dataframe\">\n",
              "<caption>A data.frame: 8 × 1</caption>\n",
              "<thead>\n",
              "\t<tr><th scope=col>name</th></tr>\n",
              "\t<tr><th scope=col>&lt;chr&gt;</th></tr>\n",
              "</thead>\n",
              "<tbody>\n",
              "\t<tr><td>Shubham </td></tr>\n",
              "\t<tr><td>Arpita  </td></tr>\n",
              "\t<tr><td>Vaishali</td></tr>\n",
              "\t<tr><td>Nishka  </td></tr>\n",
              "\t<tr><td>Gunjan  </td></tr>\n",
              "\t<tr><td>Sumit   </td></tr>\n",
              "\t<tr><td>Anisha  </td></tr>\n",
              "\t<tr><td>Akash   </td></tr>\n",
              "</tbody>\n",
              "</table>\n"
            ],
            "text/markdown": "\nA data.frame: 8 × 1\n\n| name &lt;chr&gt; |\n|---|\n| Shubham  |\n| Arpita   |\n| Vaishali |\n| Nishka   |\n| Gunjan   |\n| Sumit    |\n| Anisha   |\n| Akash    |\n\n",
            "text/latex": "A data.frame: 8 × 1\n\\begin{tabular}{l}\n name\\\\\n <chr>\\\\\n\\hline\n\t Shubham \\\\\n\t Arpita  \\\\\n\t Vaishali\\\\\n\t Nishka  \\\\\n\t Gunjan  \\\\\n\t Sumit   \\\\\n\t Anisha  \\\\\n\t Akash   \\\\\n\\end{tabular}\n",
            "text/plain": [
              "  name    \n",
              "1 Shubham \n",
              "2 Arpita  \n",
              "3 Vaishali\n",
              "4 Nishka  \n",
              "5 Gunjan  \n",
              "6 Sumit   \n",
              "7 Anisha  \n",
              "8 Akash   "
            ]
          },
          "metadata": {}
        },
        {
          "output_type": "stream",
          "name": "stdout",
          "text": [
            "\n"
          ]
        },
        {
          "output_type": "display_data",
          "data": {
            "text/html": [
              "<table class=\"dataframe\">\n",
              "<caption>A data.frame: 8 × 1</caption>\n",
              "<thead>\n",
              "\t<tr><th scope=col>salary</th></tr>\n",
              "\t<tr><th scope=col>&lt;dbl&gt;</th></tr>\n",
              "</thead>\n",
              "<tbody>\n",
              "\t<tr><td>613.30</td></tr>\n",
              "\t<tr><td>525.20</td></tr>\n",
              "\t<tr><td> 63.00</td></tr>\n",
              "\t<tr><td>749.00</td></tr>\n",
              "\t<tr><td>863.25</td></tr>\n",
              "\t<tr><td>588.00</td></tr>\n",
              "\t<tr><td>932.80</td></tr>\n",
              "\t<tr><td>712.50</td></tr>\n",
              "</tbody>\n",
              "</table>\n"
            ],
            "text/markdown": "\nA data.frame: 8 × 1\n\n| salary &lt;dbl&gt; |\n|---|\n| 613.30 |\n| 525.20 |\n|  63.00 |\n| 749.00 |\n| 863.25 |\n| 588.00 |\n| 932.80 |\n| 712.50 |\n\n",
            "text/latex": "A data.frame: 8 × 1\n\\begin{tabular}{l}\n salary\\\\\n <dbl>\\\\\n\\hline\n\t 613.30\\\\\n\t 525.20\\\\\n\t  63.00\\\\\n\t 749.00\\\\\n\t 863.25\\\\\n\t 588.00\\\\\n\t 932.80\\\\\n\t 712.50\\\\\n\\end{tabular}\n",
            "text/plain": [
              "  salary\n",
              "1 613.30\n",
              "2 525.20\n",
              "3  63.00\n",
              "4 749.00\n",
              "5 863.25\n",
              "6 588.00\n",
              "7 932.80\n",
              "8 712.50"
            ]
          },
          "metadata": {}
        },
        {
          "output_type": "stream",
          "name": "stdout",
          "text": [
            "\n"
          ]
        },
        {
          "output_type": "display_data",
          "data": {
            "text/html": [
              "<table class=\"dataframe\">\n",
              "<caption>A data.frame: 8 × 1</caption>\n",
              "<thead>\n",
              "\t<tr><th scope=col>dept</th></tr>\n",
              "\t<tr><th scope=col>&lt;chr&gt;</th></tr>\n",
              "</thead>\n",
              "<tbody>\n",
              "\t<tr><td>IT        </td></tr>\n",
              "\t<tr><td>Operations</td></tr>\n",
              "\t<tr><td>IT        </td></tr>\n",
              "\t<tr><td>HR        </td></tr>\n",
              "\t<tr><td>Finance   </td></tr>\n",
              "\t<tr><td>IT        </td></tr>\n",
              "\t<tr><td>Operations</td></tr>\n",
              "\t<tr><td>Finance   </td></tr>\n",
              "</tbody>\n",
              "</table>\n"
            ],
            "text/markdown": "\nA data.frame: 8 × 1\n\n| dept &lt;chr&gt; |\n|---|\n| IT         |\n| Operations |\n| IT         |\n| HR         |\n| Finance    |\n| IT         |\n| Operations |\n| Finance    |\n\n",
            "text/latex": "A data.frame: 8 × 1\n\\begin{tabular}{l}\n dept\\\\\n <chr>\\\\\n\\hline\n\t IT        \\\\\n\t Operations\\\\\n\t IT        \\\\\n\t HR        \\\\\n\t Finance   \\\\\n\t IT        \\\\\n\t Operations\\\\\n\t Finance   \\\\\n\\end{tabular}\n",
            "text/plain": [
              "  dept      \n",
              "1 IT        \n",
              "2 Operations\n",
              "3 IT        \n",
              "4 HR        \n",
              "5 Finance   \n",
              "6 IT        \n",
              "7 Operations\n",
              "8 Finance   "
            ]
          },
          "metadata": {}
        }
      ]
    },
    {
      "cell_type": "markdown",
      "source": [
        "# Day 2 : Text Manipulation"
      ],
      "metadata": {
        "id": "mKpuYgvk57Rw"
      }
    },
    {
      "cell_type": "code",
      "source": [
        "# @title 1. Paste Function\n",
        "paste(\"Hello\",\"Computer\",\"Science\", sep = \"_\") # takes multiple arguments and concatenates to give output\n",
        "cat(\"\\n\")\n",
        "paste(c(1:10), collapse = \"_\") # use collapse w.r.t vectors\n",
        "cat(\"\\n\")\n",
        "paste0(c(\"one\", \"two\", \"three\", \"four\", \"five\") , 10:15 , collapse = \" - & - \") # vectors and sequence gets concatenated\n",
        "cat(\"\\n\")\n",
        "paste(record$name , sep = '_', collapse = '  ') # Printing Datafram"
      ],
      "metadata": {
        "colab": {
          "base_uri": "https://localhost:8080/",
          "height": 139
        },
        "id": "Gk_LZbUC1zLu",
        "outputId": "acf0de24-606b-41da-eea8-16689a8f1588"
      },
      "execution_count": null,
      "outputs": [
        {
          "output_type": "display_data",
          "data": {
            "text/html": [
              "'Hello_Computer_Science'"
            ],
            "text/markdown": "'Hello_Computer_Science'",
            "text/latex": "'Hello\\_Computer\\_Science'",
            "text/plain": [
              "[1] \"Hello_Computer_Science\""
            ]
          },
          "metadata": {}
        },
        {
          "output_type": "stream",
          "name": "stdout",
          "text": [
            "\n"
          ]
        },
        {
          "output_type": "display_data",
          "data": {
            "text/html": [
              "'1_2_3_4_5_6_7_8_9_10'"
            ],
            "text/markdown": "'1_2_3_4_5_6_7_8_9_10'",
            "text/latex": "'1\\_2\\_3\\_4\\_5\\_6\\_7\\_8\\_9\\_10'",
            "text/plain": [
              "[1] \"1_2_3_4_5_6_7_8_9_10\""
            ]
          },
          "metadata": {}
        },
        {
          "output_type": "stream",
          "name": "stdout",
          "text": [
            "\n"
          ]
        },
        {
          "output_type": "display_data",
          "data": {
            "text/html": [
              "'one10 - &amp; - two11 - &amp; - three12 - &amp; - four13 - &amp; - five14 - &amp; - one15'"
            ],
            "text/markdown": "'one10 - &amp; - two11 - &amp; - three12 - &amp; - four13 - &amp; - five14 - &amp; - one15'",
            "text/latex": "'one10 - \\& - two11 - \\& - three12 - \\& - four13 - \\& - five14 - \\& - one15'",
            "text/plain": [
              "[1] \"one10 - & - two11 - & - three12 - & - four13 - & - five14 - & - one15\""
            ]
          },
          "metadata": {}
        },
        {
          "output_type": "stream",
          "name": "stdout",
          "text": [
            "\n"
          ]
        },
        {
          "output_type": "display_data",
          "data": {
            "text/html": [
              "<span style=white-space:pre-wrap>'Shubham  Arpita  Vaishali  Nishka  Gunjan  Sumit  Anisha  Akash'</span>"
            ],
            "text/markdown": "<span style=white-space:pre-wrap>'Shubham  Arpita  Vaishali  Nishka  Gunjan  Sumit  Anisha  Akash'</span>",
            "text/latex": "'Shubham  Arpita  Vaishali  Nishka  Gunjan  Sumit  Anisha  Akash'",
            "text/plain": [
              "[1] \"Shubham  Arpita  Vaishali  Nishka  Gunjan  Sumit  Anisha  Akash\""
            ]
          },
          "metadata": {}
        }
      ]
    },
    {
      "cell_type": "code",
      "source": [
        "# @title 2. nchar( ) Function\n",
        "nchar(\"RVCE\") # length of String\n",
        "cat(\"\\n\")\n",
        "v = c('geeks' , '2', 'hello' , 55, 57)\n",
        "nchar(v) # Prints individual character length"
      ],
      "metadata": {
        "colab": {
          "base_uri": "https://localhost:8080/",
          "height": 69
        },
        "id": "mk4pp8W_5-Mn",
        "outputId": "2a7207a2-3581-445b-c9c0-13970754a61c"
      },
      "execution_count": null,
      "outputs": [
        {
          "output_type": "display_data",
          "data": {
            "text/html": [
              "4"
            ],
            "text/markdown": "4",
            "text/latex": "4",
            "text/plain": [
              "[1] 4"
            ]
          },
          "metadata": {}
        },
        {
          "output_type": "stream",
          "name": "stdout",
          "text": [
            "\n"
          ]
        },
        {
          "output_type": "display_data",
          "data": {
            "text/html": [
              "<style>\n",
              ".list-inline {list-style: none; margin:0; padding: 0}\n",
              ".list-inline>li {display: inline-block}\n",
              ".list-inline>li:not(:last-child)::after {content: \"\\00b7\"; padding: 0 .5ex}\n",
              "</style>\n",
              "<ol class=list-inline><li>5</li><li>1</li><li>5</li><li>2</li><li>2</li></ol>\n"
            ],
            "text/markdown": "1. 5\n2. 1\n3. 5\n4. 2\n5. 2\n\n\n",
            "text/latex": "\\begin{enumerate*}\n\\item 5\n\\item 1\n\\item 5\n\\item 2\n\\item 2\n\\end{enumerate*}\n",
            "text/plain": [
              "[1] 5 1 5 2 2"
            ]
          },
          "metadata": {}
        }
      ]
    },
    {
      "cell_type": "code",
      "source": [
        "# @title 3. Length Function\n",
        "v = c('geeks' , '2', 'hello' , 55, 57) # It will give length of the Vector instead of Individual\n",
        "length(v)"
      ],
      "metadata": {
        "colab": {
          "base_uri": "https://localhost:8080/",
          "height": 34
        },
        "id": "LQYQyBGY7u6A",
        "outputId": "fc60a261-3be4-4352-9646-d1e140a00ef3"
      },
      "execution_count": null,
      "outputs": [
        {
          "output_type": "display_data",
          "data": {
            "text/html": [
              "5"
            ],
            "text/markdown": "5",
            "text/latex": "5",
            "text/plain": [
              "[1] 5"
            ]
          },
          "metadata": {}
        }
      ]
    },
    {
      "cell_type": "code",
      "source": [
        "# @title 4. Strsplit Function\n",
        "strsplit(\"Hello World, Welcome to RV College of Engineering\", \" \") # strsplit( string, split expression)  default separator : space\n",
        "strsplit(\"RV123College456Of789Engineering\", \"[0-9]+\") # To separate string and numbers : wherever number 0-9 , considered as split expression\n",
        "strsplit(\"RV123College456Of789Engineering\", \"[a-z A-Z]+\") # To get only numbers , Regular Expression\n",
        "Date_Values <- c(\"2023-01-01\", \"2023-02-02\", \"2023-03-03\", \"2023-04-04\", \"2023-05-05\")\n",
        "strsplit(Date_Values, split = \"-\")"
      ],
      "metadata": {
        "colab": {
          "base_uri": "https://localhost:8080/",
          "height": 226
        },
        "id": "xrZ1yNb18nIJ",
        "outputId": "7a35bd5c-23cb-4734-e366-1eab79a0b0d0"
      },
      "execution_count": null,
      "outputs": [
        {
          "output_type": "display_data",
          "data": {
            "text/html": [
              "<ol>\n",
              "\t<li><style>\n",
              ".list-inline {list-style: none; margin:0; padding: 0}\n",
              ".list-inline>li {display: inline-block}\n",
              ".list-inline>li:not(:last-child)::after {content: \"\\00b7\"; padding: 0 .5ex}\n",
              "</style>\n",
              "<ol class=list-inline><li>'Hello'</li><li>'World,'</li><li>'Welcome'</li><li>'to'</li><li>'RV'</li><li>'College'</li><li>'of'</li><li>'Engineering'</li></ol>\n",
              "</li>\n",
              "</ol>\n"
            ],
            "text/markdown": "1. 1. 'Hello'\n2. 'World,'\n3. 'Welcome'\n4. 'to'\n5. 'RV'\n6. 'College'\n7. 'of'\n8. 'Engineering'\n\n\n\n\n\n",
            "text/latex": "\\begin{enumerate}\n\\item \\begin{enumerate*}\n\\item 'Hello'\n\\item 'World,'\n\\item 'Welcome'\n\\item 'to'\n\\item 'RV'\n\\item 'College'\n\\item 'of'\n\\item 'Engineering'\n\\end{enumerate*}\n\n\\end{enumerate}\n",
            "text/plain": [
              "[[1]]\n",
              "[1] \"Hello\"       \"World,\"      \"Welcome\"     \"to\"          \"RV\"         \n",
              "[6] \"College\"     \"of\"          \"Engineering\"\n"
            ]
          },
          "metadata": {}
        },
        {
          "output_type": "display_data",
          "data": {
            "text/html": [
              "<ol>\n",
              "\t<li><style>\n",
              ".list-inline {list-style: none; margin:0; padding: 0}\n",
              ".list-inline>li {display: inline-block}\n",
              ".list-inline>li:not(:last-child)::after {content: \"\\00b7\"; padding: 0 .5ex}\n",
              "</style>\n",
              "<ol class=list-inline><li>'RV'</li><li>'College'</li><li>'Of'</li><li>'Engineering'</li></ol>\n",
              "</li>\n",
              "</ol>\n"
            ],
            "text/markdown": "1. 1. 'RV'\n2. 'College'\n3. 'Of'\n4. 'Engineering'\n\n\n\n\n\n",
            "text/latex": "\\begin{enumerate}\n\\item \\begin{enumerate*}\n\\item 'RV'\n\\item 'College'\n\\item 'Of'\n\\item 'Engineering'\n\\end{enumerate*}\n\n\\end{enumerate}\n",
            "text/plain": [
              "[[1]]\n",
              "[1] \"RV\"          \"College\"     \"Of\"          \"Engineering\"\n"
            ]
          },
          "metadata": {}
        },
        {
          "output_type": "display_data",
          "data": {
            "text/html": [
              "<ol>\n",
              "\t<li><style>\n",
              ".list-inline {list-style: none; margin:0; padding: 0}\n",
              ".list-inline>li {display: inline-block}\n",
              ".list-inline>li:not(:last-child)::after {content: \"\\00b7\"; padding: 0 .5ex}\n",
              "</style>\n",
              "<ol class=list-inline><li>''</li><li>'123'</li><li>'456'</li><li>'789'</li></ol>\n",
              "</li>\n",
              "</ol>\n"
            ],
            "text/markdown": "1. 1. ''\n2. '123'\n3. '456'\n4. '789'\n\n\n\n\n\n",
            "text/latex": "\\begin{enumerate}\n\\item \\begin{enumerate*}\n\\item ''\n\\item '123'\n\\item '456'\n\\item '789'\n\\end{enumerate*}\n\n\\end{enumerate}\n",
            "text/plain": [
              "[[1]]\n",
              "[1] \"\"    \"123\" \"456\" \"789\"\n"
            ]
          },
          "metadata": {}
        },
        {
          "output_type": "display_data",
          "data": {
            "text/html": [
              "<ol>\n",
              "\t<li><style>\n",
              ".list-inline {list-style: none; margin:0; padding: 0}\n",
              ".list-inline>li {display: inline-block}\n",
              ".list-inline>li:not(:last-child)::after {content: \"\\00b7\"; padding: 0 .5ex}\n",
              "</style>\n",
              "<ol class=list-inline><li>'2023'</li><li>'01'</li><li>'01'</li></ol>\n",
              "</li>\n",
              "\t<li><style>\n",
              ".list-inline {list-style: none; margin:0; padding: 0}\n",
              ".list-inline>li {display: inline-block}\n",
              ".list-inline>li:not(:last-child)::after {content: \"\\00b7\"; padding: 0 .5ex}\n",
              "</style>\n",
              "<ol class=list-inline><li>'2023'</li><li>'02'</li><li>'02'</li></ol>\n",
              "</li>\n",
              "\t<li><style>\n",
              ".list-inline {list-style: none; margin:0; padding: 0}\n",
              ".list-inline>li {display: inline-block}\n",
              ".list-inline>li:not(:last-child)::after {content: \"\\00b7\"; padding: 0 .5ex}\n",
              "</style>\n",
              "<ol class=list-inline><li>'2023'</li><li>'03'</li><li>'03'</li></ol>\n",
              "</li>\n",
              "\t<li><style>\n",
              ".list-inline {list-style: none; margin:0; padding: 0}\n",
              ".list-inline>li {display: inline-block}\n",
              ".list-inline>li:not(:last-child)::after {content: \"\\00b7\"; padding: 0 .5ex}\n",
              "</style>\n",
              "<ol class=list-inline><li>'2023'</li><li>'04'</li><li>'04'</li></ol>\n",
              "</li>\n",
              "\t<li><style>\n",
              ".list-inline {list-style: none; margin:0; padding: 0}\n",
              ".list-inline>li {display: inline-block}\n",
              ".list-inline>li:not(:last-child)::after {content: \"\\00b7\"; padding: 0 .5ex}\n",
              "</style>\n",
              "<ol class=list-inline><li>'2023'</li><li>'05'</li><li>'05'</li></ol>\n",
              "</li>\n",
              "</ol>\n"
            ],
            "text/markdown": "1. 1. '2023'\n2. '01'\n3. '01'\n\n\n\n2. 1. '2023'\n2. '02'\n3. '02'\n\n\n\n3. 1. '2023'\n2. '03'\n3. '03'\n\n\n\n4. 1. '2023'\n2. '04'\n3. '04'\n\n\n\n5. 1. '2023'\n2. '05'\n3. '05'\n\n\n\n\n\n",
            "text/latex": "\\begin{enumerate}\n\\item \\begin{enumerate*}\n\\item '2023'\n\\item '01'\n\\item '01'\n\\end{enumerate*}\n\n\\item \\begin{enumerate*}\n\\item '2023'\n\\item '02'\n\\item '02'\n\\end{enumerate*}\n\n\\item \\begin{enumerate*}\n\\item '2023'\n\\item '03'\n\\item '03'\n\\end{enumerate*}\n\n\\item \\begin{enumerate*}\n\\item '2023'\n\\item '04'\n\\item '04'\n\\end{enumerate*}\n\n\\item \\begin{enumerate*}\n\\item '2023'\n\\item '05'\n\\item '05'\n\\end{enumerate*}\n\n\\end{enumerate}\n",
            "text/plain": [
              "[[1]]\n",
              "[1] \"2023\" \"01\"   \"01\"  \n",
              "\n",
              "[[2]]\n",
              "[1] \"2023\" \"02\"   \"02\"  \n",
              "\n",
              "[[3]]\n",
              "[1] \"2023\" \"03\"   \"03\"  \n",
              "\n",
              "[[4]]\n",
              "[1] \"2023\" \"04\"   \"04\"  \n",
              "\n",
              "[[5]]\n",
              "[1] \"2023\" \"05\"   \"05\"  \n"
            ]
          },
          "metadata": {}
        }
      ]
    },
    {
      "cell_type": "code",
      "source": [
        "# @title 5. Sprintf Function\n",
        "f <- 10\n",
        "c <- \"Mayur\"\n",
        "sprintf(\"%s scored %d\", c, f) # Formatter"
      ],
      "metadata": {
        "colab": {
          "base_uri": "https://localhost:8080/",
          "height": 34
        },
        "id": "gSOh9jHe-1YJ",
        "outputId": "63910e7c-767d-46ce-f917-fd04d8a74e4a"
      },
      "execution_count": null,
      "outputs": [
        {
          "output_type": "display_data",
          "data": {
            "text/html": [
              "'Mayur scored 10'"
            ],
            "text/markdown": "'Mayur scored 10'",
            "text/latex": "'Mayur scored 10'",
            "text/plain": [
              "[1] \"Mayur scored 10\""
            ]
          },
          "metadata": {}
        }
      ]
    },
    {
      "cell_type": "code",
      "source": [
        "# @title 6. Substr Function\n",
        "substr(\"RVCE\", 1, 3)\n",
        "substr(\"RVCE\", 2, 3)\n",
        "substr(1234567, 3, 6)"
      ],
      "metadata": {
        "colab": {
          "base_uri": "https://localhost:8080/",
          "height": 69
        },
        "id": "SKInc2Ea_xDZ",
        "outputId": "dee25e95-a2ce-44b9-be85-aa43ca8e4642"
      },
      "execution_count": null,
      "outputs": [
        {
          "output_type": "display_data",
          "data": {
            "text/html": [
              "'RVC'"
            ],
            "text/markdown": "'RVC'",
            "text/latex": "'RVC'",
            "text/plain": [
              "[1] \"RVC\""
            ]
          },
          "metadata": {}
        },
        {
          "output_type": "display_data",
          "data": {
            "text/html": [
              "'VC'"
            ],
            "text/markdown": "'VC'",
            "text/latex": "'VC'",
            "text/plain": [
              "[1] \"VC\""
            ]
          },
          "metadata": {}
        },
        {
          "output_type": "display_data",
          "data": {
            "text/html": [
              "'3456'"
            ],
            "text/markdown": "'3456'",
            "text/latex": "'3456'",
            "text/plain": [
              "[1] \"3456\""
            ]
          },
          "metadata": {}
        }
      ]
    },
    {
      "cell_type": "code",
      "source": [
        "# @title 7. Cat Function\n",
        "cat(\"Hello World\", \"Welcome to RVCE\" , sep = \":\")\n",
        "cat(c(1:5) , file = 'sample.txt')  # File Creation using cat func"
      ],
      "metadata": {
        "colab": {
          "base_uri": "https://localhost:8080/"
        },
        "id": "uQNuJoxNAaF6",
        "outputId": "ecee477a-ef36-45b9-b36f-3f2ea87cdf9a"
      },
      "execution_count": null,
      "outputs": [
        {
          "output_type": "stream",
          "name": "stdout",
          "text": [
            "Hello World:Welcome to RVCE"
          ]
        }
      ]
    },
    {
      "cell_type": "code",
      "source": [
        "# @title 8. Case Conversion\n",
        "str <- c(\"Hello\", \"WORLD\", \"How\", \"Are\", \"You\")\n",
        "tolower(str) # Convert to lowercase\n",
        "toupper(str) # Convert to uppercase\n",
        "cat(\"\\n\")\n",
        "casefold(str , upper = F)\n",
        "casefold(str , upper = T)"
      ],
      "metadata": {
        "colab": {
          "base_uri": "https://localhost:8080/",
          "height": 104
        },
        "id": "OUr1CB82CV7a",
        "outputId": "d374c627-a2f7-49e0-f9a8-0f83d66a7e77"
      },
      "execution_count": null,
      "outputs": [
        {
          "output_type": "display_data",
          "data": {
            "text/html": [
              "<style>\n",
              ".list-inline {list-style: none; margin:0; padding: 0}\n",
              ".list-inline>li {display: inline-block}\n",
              ".list-inline>li:not(:last-child)::after {content: \"\\00b7\"; padding: 0 .5ex}\n",
              "</style>\n",
              "<ol class=list-inline><li>'hello'</li><li>'world'</li><li>'how'</li><li>'are'</li><li>'you'</li></ol>\n"
            ],
            "text/markdown": "1. 'hello'\n2. 'world'\n3. 'how'\n4. 'are'\n5. 'you'\n\n\n",
            "text/latex": "\\begin{enumerate*}\n\\item 'hello'\n\\item 'world'\n\\item 'how'\n\\item 'are'\n\\item 'you'\n\\end{enumerate*}\n",
            "text/plain": [
              "[1] \"hello\" \"world\" \"how\"   \"are\"   \"you\"  "
            ]
          },
          "metadata": {}
        },
        {
          "output_type": "display_data",
          "data": {
            "text/html": [
              "<style>\n",
              ".list-inline {list-style: none; margin:0; padding: 0}\n",
              ".list-inline>li {display: inline-block}\n",
              ".list-inline>li:not(:last-child)::after {content: \"\\00b7\"; padding: 0 .5ex}\n",
              "</style>\n",
              "<ol class=list-inline><li>'HELLO'</li><li>'WORLD'</li><li>'HOW'</li><li>'ARE'</li><li>'YOU'</li></ol>\n"
            ],
            "text/markdown": "1. 'HELLO'\n2. 'WORLD'\n3. 'HOW'\n4. 'ARE'\n5. 'YOU'\n\n\n",
            "text/latex": "\\begin{enumerate*}\n\\item 'HELLO'\n\\item 'WORLD'\n\\item 'HOW'\n\\item 'ARE'\n\\item 'YOU'\n\\end{enumerate*}\n",
            "text/plain": [
              "[1] \"HELLO\" \"WORLD\" \"HOW\"   \"ARE\"   \"YOU\"  "
            ]
          },
          "metadata": {}
        },
        {
          "output_type": "stream",
          "name": "stdout",
          "text": [
            "\n"
          ]
        },
        {
          "output_type": "display_data",
          "data": {
            "text/html": [
              "<style>\n",
              ".list-inline {list-style: none; margin:0; padding: 0}\n",
              ".list-inline>li {display: inline-block}\n",
              ".list-inline>li:not(:last-child)::after {content: \"\\00b7\"; padding: 0 .5ex}\n",
              "</style>\n",
              "<ol class=list-inline><li>'hello'</li><li>'world'</li><li>'how'</li><li>'are'</li><li>'you'</li></ol>\n"
            ],
            "text/markdown": "1. 'hello'\n2. 'world'\n3. 'how'\n4. 'are'\n5. 'you'\n\n\n",
            "text/latex": "\\begin{enumerate*}\n\\item 'hello'\n\\item 'world'\n\\item 'how'\n\\item 'are'\n\\item 'you'\n\\end{enumerate*}\n",
            "text/plain": [
              "[1] \"hello\" \"world\" \"how\"   \"are\"   \"you\"  "
            ]
          },
          "metadata": {}
        },
        {
          "output_type": "display_data",
          "data": {
            "text/html": [
              "<style>\n",
              ".list-inline {list-style: none; margin:0; padding: 0}\n",
              ".list-inline>li {display: inline-block}\n",
              ".list-inline>li:not(:last-child)::after {content: \"\\00b7\"; padding: 0 .5ex}\n",
              "</style>\n",
              "<ol class=list-inline><li>'HELLO'</li><li>'WORLD'</li><li>'HOW'</li><li>'ARE'</li><li>'YOU'</li></ol>\n"
            ],
            "text/markdown": "1. 'HELLO'\n2. 'WORLD'\n3. 'HOW'\n4. 'ARE'\n5. 'YOU'\n\n\n",
            "text/latex": "\\begin{enumerate*}\n\\item 'HELLO'\n\\item 'WORLD'\n\\item 'HOW'\n\\item 'ARE'\n\\item 'YOU'\n\\end{enumerate*}\n",
            "text/plain": [
              "[1] \"HELLO\" \"WORLD\" \"HOW\"   \"ARE\"   \"YOU\"  "
            ]
          },
          "metadata": {}
        }
      ]
    },
    {
      "cell_type": "code",
      "source": [
        "# @title 9. Chartr Function\n",
        "string <- \"Hello World , Welcome to RVCE\"\n",
        "chartr(\"lo\", \"12\", string) # Substitute specific characters in a string"
      ],
      "metadata": {
        "colab": {
          "base_uri": "https://localhost:8080/",
          "height": 34
        },
        "id": "OdvrVaM1DVMb",
        "outputId": "fff2692f-9a00-4953-d704-f467debb094d"
      },
      "execution_count": null,
      "outputs": [
        {
          "output_type": "display_data",
          "data": {
            "text/html": [
              "'He112 W2r1d , We1c2me t2 RVCE'"
            ],
            "text/markdown": "'He112 W2r1d , We1c2me t2 RVCE'",
            "text/latex": "'He112 W2r1d , We1c2me t2 RVCE'",
            "text/plain": [
              "[1] \"He112 W2r1d , We1c2me t2 RVCE\""
            ]
          },
          "metadata": {}
        }
      ]
    },
    {
      "cell_type": "code",
      "source": [
        "# @title 10. Gsub Function\n",
        "str_trim <- function(x) {\n",
        "  gsub(\"^\\\\s+|\\\\s+$\", \"\", x)\n",
        "}\n",
        "\n",
        "# Replace all white space with underscore\n",
        "str_underscore <- function(x) {\n",
        "  gsub(\"\\\\s+\", \"_\", x)\n",
        "}\n",
        "\n",
        "# Replace all white space with comma\n",
        "str_comma <- function(x) {\n",
        "  gsub(\"\\\\s+\", \",\", x)\n",
        "}"
      ],
      "metadata": {
        "id": "55eS6XCgy_EH"
      },
      "execution_count": null,
      "outputs": []
    },
    {
      "cell_type": "markdown",
      "source": [
        "# Day 3 : Matrix Continued"
      ],
      "metadata": {
        "id": "TqHlFc7D9_vr"
      }
    },
    {
      "cell_type": "code",
      "source": [
        "# @title Matrices\n",
        "P <- matrix(c(3:14), nrow = 4, byrow = TRUE, dimnames = list(c(\"row1\", \"row2\", \"row3\", \"row4\"), c(\"col1\", \"col2\", \"col3\")))\n",
        "print(P)\n",
        "cat(\"\\n\")\n",
        "N <- matrix(c(3:14), nrow = 4, byrow = FALSE, dimnames = list(c(\"row1\", \"row2\", \"row3\", \"row4\"), c(\"col1\", \"col2\", \"col3\")))\n",
        "print(N)"
      ],
      "metadata": {
        "colab": {
          "base_uri": "https://localhost:8080/"
        },
        "id": "phX0RoUAA1RD",
        "outputId": "3f3100c5-9bf9-49be-88b7-af4403b932b7"
      },
      "execution_count": null,
      "outputs": [
        {
          "output_type": "stream",
          "name": "stdout",
          "text": [
            "     col1 col2 col3\n",
            "row1    3    4    5\n",
            "row2    6    7    8\n",
            "row3    9   10   11\n",
            "row4   12   13   14\n",
            "\n",
            "     col1 col2 col3\n",
            "row1    3    7   11\n",
            "row2    4    8   12\n",
            "row3    5    9   13\n",
            "row4    6   10   14\n"
          ]
        }
      ]
    },
    {
      "cell_type": "code",
      "source": [
        "# @title Accessing elements and Changing Values\n",
        "P[2,3]  # Access the element in the second row and third column\n",
        "N[3, ]  # Acces third row\n",
        "P[3,3] = 13 # Using Index Operator to change\n",
        "P[P<5]<-1 # Using Relational Operators\n",
        "P\n",
        "length(P) # Gives total number of elements in P\n",
        "# P[5,5] = 10 Out Of Bounds Error"
      ],
      "metadata": {
        "colab": {
          "base_uri": "https://localhost:8080/",
          "height": 244
        },
        "id": "sWn1oGxvCSVD",
        "outputId": "2f7c6fca-782a-43cb-a298-768190156242"
      },
      "execution_count": null,
      "outputs": [
        {
          "output_type": "display_data",
          "data": {
            "text/html": [
              "8"
            ],
            "text/markdown": "8",
            "text/latex": "8",
            "text/plain": [
              "[1] 8"
            ]
          },
          "metadata": {}
        },
        {
          "output_type": "display_data",
          "data": {
            "text/html": [
              "<style>\n",
              ".dl-inline {width: auto; margin:0; padding: 0}\n",
              ".dl-inline>dt, .dl-inline>dd {float: none; width: auto; display: inline-block}\n",
              ".dl-inline>dt::after {content: \":\\0020\"; padding-right: .5ex}\n",
              ".dl-inline>dt:not(:first-of-type) {padding-left: .5ex}\n",
              "</style><dl class=dl-inline><dt>col1</dt><dd>5</dd><dt>col2</dt><dd>9</dd><dt>col3</dt><dd>13</dd></dl>\n"
            ],
            "text/markdown": "col1\n:   5col2\n:   9col3\n:   13\n\n",
            "text/latex": "\\begin{description*}\n\\item[col1] 5\n\\item[col2] 9\n\\item[col3] 13\n\\end{description*}\n",
            "text/plain": [
              "col1 col2 col3 \n",
              "   5    9   13 "
            ]
          },
          "metadata": {}
        },
        {
          "output_type": "display_data",
          "data": {
            "text/html": [
              "<table class=\"dataframe\">\n",
              "<caption>A matrix: 4 × 3 of type dbl</caption>\n",
              "<thead>\n",
              "\t<tr><th></th><th scope=col>col1</th><th scope=col>col2</th><th scope=col>col3</th></tr>\n",
              "</thead>\n",
              "<tbody>\n",
              "\t<tr><th scope=row>row1</th><td> 1</td><td> 1</td><td> 5</td></tr>\n",
              "\t<tr><th scope=row>row2</th><td> 6</td><td> 7</td><td> 8</td></tr>\n",
              "\t<tr><th scope=row>row3</th><td> 9</td><td>10</td><td>13</td></tr>\n",
              "\t<tr><th scope=row>row4</th><td>12</td><td>13</td><td>14</td></tr>\n",
              "</tbody>\n",
              "</table>\n"
            ],
            "text/markdown": "\nA matrix: 4 × 3 of type dbl\n\n| <!--/--> | col1 | col2 | col3 |\n|---|---|---|---|\n| row1 |  1 |  1 |  5 |\n| row2 |  6 |  7 |  8 |\n| row3 |  9 | 10 | 13 |\n| row4 | 12 | 13 | 14 |\n\n",
            "text/latex": "A matrix: 4 × 3 of type dbl\n\\begin{tabular}{r|lll}\n  & col1 & col2 & col3\\\\\n\\hline\n\trow1 &  1 &  1 &  5\\\\\n\trow2 &  6 &  7 &  8\\\\\n\trow3 &  9 & 10 & 13\\\\\n\trow4 & 12 & 13 & 14\\\\\n\\end{tabular}\n",
            "text/plain": [
              "     col1 col2 col3\n",
              "row1  1    1    5  \n",
              "row2  6    7    8  \n",
              "row3  9   10   13  \n",
              "row4 12   13   14  "
            ]
          },
          "metadata": {}
        },
        {
          "output_type": "display_data",
          "data": {
            "text/html": [
              "12"
            ],
            "text/markdown": "12",
            "text/latex": "12",
            "text/plain": [
              "[1] 12"
            ]
          },
          "metadata": {}
        }
      ]
    },
    {
      "cell_type": "code",
      "source": [
        "# @title Matrix Operations\n",
        "matrix1 <- P\n",
        "matrix2 <- N\n",
        "matrix1\n",
        "cat(\"\\n\")\n",
        "matrix2\n",
        "cat(\"\\n\")\n",
        "matrix1 + matrix2  # Addition\n",
        "cat(\"\\n\")\n",
        "matrix1 - matrix2  # Subtraction\n",
        "cat(\"\\n\")\n",
        "matrix1 * matrix2  # Multiplication\n",
        "cat(\"\\n\")\n",
        "matrix1 / matrix2  # Division\n",
        "cat(\"\\n\")\n",
        "matrix1 ** matrix2 # Exponentiation\n",
        "cat(\"\\n\")\n",
        "6 %in% matrix1 # %in% Operator to check Presence"
      ],
      "metadata": {
        "colab": {
          "base_uri": "https://localhost:8080/",
          "height": 1000
        },
        "id": "uaPRD3kqDLEE",
        "outputId": "6d489ca4-9acb-4343-c712-94393ed23466"
      },
      "execution_count": null,
      "outputs": [
        {
          "output_type": "display_data",
          "data": {
            "text/html": [
              "<table class=\"dataframe\">\n",
              "<caption>A matrix: 4 × 3 of type dbl</caption>\n",
              "<thead>\n",
              "\t<tr><th></th><th scope=col>col1</th><th scope=col>col2</th><th scope=col>col3</th></tr>\n",
              "</thead>\n",
              "<tbody>\n",
              "\t<tr><th scope=row>row1</th><td> 1</td><td> 1</td><td> 5</td></tr>\n",
              "\t<tr><th scope=row>row2</th><td> 6</td><td> 7</td><td> 8</td></tr>\n",
              "\t<tr><th scope=row>row3</th><td> 9</td><td>10</td><td>13</td></tr>\n",
              "\t<tr><th scope=row>row4</th><td>12</td><td>13</td><td>14</td></tr>\n",
              "</tbody>\n",
              "</table>\n"
            ],
            "text/markdown": "\nA matrix: 4 × 3 of type dbl\n\n| <!--/--> | col1 | col2 | col3 |\n|---|---|---|---|\n| row1 |  1 |  1 |  5 |\n| row2 |  6 |  7 |  8 |\n| row3 |  9 | 10 | 13 |\n| row4 | 12 | 13 | 14 |\n\n",
            "text/latex": "A matrix: 4 × 3 of type dbl\n\\begin{tabular}{r|lll}\n  & col1 & col2 & col3\\\\\n\\hline\n\trow1 &  1 &  1 &  5\\\\\n\trow2 &  6 &  7 &  8\\\\\n\trow3 &  9 & 10 & 13\\\\\n\trow4 & 12 & 13 & 14\\\\\n\\end{tabular}\n",
            "text/plain": [
              "     col1 col2 col3\n",
              "row1  1    1    5  \n",
              "row2  6    7    8  \n",
              "row3  9   10   13  \n",
              "row4 12   13   14  "
            ]
          },
          "metadata": {}
        },
        {
          "output_type": "stream",
          "name": "stdout",
          "text": [
            "\n"
          ]
        },
        {
          "output_type": "display_data",
          "data": {
            "text/html": [
              "<table class=\"dataframe\">\n",
              "<caption>A matrix: 4 × 3 of type int</caption>\n",
              "<thead>\n",
              "\t<tr><th></th><th scope=col>col1</th><th scope=col>col2</th><th scope=col>col3</th></tr>\n",
              "</thead>\n",
              "<tbody>\n",
              "\t<tr><th scope=row>row1</th><td>3</td><td> 7</td><td>11</td></tr>\n",
              "\t<tr><th scope=row>row2</th><td>4</td><td> 8</td><td>12</td></tr>\n",
              "\t<tr><th scope=row>row3</th><td>5</td><td> 9</td><td>13</td></tr>\n",
              "\t<tr><th scope=row>row4</th><td>6</td><td>10</td><td>14</td></tr>\n",
              "</tbody>\n",
              "</table>\n"
            ],
            "text/markdown": "\nA matrix: 4 × 3 of type int\n\n| <!--/--> | col1 | col2 | col3 |\n|---|---|---|---|\n| row1 | 3 |  7 | 11 |\n| row2 | 4 |  8 | 12 |\n| row3 | 5 |  9 | 13 |\n| row4 | 6 | 10 | 14 |\n\n",
            "text/latex": "A matrix: 4 × 3 of type int\n\\begin{tabular}{r|lll}\n  & col1 & col2 & col3\\\\\n\\hline\n\trow1 & 3 &  7 & 11\\\\\n\trow2 & 4 &  8 & 12\\\\\n\trow3 & 5 &  9 & 13\\\\\n\trow4 & 6 & 10 & 14\\\\\n\\end{tabular}\n",
            "text/plain": [
              "     col1 col2 col3\n",
              "row1 3     7   11  \n",
              "row2 4     8   12  \n",
              "row3 5     9   13  \n",
              "row4 6    10   14  "
            ]
          },
          "metadata": {}
        },
        {
          "output_type": "stream",
          "name": "stdout",
          "text": [
            "\n"
          ]
        },
        {
          "output_type": "display_data",
          "data": {
            "text/html": [
              "<table class=\"dataframe\">\n",
              "<caption>A matrix: 4 × 3 of type dbl</caption>\n",
              "<thead>\n",
              "\t<tr><th></th><th scope=col>col1</th><th scope=col>col2</th><th scope=col>col3</th></tr>\n",
              "</thead>\n",
              "<tbody>\n",
              "\t<tr><th scope=row>row1</th><td> 4</td><td> 8</td><td>16</td></tr>\n",
              "\t<tr><th scope=row>row2</th><td>10</td><td>15</td><td>20</td></tr>\n",
              "\t<tr><th scope=row>row3</th><td>14</td><td>19</td><td>26</td></tr>\n",
              "\t<tr><th scope=row>row4</th><td>18</td><td>23</td><td>28</td></tr>\n",
              "</tbody>\n",
              "</table>\n"
            ],
            "text/markdown": "\nA matrix: 4 × 3 of type dbl\n\n| <!--/--> | col1 | col2 | col3 |\n|---|---|---|---|\n| row1 |  4 |  8 | 16 |\n| row2 | 10 | 15 | 20 |\n| row3 | 14 | 19 | 26 |\n| row4 | 18 | 23 | 28 |\n\n",
            "text/latex": "A matrix: 4 × 3 of type dbl\n\\begin{tabular}{r|lll}\n  & col1 & col2 & col3\\\\\n\\hline\n\trow1 &  4 &  8 & 16\\\\\n\trow2 & 10 & 15 & 20\\\\\n\trow3 & 14 & 19 & 26\\\\\n\trow4 & 18 & 23 & 28\\\\\n\\end{tabular}\n",
            "text/plain": [
              "     col1 col2 col3\n",
              "row1  4    8   16  \n",
              "row2 10   15   20  \n",
              "row3 14   19   26  \n",
              "row4 18   23   28  "
            ]
          },
          "metadata": {}
        },
        {
          "output_type": "stream",
          "name": "stdout",
          "text": [
            "\n"
          ]
        },
        {
          "output_type": "display_data",
          "data": {
            "text/html": [
              "<table class=\"dataframe\">\n",
              "<caption>A matrix: 4 × 3 of type dbl</caption>\n",
              "<thead>\n",
              "\t<tr><th></th><th scope=col>col1</th><th scope=col>col2</th><th scope=col>col3</th></tr>\n",
              "</thead>\n",
              "<tbody>\n",
              "\t<tr><th scope=row>row1</th><td>-2</td><td>-6</td><td>-6</td></tr>\n",
              "\t<tr><th scope=row>row2</th><td> 2</td><td>-1</td><td>-4</td></tr>\n",
              "\t<tr><th scope=row>row3</th><td> 4</td><td> 1</td><td> 0</td></tr>\n",
              "\t<tr><th scope=row>row4</th><td> 6</td><td> 3</td><td> 0</td></tr>\n",
              "</tbody>\n",
              "</table>\n"
            ],
            "text/markdown": "\nA matrix: 4 × 3 of type dbl\n\n| <!--/--> | col1 | col2 | col3 |\n|---|---|---|---|\n| row1 | -2 | -6 | -6 |\n| row2 |  2 | -1 | -4 |\n| row3 |  4 |  1 |  0 |\n| row4 |  6 |  3 |  0 |\n\n",
            "text/latex": "A matrix: 4 × 3 of type dbl\n\\begin{tabular}{r|lll}\n  & col1 & col2 & col3\\\\\n\\hline\n\trow1 & -2 & -6 & -6\\\\\n\trow2 &  2 & -1 & -4\\\\\n\trow3 &  4 &  1 &  0\\\\\n\trow4 &  6 &  3 &  0\\\\\n\\end{tabular}\n",
            "text/plain": [
              "     col1 col2 col3\n",
              "row1 -2   -6   -6  \n",
              "row2  2   -1   -4  \n",
              "row3  4    1    0  \n",
              "row4  6    3    0  "
            ]
          },
          "metadata": {}
        },
        {
          "output_type": "stream",
          "name": "stdout",
          "text": [
            "\n"
          ]
        },
        {
          "output_type": "display_data",
          "data": {
            "text/html": [
              "<table class=\"dataframe\">\n",
              "<caption>A matrix: 4 × 3 of type dbl</caption>\n",
              "<thead>\n",
              "\t<tr><th></th><th scope=col>col1</th><th scope=col>col2</th><th scope=col>col3</th></tr>\n",
              "</thead>\n",
              "<tbody>\n",
              "\t<tr><th scope=row>row1</th><td> 3</td><td>  7</td><td> 55</td></tr>\n",
              "\t<tr><th scope=row>row2</th><td>24</td><td> 56</td><td> 96</td></tr>\n",
              "\t<tr><th scope=row>row3</th><td>45</td><td> 90</td><td>169</td></tr>\n",
              "\t<tr><th scope=row>row4</th><td>72</td><td>130</td><td>196</td></tr>\n",
              "</tbody>\n",
              "</table>\n"
            ],
            "text/markdown": "\nA matrix: 4 × 3 of type dbl\n\n| <!--/--> | col1 | col2 | col3 |\n|---|---|---|---|\n| row1 |  3 |   7 |  55 |\n| row2 | 24 |  56 |  96 |\n| row3 | 45 |  90 | 169 |\n| row4 | 72 | 130 | 196 |\n\n",
            "text/latex": "A matrix: 4 × 3 of type dbl\n\\begin{tabular}{r|lll}\n  & col1 & col2 & col3\\\\\n\\hline\n\trow1 &  3 &   7 &  55\\\\\n\trow2 & 24 &  56 &  96\\\\\n\trow3 & 45 &  90 & 169\\\\\n\trow4 & 72 & 130 & 196\\\\\n\\end{tabular}\n",
            "text/plain": [
              "     col1 col2 col3\n",
              "row1  3     7   55 \n",
              "row2 24    56   96 \n",
              "row3 45    90  169 \n",
              "row4 72   130  196 "
            ]
          },
          "metadata": {}
        },
        {
          "output_type": "stream",
          "name": "stdout",
          "text": [
            "\n"
          ]
        },
        {
          "output_type": "display_data",
          "data": {
            "text/html": [
              "<table class=\"dataframe\">\n",
              "<caption>A matrix: 4 × 3 of type dbl</caption>\n",
              "<thead>\n",
              "\t<tr><th></th><th scope=col>col1</th><th scope=col>col2</th><th scope=col>col3</th></tr>\n",
              "</thead>\n",
              "<tbody>\n",
              "\t<tr><th scope=row>row1</th><td>0.3333333</td><td>0.1428571</td><td>0.4545455</td></tr>\n",
              "\t<tr><th scope=row>row2</th><td>1.5000000</td><td>0.8750000</td><td>0.6666667</td></tr>\n",
              "\t<tr><th scope=row>row3</th><td>1.8000000</td><td>1.1111111</td><td>1.0000000</td></tr>\n",
              "\t<tr><th scope=row>row4</th><td>2.0000000</td><td>1.3000000</td><td>1.0000000</td></tr>\n",
              "</tbody>\n",
              "</table>\n"
            ],
            "text/markdown": "\nA matrix: 4 × 3 of type dbl\n\n| <!--/--> | col1 | col2 | col3 |\n|---|---|---|---|\n| row1 | 0.3333333 | 0.1428571 | 0.4545455 |\n| row2 | 1.5000000 | 0.8750000 | 0.6666667 |\n| row3 | 1.8000000 | 1.1111111 | 1.0000000 |\n| row4 | 2.0000000 | 1.3000000 | 1.0000000 |\n\n",
            "text/latex": "A matrix: 4 × 3 of type dbl\n\\begin{tabular}{r|lll}\n  & col1 & col2 & col3\\\\\n\\hline\n\trow1 & 0.3333333 & 0.1428571 & 0.4545455\\\\\n\trow2 & 1.5000000 & 0.8750000 & 0.6666667\\\\\n\trow3 & 1.8000000 & 1.1111111 & 1.0000000\\\\\n\trow4 & 2.0000000 & 1.3000000 & 1.0000000\\\\\n\\end{tabular}\n",
            "text/plain": [
              "     col1      col2      col3     \n",
              "row1 0.3333333 0.1428571 0.4545455\n",
              "row2 1.5000000 0.8750000 0.6666667\n",
              "row3 1.8000000 1.1111111 1.0000000\n",
              "row4 2.0000000 1.3000000 1.0000000"
            ]
          },
          "metadata": {}
        },
        {
          "output_type": "stream",
          "name": "stdout",
          "text": [
            "\n"
          ]
        },
        {
          "output_type": "display_data",
          "data": {
            "text/html": [
              "<table class=\"dataframe\">\n",
              "<caption>A matrix: 4 × 3 of type dbl</caption>\n",
              "<thead>\n",
              "\t<tr><th></th><th scope=col>col1</th><th scope=col>col2</th><th scope=col>col3</th></tr>\n",
              "</thead>\n",
              "<tbody>\n",
              "\t<tr><th scope=row>row1</th><td>      1</td><td>           1</td><td>4.882812e+07</td></tr>\n",
              "\t<tr><th scope=row>row2</th><td>   1296</td><td>     5764801</td><td>6.871948e+10</td></tr>\n",
              "\t<tr><th scope=row>row3</th><td>  59049</td><td>  1000000000</td><td>3.028751e+14</td></tr>\n",
              "\t<tr><th scope=row>row4</th><td>2985984</td><td>137858491849</td><td>1.111201e+16</td></tr>\n",
              "</tbody>\n",
              "</table>\n"
            ],
            "text/markdown": "\nA matrix: 4 × 3 of type dbl\n\n| <!--/--> | col1 | col2 | col3 |\n|---|---|---|---|\n| row1 |       1 |            1 | 4.882812e+07 |\n| row2 |    1296 |      5764801 | 6.871948e+10 |\n| row3 |   59049 |   1000000000 | 3.028751e+14 |\n| row4 | 2985984 | 137858491849 | 1.111201e+16 |\n\n",
            "text/latex": "A matrix: 4 × 3 of type dbl\n\\begin{tabular}{r|lll}\n  & col1 & col2 & col3\\\\\n\\hline\n\trow1 &       1 &            1 & 4.882812e+07\\\\\n\trow2 &    1296 &      5764801 & 6.871948e+10\\\\\n\trow3 &   59049 &   1000000000 & 3.028751e+14\\\\\n\trow4 & 2985984 & 137858491849 & 1.111201e+16\\\\\n\\end{tabular}\n",
            "text/plain": [
              "     col1    col2         col3        \n",
              "row1       1            1 4.882812e+07\n",
              "row2    1296      5764801 6.871948e+10\n",
              "row3   59049   1000000000 3.028751e+14\n",
              "row4 2985984 137858491849 1.111201e+16"
            ]
          },
          "metadata": {}
        },
        {
          "output_type": "stream",
          "name": "stdout",
          "text": [
            "\n"
          ]
        },
        {
          "output_type": "display_data",
          "data": {
            "text/html": [
              "TRUE"
            ],
            "text/markdown": "TRUE",
            "text/latex": "TRUE",
            "text/plain": [
              "[1] TRUE"
            ]
          },
          "metadata": {}
        }
      ]
    },
    {
      "cell_type": "code",
      "source": [
        "# @title Combining Matrix Using rbind/cbind\n",
        "matrix1 <- matrix(c(1, 2, 3, 4), nrow = 2, ncol = 2)\n",
        "matrix2 <- matrix(c(5, 6, 7, 8), nrow = 2, ncol = 2)\n",
        "matrix3 <- matrix(c(4, 5, 0, 9), nrow = 2, ncol = 2)\n",
        "\n",
        "# Rbind\n",
        "matrix_rbind <- rbind(matrix1, matrix2, matrix3)\n",
        "# Cbind\n",
        "matrix_cbind <- cbind(matrix1, matrix2, matrix3)\n",
        "\n",
        "matrix_rbind\n",
        "cat(\"\\n\")\n",
        "matrix_cbind"
      ],
      "metadata": {
        "colab": {
          "base_uri": "https://localhost:8080/",
          "height": 407
        },
        "id": "sPwVkBnjEG58",
        "outputId": "c1f0a69a-ef96-492f-b9a8-e65f3a00c7d7"
      },
      "execution_count": null,
      "outputs": [
        {
          "output_type": "display_data",
          "data": {
            "text/html": [
              "<table class=\"dataframe\">\n",
              "<caption>A matrix: 6 × 2 of type dbl</caption>\n",
              "<tbody>\n",
              "\t<tr><td>1</td><td>3</td></tr>\n",
              "\t<tr><td>2</td><td>4</td></tr>\n",
              "\t<tr><td>5</td><td>7</td></tr>\n",
              "\t<tr><td>6</td><td>8</td></tr>\n",
              "\t<tr><td>4</td><td>0</td></tr>\n",
              "\t<tr><td>5</td><td>9</td></tr>\n",
              "</tbody>\n",
              "</table>\n"
            ],
            "text/markdown": "\nA matrix: 6 × 2 of type dbl\n\n| 1 | 3 |\n| 2 | 4 |\n| 5 | 7 |\n| 6 | 8 |\n| 4 | 0 |\n| 5 | 9 |\n\n",
            "text/latex": "A matrix: 6 × 2 of type dbl\n\\begin{tabular}{ll}\n\t 1 & 3\\\\\n\t 2 & 4\\\\\n\t 5 & 7\\\\\n\t 6 & 8\\\\\n\t 4 & 0\\\\\n\t 5 & 9\\\\\n\\end{tabular}\n",
            "text/plain": [
              "     [,1] [,2]\n",
              "[1,] 1    3   \n",
              "[2,] 2    4   \n",
              "[3,] 5    7   \n",
              "[4,] 6    8   \n",
              "[5,] 4    0   \n",
              "[6,] 5    9   "
            ]
          },
          "metadata": {}
        },
        {
          "output_type": "stream",
          "name": "stdout",
          "text": [
            "\n"
          ]
        },
        {
          "output_type": "display_data",
          "data": {
            "text/html": [
              "<table class=\"dataframe\">\n",
              "<caption>A matrix: 2 × 6 of type dbl</caption>\n",
              "<tbody>\n",
              "\t<tr><td>1</td><td>3</td><td>5</td><td>7</td><td>4</td><td>0</td></tr>\n",
              "\t<tr><td>2</td><td>4</td><td>6</td><td>8</td><td>5</td><td>9</td></tr>\n",
              "</tbody>\n",
              "</table>\n"
            ],
            "text/markdown": "\nA matrix: 2 × 6 of type dbl\n\n| 1 | 3 | 5 | 7 | 4 | 0 |\n| 2 | 4 | 6 | 8 | 5 | 9 |\n\n",
            "text/latex": "A matrix: 2 × 6 of type dbl\n\\begin{tabular}{llllll}\n\t 1 & 3 & 5 & 7 & 4 & 0\\\\\n\t 2 & 4 & 6 & 8 & 5 & 9\\\\\n\\end{tabular}\n",
            "text/plain": [
              "     [,1] [,2] [,3] [,4] [,5] [,6]\n",
              "[1,] 1    3    5    7    4    0   \n",
              "[2,] 2    4    6    8    5    9   "
            ]
          },
          "metadata": {}
        }
      ]
    },
    {
      "cell_type": "code",
      "source": [
        "# @title Matrix Multiplication in R\n",
        "A <- matrix(c(1, 2, 3, 4), nrow = 2, ncol = 2)\n",
        "B <- matrix(c(5, 6, 7, 8), nrow = 2, ncol = 2)\n",
        "# Multiply the matrices using %*% operator\n",
        "C <- A %*% B\n",
        "print(C)"
      ],
      "metadata": {
        "colab": {
          "base_uri": "https://localhost:8080/"
        },
        "id": "rOFc1gEPEUG9",
        "outputId": "d90ecb26-1f4c-48a3-8895-c05f312f8073"
      },
      "execution_count": null,
      "outputs": [
        {
          "output_type": "stream",
          "name": "stdout",
          "text": [
            "     [,1] [,2]\n",
            "[1,]   23   31\n",
            "[2,]   34   46\n"
          ]
        }
      ]
    },
    {
      "cell_type": "code",
      "source": [
        "# @title Removing Rows/Columns\n",
        "mat <- matrix(c(4, 5, 0, 9), nrow = 2, ncol = 2)\n",
        "print(mat)\n",
        "mat[-1,] # Removing 1st row\n",
        "mat[,-2] # Removing 2nd column"
      ],
      "metadata": {
        "colab": {
          "base_uri": "https://localhost:8080/",
          "height": 104
        },
        "id": "wq_FwzH-HbWW",
        "outputId": "fd37dc77-6df7-4453-89c9-19485488009c"
      },
      "execution_count": null,
      "outputs": [
        {
          "output_type": "stream",
          "name": "stdout",
          "text": [
            "     [,1] [,2]\n",
            "[1,]    4    0\n",
            "[2,]    5    9\n"
          ]
        },
        {
          "output_type": "display_data",
          "data": {
            "text/html": [
              "<style>\n",
              ".list-inline {list-style: none; margin:0; padding: 0}\n",
              ".list-inline>li {display: inline-block}\n",
              ".list-inline>li:not(:last-child)::after {content: \"\\00b7\"; padding: 0 .5ex}\n",
              "</style>\n",
              "<ol class=list-inline><li>5</li><li>9</li></ol>\n"
            ],
            "text/markdown": "1. 5\n2. 9\n\n\n",
            "text/latex": "\\begin{enumerate*}\n\\item 5\n\\item 9\n\\end{enumerate*}\n",
            "text/plain": [
              "[1] 5 9"
            ]
          },
          "metadata": {}
        },
        {
          "output_type": "display_data",
          "data": {
            "text/html": [
              "<style>\n",
              ".list-inline {list-style: none; margin:0; padding: 0}\n",
              ".list-inline>li {display: inline-block}\n",
              ".list-inline>li:not(:last-child)::after {content: \"\\00b7\"; padding: 0 .5ex}\n",
              "</style>\n",
              "<ol class=list-inline><li>4</li><li>5</li></ol>\n"
            ],
            "text/markdown": "1. 4\n2. 5\n\n\n",
            "text/latex": "\\begin{enumerate*}\n\\item 4\n\\item 5\n\\end{enumerate*}\n",
            "text/plain": [
              "[1] 4 5"
            ]
          },
          "metadata": {}
        }
      ]
    },
    {
      "cell_type": "code",
      "source": [
        "# @title Printing Matrix Using For Loop\n",
        "matrix <- matrix(1:9, nrow = 3, ncol = 3)\n",
        "for (i in 1:nrow(matrix)) {\n",
        "  for (j in 1:ncol(matrix)) {\n",
        "    print(matrix[i, j])\n",
        "  }\n",
        "}"
      ],
      "metadata": {
        "colab": {
          "base_uri": "https://localhost:8080/"
        },
        "id": "txKsWBm_Icog",
        "outputId": "e9567fea-16cb-4ef9-b207-26b460ded743"
      },
      "execution_count": null,
      "outputs": [
        {
          "output_type": "stream",
          "name": "stdout",
          "text": [
            "[1] 1\n",
            "[1] 4\n",
            "[1] 7\n",
            "[1] 2\n",
            "[1] 5\n",
            "[1] 8\n",
            "[1] 3\n",
            "[1] 6\n",
            "[1] 9\n"
          ]
        }
      ]
    },
    {
      "cell_type": "code",
      "source": [
        "# @title Matrix Multiplication using For Loop\n",
        "A <- matrix(c(1:6), nrow = 3, ncol = 2)\n",
        "B <- matrix(c(5:10), nrow = 2, ncol = 3)\n",
        "C <- matrix(c(0), nrow = 3, ncol = 3)\n",
        "\n",
        "for (i in 1:nrow(A)) {\n",
        "  for (j in 1:ncol(B)) {\n",
        "    for (k in 1:ncol(A)) {\n",
        "      C[i, j] <- C[i, j] + A[i, k] * B[k, j]\n",
        "    }\n",
        "  }\n",
        "}\n",
        "print(C)"
      ],
      "metadata": {
        "colab": {
          "base_uri": "https://localhost:8080/"
        },
        "id": "JmQaGc8EIoUy",
        "outputId": "6cb3aa2b-114b-4cca-bcd6-adb5c4718320"
      },
      "execution_count": null,
      "outputs": [
        {
          "output_type": "stream",
          "name": "stdout",
          "text": [
            "     [,1] [,2] [,3]\n",
            "[1,]   29   39   49\n",
            "[2,]   40   54   68\n",
            "[3,]   51   69   87\n"
          ]
        }
      ]
    },
    {
      "cell_type": "markdown",
      "source": [
        "# Day 3 : Assignment"
      ],
      "metadata": {
        "id": "Vvup4-zJTodp"
      }
    },
    {
      "cell_type": "code",
      "source": [
        "# @title Assignment 1\n",
        "# Write a program to create a data frame to represent the data given in the table and perform the following operations.\n",
        "\n",
        "# 1. Display the Batsmen's name along with runs scored in Test and T20. Display the details of the batsmen who have scored more than 2000 in ODI\n",
        "# 2. Display the 2nd and 4th row of the dataframe\n",
        "# 3. Delete the data of \"Hardik Pandya\" and \"Shikhar Dhawan\" from the original dataframe.\n",
        "\n",
        "# SNo Batsman_Name   Test ODI  T20\n",
        "# 1   Virat Kohli    3543 2245 1925\n",
        "# 2   Ajinkya Rebane 2578 2165 1853\n",
        "# 3   Rohit Sharma   2280 2080 1522\n",
        "# 4   Shikhar Dhawan 2158 1957 1020\n",
        "# 5   Hardik Pandya  1879 1856 980\n",
        "\n",
        "stats <- data.frame (\n",
        "  SNo. = c(1:5),\n",
        "  Batsman_Name = c(\"Virat Kohli\", \"Ajinkya Rahane\", \"Rohit Sharma\", \"Shikhar Dhawan\", \"Hardik Pandya\"),\n",
        "  Test = c( 3543, 2578, 2280, 2158, 1879),\n",
        "  ODI = c( 2245, 2165, 2080, 1957, 1856),\n",
        "  T20 = c( 1925, 1853, 1522, 1020, 980)\n",
        ")\n",
        "stats                    # Step 1 : Creating a DataFrame\n",
        "cat(\"\\n\")\n",
        "stats[,c(1:3,5)]         # Step 2 : Displaying only Test and T20 scores\n",
        "cat(\"\\n\")\n",
        "filter(stats, ODI>2000)  # Step 3 : Displaying those with more than 2000 ODI runs\n",
        "cat(\"\\n\")\n",
        "stats[c(2,4),]           # Step 4 : Displaying 2nd and 4th row of DataFrame\n",
        "cat(\"\\n\")\n",
        "stats <- subset(stats, Batsman_Name != \"Hardik Pandya\" & Batsman_Name != \"Shikhar Dhawan\")  # Step 5 : Deleting the data of \"Hardik Pandya\" and \"Shikhar Dhawan\" from the original dataframe.\n",
        "stats"
      ],
      "metadata": {
        "id": "7ge5oJPaSO-3",
        "colab": {
          "base_uri": "https://localhost:8080/",
          "height": 1000
        },
        "outputId": "bcffd35b-47d4-46aa-a67e-46532e59e2fd"
      },
      "execution_count": null,
      "outputs": [
        {
          "output_type": "display_data",
          "data": {
            "text/html": [
              "<table class=\"dataframe\">\n",
              "<caption>A data.frame: 5 × 5</caption>\n",
              "<thead>\n",
              "\t<tr><th scope=col>SNo.</th><th scope=col>Batsman_Name</th><th scope=col>Test</th><th scope=col>ODI</th><th scope=col>T20</th></tr>\n",
              "\t<tr><th scope=col>&lt;int&gt;</th><th scope=col>&lt;chr&gt;</th><th scope=col>&lt;dbl&gt;</th><th scope=col>&lt;dbl&gt;</th><th scope=col>&lt;dbl&gt;</th></tr>\n",
              "</thead>\n",
              "<tbody>\n",
              "\t<tr><td>1</td><td>Virat Kohli   </td><td>3543</td><td>2245</td><td>1925</td></tr>\n",
              "\t<tr><td>2</td><td>Ajinkya Rahane</td><td>2578</td><td>2165</td><td>1853</td></tr>\n",
              "\t<tr><td>3</td><td>Rohit Sharma  </td><td>2280</td><td>2080</td><td>1522</td></tr>\n",
              "\t<tr><td>4</td><td>Shikhar Dhawan</td><td>2158</td><td>1957</td><td>1020</td></tr>\n",
              "\t<tr><td>5</td><td>Hardik Pandya </td><td>1879</td><td>1856</td><td> 980</td></tr>\n",
              "</tbody>\n",
              "</table>\n"
            ],
            "text/markdown": "\nA data.frame: 5 × 5\n\n| SNo. &lt;int&gt; | Batsman_Name &lt;chr&gt; | Test &lt;dbl&gt; | ODI &lt;dbl&gt; | T20 &lt;dbl&gt; |\n|---|---|---|---|---|\n| 1 | Virat Kohli    | 3543 | 2245 | 1925 |\n| 2 | Ajinkya Rahane | 2578 | 2165 | 1853 |\n| 3 | Rohit Sharma   | 2280 | 2080 | 1522 |\n| 4 | Shikhar Dhawan | 2158 | 1957 | 1020 |\n| 5 | Hardik Pandya  | 1879 | 1856 |  980 |\n\n",
            "text/latex": "A data.frame: 5 × 5\n\\begin{tabular}{lllll}\n SNo. & Batsman\\_Name & Test & ODI & T20\\\\\n <int> & <chr> & <dbl> & <dbl> & <dbl>\\\\\n\\hline\n\t 1 & Virat Kohli    & 3543 & 2245 & 1925\\\\\n\t 2 & Ajinkya Rahane & 2578 & 2165 & 1853\\\\\n\t 3 & Rohit Sharma   & 2280 & 2080 & 1522\\\\\n\t 4 & Shikhar Dhawan & 2158 & 1957 & 1020\\\\\n\t 5 & Hardik Pandya  & 1879 & 1856 &  980\\\\\n\\end{tabular}\n",
            "text/plain": [
              "  SNo. Batsman_Name   Test ODI  T20 \n",
              "1 1    Virat Kohli    3543 2245 1925\n",
              "2 2    Ajinkya Rahane 2578 2165 1853\n",
              "3 3    Rohit Sharma   2280 2080 1522\n",
              "4 4    Shikhar Dhawan 2158 1957 1020\n",
              "5 5    Hardik Pandya  1879 1856  980"
            ]
          },
          "metadata": {}
        },
        {
          "output_type": "stream",
          "name": "stdout",
          "text": [
            "\n"
          ]
        },
        {
          "output_type": "display_data",
          "data": {
            "text/html": [
              "<table class=\"dataframe\">\n",
              "<caption>A data.frame: 5 × 4</caption>\n",
              "<thead>\n",
              "\t<tr><th scope=col>SNo.</th><th scope=col>Batsman_Name</th><th scope=col>Test</th><th scope=col>T20</th></tr>\n",
              "\t<tr><th scope=col>&lt;int&gt;</th><th scope=col>&lt;chr&gt;</th><th scope=col>&lt;dbl&gt;</th><th scope=col>&lt;dbl&gt;</th></tr>\n",
              "</thead>\n",
              "<tbody>\n",
              "\t<tr><td>1</td><td>Virat Kohli   </td><td>3543</td><td>1925</td></tr>\n",
              "\t<tr><td>2</td><td>Ajinkya Rahane</td><td>2578</td><td>1853</td></tr>\n",
              "\t<tr><td>3</td><td>Rohit Sharma  </td><td>2280</td><td>1522</td></tr>\n",
              "\t<tr><td>4</td><td>Shikhar Dhawan</td><td>2158</td><td>1020</td></tr>\n",
              "\t<tr><td>5</td><td>Hardik Pandya </td><td>1879</td><td> 980</td></tr>\n",
              "</tbody>\n",
              "</table>\n"
            ],
            "text/markdown": "\nA data.frame: 5 × 4\n\n| SNo. &lt;int&gt; | Batsman_Name &lt;chr&gt; | Test &lt;dbl&gt; | T20 &lt;dbl&gt; |\n|---|---|---|---|\n| 1 | Virat Kohli    | 3543 | 1925 |\n| 2 | Ajinkya Rahane | 2578 | 1853 |\n| 3 | Rohit Sharma   | 2280 | 1522 |\n| 4 | Shikhar Dhawan | 2158 | 1020 |\n| 5 | Hardik Pandya  | 1879 |  980 |\n\n",
            "text/latex": "A data.frame: 5 × 4\n\\begin{tabular}{llll}\n SNo. & Batsman\\_Name & Test & T20\\\\\n <int> & <chr> & <dbl> & <dbl>\\\\\n\\hline\n\t 1 & Virat Kohli    & 3543 & 1925\\\\\n\t 2 & Ajinkya Rahane & 2578 & 1853\\\\\n\t 3 & Rohit Sharma   & 2280 & 1522\\\\\n\t 4 & Shikhar Dhawan & 2158 & 1020\\\\\n\t 5 & Hardik Pandya  & 1879 &  980\\\\\n\\end{tabular}\n",
            "text/plain": [
              "  SNo. Batsman_Name   Test T20 \n",
              "1 1    Virat Kohli    3543 1925\n",
              "2 2    Ajinkya Rahane 2578 1853\n",
              "3 3    Rohit Sharma   2280 1522\n",
              "4 4    Shikhar Dhawan 2158 1020\n",
              "5 5    Hardik Pandya  1879  980"
            ]
          },
          "metadata": {}
        },
        {
          "output_type": "stream",
          "name": "stdout",
          "text": [
            "\n"
          ]
        },
        {
          "output_type": "display_data",
          "data": {
            "text/html": [
              "<table class=\"dataframe\">\n",
              "<caption>A data.frame: 3 × 5</caption>\n",
              "<thead>\n",
              "\t<tr><th scope=col>SNo.</th><th scope=col>Batsman_Name</th><th scope=col>Test</th><th scope=col>ODI</th><th scope=col>T20</th></tr>\n",
              "\t<tr><th scope=col>&lt;int&gt;</th><th scope=col>&lt;chr&gt;</th><th scope=col>&lt;dbl&gt;</th><th scope=col>&lt;dbl&gt;</th><th scope=col>&lt;dbl&gt;</th></tr>\n",
              "</thead>\n",
              "<tbody>\n",
              "\t<tr><td>1</td><td>Virat Kohli   </td><td>3543</td><td>2245</td><td>1925</td></tr>\n",
              "\t<tr><td>2</td><td>Ajinkya Rahane</td><td>2578</td><td>2165</td><td>1853</td></tr>\n",
              "\t<tr><td>3</td><td>Rohit Sharma  </td><td>2280</td><td>2080</td><td>1522</td></tr>\n",
              "</tbody>\n",
              "</table>\n"
            ],
            "text/markdown": "\nA data.frame: 3 × 5\n\n| SNo. &lt;int&gt; | Batsman_Name &lt;chr&gt; | Test &lt;dbl&gt; | ODI &lt;dbl&gt; | T20 &lt;dbl&gt; |\n|---|---|---|---|---|\n| 1 | Virat Kohli    | 3543 | 2245 | 1925 |\n| 2 | Ajinkya Rahane | 2578 | 2165 | 1853 |\n| 3 | Rohit Sharma   | 2280 | 2080 | 1522 |\n\n",
            "text/latex": "A data.frame: 3 × 5\n\\begin{tabular}{lllll}\n SNo. & Batsman\\_Name & Test & ODI & T20\\\\\n <int> & <chr> & <dbl> & <dbl> & <dbl>\\\\\n\\hline\n\t 1 & Virat Kohli    & 3543 & 2245 & 1925\\\\\n\t 2 & Ajinkya Rahane & 2578 & 2165 & 1853\\\\\n\t 3 & Rohit Sharma   & 2280 & 2080 & 1522\\\\\n\\end{tabular}\n",
            "text/plain": [
              "  SNo. Batsman_Name   Test ODI  T20 \n",
              "1 1    Virat Kohli    3543 2245 1925\n",
              "2 2    Ajinkya Rahane 2578 2165 1853\n",
              "3 3    Rohit Sharma   2280 2080 1522"
            ]
          },
          "metadata": {}
        },
        {
          "output_type": "stream",
          "name": "stdout",
          "text": [
            "\n"
          ]
        },
        {
          "output_type": "display_data",
          "data": {
            "text/html": [
              "<table class=\"dataframe\">\n",
              "<caption>A data.frame: 2 × 5</caption>\n",
              "<thead>\n",
              "\t<tr><th></th><th scope=col>SNo.</th><th scope=col>Batsman_Name</th><th scope=col>Test</th><th scope=col>ODI</th><th scope=col>T20</th></tr>\n",
              "\t<tr><th></th><th scope=col>&lt;int&gt;</th><th scope=col>&lt;chr&gt;</th><th scope=col>&lt;dbl&gt;</th><th scope=col>&lt;dbl&gt;</th><th scope=col>&lt;dbl&gt;</th></tr>\n",
              "</thead>\n",
              "<tbody>\n",
              "\t<tr><th scope=row>2</th><td>2</td><td>Ajinkya Rahane</td><td>2578</td><td>2165</td><td>1853</td></tr>\n",
              "\t<tr><th scope=row>4</th><td>4</td><td>Shikhar Dhawan</td><td>2158</td><td>1957</td><td>1020</td></tr>\n",
              "</tbody>\n",
              "</table>\n"
            ],
            "text/markdown": "\nA data.frame: 2 × 5\n\n| <!--/--> | SNo. &lt;int&gt; | Batsman_Name &lt;chr&gt; | Test &lt;dbl&gt; | ODI &lt;dbl&gt; | T20 &lt;dbl&gt; |\n|---|---|---|---|---|---|\n| 2 | 2 | Ajinkya Rahane | 2578 | 2165 | 1853 |\n| 4 | 4 | Shikhar Dhawan | 2158 | 1957 | 1020 |\n\n",
            "text/latex": "A data.frame: 2 × 5\n\\begin{tabular}{r|lllll}\n  & SNo. & Batsman\\_Name & Test & ODI & T20\\\\\n  & <int> & <chr> & <dbl> & <dbl> & <dbl>\\\\\n\\hline\n\t2 & 2 & Ajinkya Rahane & 2578 & 2165 & 1853\\\\\n\t4 & 4 & Shikhar Dhawan & 2158 & 1957 & 1020\\\\\n\\end{tabular}\n",
            "text/plain": [
              "  SNo. Batsman_Name   Test ODI  T20 \n",
              "2 2    Ajinkya Rahane 2578 2165 1853\n",
              "4 4    Shikhar Dhawan 2158 1957 1020"
            ]
          },
          "metadata": {}
        },
        {
          "output_type": "stream",
          "name": "stdout",
          "text": [
            "\n"
          ]
        },
        {
          "output_type": "display_data",
          "data": {
            "text/html": [
              "<table class=\"dataframe\">\n",
              "<caption>A data.frame: 3 × 5</caption>\n",
              "<thead>\n",
              "\t<tr><th></th><th scope=col>SNo.</th><th scope=col>Batsman_Name</th><th scope=col>Test</th><th scope=col>ODI</th><th scope=col>T20</th></tr>\n",
              "\t<tr><th></th><th scope=col>&lt;int&gt;</th><th scope=col>&lt;chr&gt;</th><th scope=col>&lt;dbl&gt;</th><th scope=col>&lt;dbl&gt;</th><th scope=col>&lt;dbl&gt;</th></tr>\n",
              "</thead>\n",
              "<tbody>\n",
              "\t<tr><th scope=row>1</th><td>1</td><td>Virat Kohli   </td><td>3543</td><td>2245</td><td>1925</td></tr>\n",
              "\t<tr><th scope=row>2</th><td>2</td><td>Ajinkya Rahane</td><td>2578</td><td>2165</td><td>1853</td></tr>\n",
              "\t<tr><th scope=row>3</th><td>3</td><td>Rohit Sharma  </td><td>2280</td><td>2080</td><td>1522</td></tr>\n",
              "</tbody>\n",
              "</table>\n"
            ],
            "text/markdown": "\nA data.frame: 3 × 5\n\n| <!--/--> | SNo. &lt;int&gt; | Batsman_Name &lt;chr&gt; | Test &lt;dbl&gt; | ODI &lt;dbl&gt; | T20 &lt;dbl&gt; |\n|---|---|---|---|---|---|\n| 1 | 1 | Virat Kohli    | 3543 | 2245 | 1925 |\n| 2 | 2 | Ajinkya Rahane | 2578 | 2165 | 1853 |\n| 3 | 3 | Rohit Sharma   | 2280 | 2080 | 1522 |\n\n",
            "text/latex": "A data.frame: 3 × 5\n\\begin{tabular}{r|lllll}\n  & SNo. & Batsman\\_Name & Test & ODI & T20\\\\\n  & <int> & <chr> & <dbl> & <dbl> & <dbl>\\\\\n\\hline\n\t1 & 1 & Virat Kohli    & 3543 & 2245 & 1925\\\\\n\t2 & 2 & Ajinkya Rahane & 2578 & 2165 & 1853\\\\\n\t3 & 3 & Rohit Sharma   & 2280 & 2080 & 1522\\\\\n\\end{tabular}\n",
            "text/plain": [
              "  SNo. Batsman_Name   Test ODI  T20 \n",
              "1 1    Virat Kohli    3543 2245 1925\n",
              "2 2    Ajinkya Rahane 2578 2165 1853\n",
              "3 3    Rohit Sharma   2280 2080 1522"
            ]
          },
          "metadata": {}
        }
      ]
    },
    {
      "cell_type": "code",
      "source": [
        " # @title Importing Library\n",
        " install.packages(\"openxlsx\")\n",
        " install.packages(\"readxl\")"
      ],
      "metadata": {
        "colab": {
          "base_uri": "https://localhost:8080/"
        },
        "id": "FbLa8INLdhDy",
        "outputId": "8e2e6a8b-2b86-4aea-c4fe-5065487a44e1"
      },
      "execution_count": null,
      "outputs": [
        {
          "output_type": "stream",
          "name": "stderr",
          "text": [
            "Installing package into ‘/usr/local/lib/R/site-library’\n",
            "(as ‘lib’ is unspecified)\n",
            "\n",
            "Installing package into ‘/usr/local/lib/R/site-library’\n",
            "(as ‘lib’ is unspecified)\n",
            "\n"
          ]
        }
      ]
    },
    {
      "cell_type": "code",
      "source": [
        "# @title Creating Excel File\n",
        "Empinfo <- data.frame (\n",
        "  EmpNo. = c(\"E01\", \"E02\", \"E03\", \"E04\", \"E05\"),\n",
        "  Department = c(\"Akhil\", \"Bhaskar\", \"Deepika\", \"Kunal\", \"Sashi\"),\n",
        "  Salary = c(30000, 50000, 100000, 75000, 90000),\n",
        "  Age = c(24, 25, 25 ,26, 30)\n",
        ")\n",
        "\n",
        "Deptinfo <- data.frame (\n",
        "  EmpNo. = c(\"E01\", \"E03\", \"E04\", \"E06\", \"E07\"),\n",
        "  Department = c(\"Akhil\", \"Deepika\", \"Kunal\", \"Shyla\", \"Vishnu\"),\n",
        "  Designation = c(\"Developer\", \"Team Lead\", \"Senior Developer\", \"Manager\", \"Project Lead\")\n",
        ")\n",
        "\n",
        "library(openxlsx)\n",
        "write.xlsx(Empinfo, file = \"Empinfo.xlsx\", rowNames = FALSE)\n",
        "write.xlsx(Deptinfo, file = \"Deptinfo.xlsx\", rowNames = FALSE)"
      ],
      "metadata": {
        "id": "0dcGiaUra6sG"
      },
      "execution_count": null,
      "outputs": []
    },
    {
      "cell_type": "code",
      "source": [
        "# @title Assignment 2\n",
        "# Write a Program to Import Excel Files into 2 DataFrames and perform the following :\n",
        "\n",
        "# 1. Inner Join ,\n",
        "# 2. Right Outer Join\n",
        "# 3. Cross Join\n",
        "\n",
        "library(readxl)\n",
        "\n",
        "df1 <- read_excel(\"/content/Empinfo.xlsx\")\n",
        "df2 <- read_excel(\"/content/Deptinfo.xlsx\")\n",
        "\n",
        "inner_join <- inner_join(df1, df2, by = \"EmpNo.\")\n",
        "\n",
        "right_outer_join <- right_join(df1, df2, by = \"EmpNo.\")\n",
        "\n",
        "cross_join <- merge(df1, df2, by = NULL)\n",
        "\n",
        "cat(\"Inner Join:\\n\")\n",
        "print(inner_join)\n",
        "cat(\"\\nRight Outer Join:\\n\")\n",
        "print(right_outer_join)\n",
        "cat(\"\\nCross Join:\\n\")\n",
        "print(cross_join)"
      ],
      "metadata": {
        "colab": {
          "base_uri": "https://localhost:8080/"
        },
        "id": "RrwfzaQoaJvT",
        "outputId": "204848c4-ac03-4b9b-b1fd-aa777475795f"
      },
      "execution_count": null,
      "outputs": [
        {
          "output_type": "stream",
          "name": "stdout",
          "text": [
            "Inner Join:\n",
            "\u001b[90m# A tibble: 3 × 6\u001b[39m\n",
            "  EmpNo. Department.x Salary   Age Department.y Designation     \n",
            "  \u001b[3m\u001b[90m<chr>\u001b[39m\u001b[23m  \u001b[3m\u001b[90m<chr>\u001b[39m\u001b[23m         \u001b[3m\u001b[90m<dbl>\u001b[39m\u001b[23m \u001b[3m\u001b[90m<dbl>\u001b[39m\u001b[23m \u001b[3m\u001b[90m<chr>\u001b[39m\u001b[23m        \u001b[3m\u001b[90m<chr>\u001b[39m\u001b[23m           \n",
            "\u001b[90m1\u001b[39m E01    Akhil         \u001b[4m3\u001b[24m\u001b[4m0\u001b[24m000    24 Akhil        Developer       \n",
            "\u001b[90m2\u001b[39m E03    Deepika      \u001b[4m1\u001b[24m\u001b[4m0\u001b[24m\u001b[4m0\u001b[24m000    25 Deepika      Team Lead       \n",
            "\u001b[90m3\u001b[39m E04    Kunal         \u001b[4m7\u001b[24m\u001b[4m5\u001b[24m000    26 Kunal        Senior Developer\n",
            "\n",
            "Right Outer Join:\n",
            "\u001b[90m# A tibble: 5 × 6\u001b[39m\n",
            "  EmpNo. Department.x Salary   Age Department.y Designation     \n",
            "  \u001b[3m\u001b[90m<chr>\u001b[39m\u001b[23m  \u001b[3m\u001b[90m<chr>\u001b[39m\u001b[23m         \u001b[3m\u001b[90m<dbl>\u001b[39m\u001b[23m \u001b[3m\u001b[90m<dbl>\u001b[39m\u001b[23m \u001b[3m\u001b[90m<chr>\u001b[39m\u001b[23m        \u001b[3m\u001b[90m<chr>\u001b[39m\u001b[23m           \n",
            "\u001b[90m1\u001b[39m E01    Akhil         \u001b[4m3\u001b[24m\u001b[4m0\u001b[24m000    24 Akhil        Developer       \n",
            "\u001b[90m2\u001b[39m E03    Deepika      \u001b[4m1\u001b[24m\u001b[4m0\u001b[24m\u001b[4m0\u001b[24m000    25 Deepika      Team Lead       \n",
            "\u001b[90m3\u001b[39m E04    Kunal         \u001b[4m7\u001b[24m\u001b[4m5\u001b[24m000    26 Kunal        Senior Developer\n",
            "\u001b[90m4\u001b[39m E06    \u001b[31mNA\u001b[39m               \u001b[31mNA\u001b[39m    \u001b[31mNA\u001b[39m Shyla        Manager         \n",
            "\u001b[90m5\u001b[39m E07    \u001b[31mNA\u001b[39m               \u001b[31mNA\u001b[39m    \u001b[31mNA\u001b[39m Vishnu       Project Lead    \n",
            "\n",
            "Cross Join:\n",
            "   EmpNo..x Department.x Salary Age EmpNo..y Department.y      Designation\n",
            "1       E01        Akhil  30000  24      E01        Akhil        Developer\n",
            "2       E02      Bhaskar  50000  25      E01        Akhil        Developer\n",
            "3       E03      Deepika 100000  25      E01        Akhil        Developer\n",
            "4       E04        Kunal  75000  26      E01        Akhil        Developer\n",
            "5       E05        Sashi  90000  30      E01        Akhil        Developer\n",
            "6       E01        Akhil  30000  24      E03      Deepika        Team Lead\n",
            "7       E02      Bhaskar  50000  25      E03      Deepika        Team Lead\n",
            "8       E03      Deepika 100000  25      E03      Deepika        Team Lead\n",
            "9       E04        Kunal  75000  26      E03      Deepika        Team Lead\n",
            "10      E05        Sashi  90000  30      E03      Deepika        Team Lead\n",
            "11      E01        Akhil  30000  24      E04        Kunal Senior Developer\n",
            "12      E02      Bhaskar  50000  25      E04        Kunal Senior Developer\n",
            "13      E03      Deepika 100000  25      E04        Kunal Senior Developer\n",
            "14      E04        Kunal  75000  26      E04        Kunal Senior Developer\n",
            "15      E05        Sashi  90000  30      E04        Kunal Senior Developer\n",
            "16      E01        Akhil  30000  24      E06        Shyla          Manager\n",
            "17      E02      Bhaskar  50000  25      E06        Shyla          Manager\n",
            "18      E03      Deepika 100000  25      E06        Shyla          Manager\n",
            "19      E04        Kunal  75000  26      E06        Shyla          Manager\n",
            "20      E05        Sashi  90000  30      E06        Shyla          Manager\n",
            "21      E01        Akhil  30000  24      E07       Vishnu     Project Lead\n",
            "22      E02      Bhaskar  50000  25      E07       Vishnu     Project Lead\n",
            "23      E03      Deepika 100000  25      E07       Vishnu     Project Lead\n",
            "24      E04        Kunal  75000  26      E07       Vishnu     Project Lead\n",
            "25      E05        Sashi  90000  30      E07       Vishnu     Project Lead\n"
          ]
        }
      ]
    },
    {
      "cell_type": "code",
      "source": [
        "# @title Assignment 3\n",
        "# Write a Program to perform the following :\n",
        "\n",
        "# 1. Read 2 matrices from the user\n",
        "# 2. Based on Choice Perform Following Operations\n",
        "#    Choice 1 : Display Last Row of 1st Matrix\n",
        "\n",
        "\n",
        "# n1 <- as.numeric(readline(\"Enter the number of rows for the first matrix: \"))\n",
        "# m1 <- as.numeric(readline(\"Enter the number of columns for the first matrix: \"))\n",
        "\n",
        "# first <- matrix(0, nrow = n1, ncol = m1)\n",
        "\n",
        "# for (i in 1:n1) {\n",
        "#  for (j in 1:m1) {\n",
        "#    first[i, j] <- as.numeric(readline())\n",
        "#   }\n",
        "# }\n",
        "\n",
        "# n2 <- as.numeric(readline(\"Enter the number of rows for the second matrix: \"))\n",
        "# m2 <- as.numeric(readline(\"Enter the number of columns for the second matrix: \"))\n",
        "\n",
        "# second <- matrix(0, nrow = n2, ncol = m2)\n",
        "\n",
        "# for (i in 1:n2) {\n",
        "#  for (j in 1:m2) {\n",
        "#    second[i, j] <- as.numeric(readline())\n",
        "#  }\n",
        "# }\n",
        "\n",
        "# print(\"First matrix:\")\n",
        "# print(first)\n",
        "\n",
        "# print(\"Second matrix:\")\n",
        "# print(second)\n",
        "\n",
        "# choice <- as.numeric(readline(\"Enter Choice : \"))\n",
        "\n",
        "# if(choice == 1)\n",
        "# {\n",
        "#  first[nrow(first),]  # Choice 1 : Display Last Row of 1st Matrix\n",
        "# }\n"
      ],
      "metadata": {
        "id": "bnaHGaYRdmpu"
      },
      "execution_count": null,
      "outputs": []
    },
    {
      "cell_type": "markdown",
      "source": [
        "# Day 3 : Visualisation"
      ],
      "metadata": {
        "id": "lG09DU8Og6cg"
      }
    },
    {
      "cell_type": "code",
      "source": [
        "# @title 1. Pie Chart\n",
        "x <- c(21, 62, 10, 53)\n",
        "labels <- c(\"London\", \"New York\", \"Singapore\", \"Mumbai\")\n",
        "piepercent <- round(100*x/sum(x), 1)\n",
        " # png(file = \"City Pie Chart.jpg\") to generate Pie Chart Image instead of printing it\n",
        "pie(x, labels, main = \"City Pie Chart\", col = rainbow(length(x)))\n",
        "pie(x, labels = piepercent , main = \"City Pie Chart\", col = rainbow(length(x))) # As perentage\n",
        "legend(\"bottomright\", legend = labels, fill = rainbow(length(labels)))"
      ],
      "metadata": {
        "colab": {
          "base_uri": "https://localhost:8080/",
          "height": 857
        },
        "id": "C5o4Xr3pg9nI",
        "outputId": "e7596fbb-942c-4370-f531-c93b9ef8826f"
      },
      "execution_count": null,
      "outputs": [
        {
          "output_type": "display_data",
          "data": {
            "text/plain": [
              "Plot with title “City Pie Chart”"
            ],
            "image/png": "[encoded data removed]"
          },
          "metadata": {
            "image/png": {
              "width": 420,
              "height": 420
            }
          }
        },
        {
          "output_type": "display_data",
          "data": {
            "text/plain": [
              "Plot with title “City Pie Chart”"
            ],
            "image/png": "[encoded data removed]"
          },
          "metadata": {
            "image/png": {
              "width": 420,
              "height": 420
            }
          }
        }
      ]
    },
    {
      "cell_type": "code",
      "source": [
        "# @title 2. 3D Pie Chart\n",
        "install.packages(\"plotrix\", dependencies = TRUE)\n",
        "library(plotrix)\n",
        "\n",
        "x <- c(21, 62, 10, 53)\n",
        "labels <- c(\"London\", \"New York\", \"Singapore\", \"Mumbai\")\n",
        "pie3D(x, labels = labels , main = \"City Pie Chart\")"
      ],
      "metadata": {
        "colab": {
          "base_uri": "https://localhost:8080/",
          "height": 489
        },
        "id": "_jlH4hvUkmmQ",
        "outputId": "85f6daba-7c11-401d-a4ab-c2ea012418b2"
      },
      "execution_count": null,
      "outputs": [
        {
          "output_type": "stream",
          "name": "stderr",
          "text": [
            "Installing package into ‘/usr/local/lib/R/site-library’\n",
            "(as ‘lib’ is unspecified)\n",
            "\n"
          ]
        },
        {
          "output_type": "display_data",
          "data": {
            "text/plain": [
              "Plot with title “City Pie Chart”"
            ],
            "image/png": "[encoded data removed]"
          },
          "metadata": {
            "image/png": {
              "width": 420,
              "height": 420
            }
          }
        }
      ]
    },
    {
      "cell_type": "code",
      "source": [
        "# @title 3. Bar Chart\n",
        "x <- c(21, 62, 10, 53)\n",
        "labels <- c(\"London\", \"New York\", \"Singapore\", \"Mumbai\")\n",
        "\n",
        "barplot(x, names.arg =labels, main = \"Bar Chart\", xlab = \"Cities\", ylab = \"Values\", col = \"blue\", border = \"red\")"
      ],
      "metadata": {
        "colab": {
          "base_uri": "https://localhost:8080/",
          "height": 437
        },
        "id": "jMDySTS5k9Cx",
        "outputId": "e9bf26ba-091d-4d95-ee6b-ff34a061373a"
      },
      "execution_count": null,
      "outputs": [
        {
          "output_type": "display_data",
          "data": {
            "text/plain": [
              "Plot with title “Bar Chart”"
            ],
            "image/png": "[encoded data removed]"
          },
          "metadata": {
            "image/png": {
              "width": 420,
              "height": 420
            }
          }
        }
      ]
    },
    {
      "cell_type": "code",
      "source": [
        "# @title 4. Stacked Bar Chart\n",
        "regions <- c(\"East\", \"West\", \"North\")\n",
        "months <- c(\"Mar\", \"Apr\", \"May\", \"Jun\", \"Jul\")\n",
        "colors <- c(\"green\", \"orange\", \"brown\")\n",
        "values <- matrix(c(10, 15, 20, 25, 30, 8, 12, 18, 22, 28, 6, 9, 12, 15, 20), nrow = length(regions), byrow = TRUE)\n",
        "\n",
        "barplot(values, beside = F, col = colors, names.arg = months, main = \"Stacked Bar Chart by Region and Month\", xlab = \"Months\", ylab = \"Values\")\n",
        "legend(\"topright\", legend = regions, fill = colors)"
      ],
      "metadata": {
        "colab": {
          "base_uri": "https://localhost:8080/",
          "height": 437
        },
        "id": "F1A3TWZFmx0H",
        "outputId": "6b334864-2b3e-429c-8412-f12884e4831d"
      },
      "execution_count": null,
      "outputs": [
        {
          "output_type": "display_data",
          "data": {
            "text/plain": [
              "Plot with title “Stacked Bar Chart by Region and Month”"
            ],
            "image/png": "[encoded data removed]"
          },
          "metadata": {
            "image/png": {
              "width": 420,
              "height": 420
            }
          }
        }
      ]
    },
    {
      "cell_type": "code",
      "source": [
        "# @title 5. Box Plot\n",
        "data(mtcars)\n",
        "boxplot(mpg ~ cyl, data = mtcars, main = \"Number of Cylinders\", xlab = \"Number of Cylinders\", ylab = \"Miles per Gallon\", col = \"lightblue\")\n",
        "boxplot(mpg ~ cyl, data = mtcars, main = \"Number of Cylinders\", xlab = \"Number of Cylinders\", ylab = \"Miles per Gallon\", col = c(\"green\", \"yellow\", \"purple\"), notch = T, varwidth = T)"
      ],
      "metadata": {
        "colab": {
          "base_uri": "https://localhost:8080/",
          "height": 892
        },
        "id": "RjJ2NM9yoIMK",
        "outputId": "9a2bd5e8-6da1-411a-88cf-8a17ed571e64"
      },
      "execution_count": null,
      "outputs": [
        {
          "output_type": "stream",
          "name": "stderr",
          "text": [
            "Warning message in (function (z, notch = FALSE, width = NULL, varwidth = FALSE, :\n",
            "“some notches went outside hinges ('box'): maybe set notch=FALSE”\n"
          ]
        },
        {
          "output_type": "display_data",
          "data": {
            "text/plain": [
              "Plot with title “Number of Cylinders”"
            ],
            "image/png": "[encoded data removed]"
          },
          "metadata": {
            "image/png": {
              "width": 420,
              "height": 420
            }
          }
        },
        {
          "output_type": "display_data",
          "data": {
            "text/plain": [
              "Plot with title “Number of Cylinders”"
            ],
            "image/png": "[encoded data removed]"
          },
          "metadata": {
            "image/png": {
              "width": 420,
              "height": 420
            }
          }
        }
      ]
    },
    {
      "cell_type": "code",
      "source": [
        "# @title 6. Histogram\n",
        "data <- c(10, 15, 20, 25, 30, 35, 40, 45, 50, 55, 60)\n",
        "hist(data, main=\"Histogram of Sample Data\", xlab=\"Value\", ylab=\"Frequency\", col = \"Yellow\")\n",
        "hist(data, main=\"Histogram of Sample Data\", xlab=\"Value\", ylab=\"Frequency\", col = \"Green\", border = \"Red\", xlim = c(0,60), ylim = c(0,5))"
      ],
      "metadata": {
        "colab": {
          "base_uri": "https://localhost:8080/",
          "height": 857
        },
        "id": "qjlDUvFz6fkZ",
        "outputId": "2ff09a02-2aef-4ac8-ba98-b01821d57aaa"
      },
      "execution_count": null,
      "outputs": [
        {
          "output_type": "display_data",
          "data": {
            "text/plain": [
              "Plot with title “Histogram of Sample Data”"
            ],
            "image/png": "[encoded data removed]"
          },
          "metadata": {
            "image/png": {
              "width": 420,
              "height": 420
            }
          }
        },
        {
          "output_type": "display_data",
          "data": {
            "text/plain": [
              "Plot with title “Histogram of Sample Data”"
            ],
            "image/png": "[encoded data removed]"
          },
          "metadata": {
            "image/png": {
              "width": 420,
              "height": 420
            }
          }
        }
      ]
    },
    {
      "cell_type": "code",
      "source": [
        "# @title 7. Line / Scatter / Stair-Case Graph\n",
        "x <- c(1, 2, 3, 4, 5)\n",
        "y <- c(2, 4, 5, 8, 10)\n",
        "\n",
        "x1 <- c(1, 2, 3, 4, 5)\n",
        "y1 <- c(2, 4, 4, 7, 4)\n",
        "\n",
        "plot(x, y, type = \"l\", col = \"blue\", lwd = 2, main = \"Line Graph\", xlab = \"X-axis\", ylab = \"Y-axis\")\n",
        "\n",
        "# lines() to plot on same graph\n",
        "lines(c(1, 5, 7, 7, 1) , type = \"b\", col = \"red\", lwd = 2)\n",
        "lines(c(3, 7, 2, 6, 5) , type = \"o\", col = \"blue\", lwd = 2)\n",
        "\n",
        "\n",
        "plot(x1, y1, type = \"p\", col = \"purple\", lwd = 2, main = \"Line Graph\", xlab = \"X-axis\", ylab = \"Y-axis\") # Scatter Plot\n",
        "lines(c(4, 7, 5, 2, 5) , type = \"s\", col = \"black\", lwd = 2)\n",
        "lines(c(1:5) , type = \"h\", col = \"purple\", lwd = 2)"
      ],
      "metadata": {
        "colab": {
          "base_uri": "https://localhost:8080/",
          "height": 857
        },
        "id": "jFY1-_Jw7lrI",
        "outputId": "d2b6ecec-f576-4d53-aedf-e6440de0e79b"
      },
      "execution_count": null,
      "outputs": [
        {
          "output_type": "display_data",
          "data": {
            "text/plain": [
              "Plot with title “Line Graph”"
            ],
            "image/png": "[encoded data removed]"
          },
          "metadata": {
            "image/png": {
              "width": 420,
              "height": 420
            }
          }
        },
        {
          "output_type": "display_data",
          "data": {
            "text/plain": [
              "Plot with title “Line Graph”"
            ],
            "image/png": "[encoded data removed]"
          },
          "metadata": {
            "image/png": {
              "width": 420,
              "height": 420
            }
          }
        }
      ]
    },
    {
      "cell_type": "code",
      "source": [
        "# @title 8. Scatter Plot Matrices\n",
        "data(mtcars)\n",
        "pairs(~wt+mpg+disp+cyl, data = mtcars , main = \"Scatter Plot Matrix\")"
      ],
      "metadata": {
        "colab": {
          "base_uri": "https://localhost:8080/",
          "height": 437
        },
        "id": "xxvn10y2AF6k",
        "outputId": "4bf65189-039f-4bea-cdcb-4b219474d8c3"
      },
      "execution_count": null,
      "outputs": [
        {
          "output_type": "display_data",
          "data": {
            "text/plain": [
              "plot without title"
            ],
            "image/png": "[encoded data removed]"
          },
          "metadata": {
            "image/png": {
              "width": 420,
              "height": 420
            }
          }
        }
      ]
    },
    {
      "cell_type": "code",
      "source": [
        "# @title Working on \"mtcars\" Dataset\n",
        "library(ggplot2)\n",
        "data(mtcars)\n",
        "str(mtcars)"
      ],
      "metadata": {
        "colab": {
          "base_uri": "https://localhost:8080/"
        },
        "id": "Sm-sHn0dBxNL",
        "outputId": "b613eb73-1ed6-4566-b6d6-3a127653d8e2"
      },
      "execution_count": null,
      "outputs": [
        {
          "output_type": "stream",
          "name": "stdout",
          "text": [
            "'data.frame':\t32 obs. of  11 variables:\n",
            " $ mpg : num  21 21 22.8 21.4 18.7 18.1 14.3 24.4 22.8 19.2 ...\n",
            " $ cyl : num  6 6 4 6 8 6 8 4 4 6 ...\n",
            " $ disp: num  160 160 108 258 360 ...\n",
            " $ hp  : num  110 110 93 110 175 105 245 62 95 123 ...\n",
            " $ drat: num  3.9 3.9 3.85 3.08 3.15 2.76 3.21 3.69 3.92 3.92 ...\n",
            " $ wt  : num  2.62 2.88 2.32 3.21 3.44 ...\n",
            " $ qsec: num  16.5 17 18.6 19.4 17 ...\n",
            " $ vs  : num  0 0 1 1 0 1 0 1 1 1 ...\n",
            " $ am  : num  1 1 1 0 0 0 0 0 0 0 ...\n",
            " $ gear: num  4 4 4 3 3 3 3 4 4 4 ...\n",
            " $ carb: num  4 4 1 1 2 1 4 2 2 4 ...\n"
          ]
        }
      ]
    },
    {
      "cell_type": "code",
      "source": [
        "# @title Scatter Plot (ggplot)\n",
        "# Convert the variables 'am', 'cyl', 'vs', and 'gear' to factors\n",
        "mtcars$am <- factor(mtcars$am)\n",
        "mtcars$cyl <- factor(mtcars$cyl)\n",
        "mtcars$vs <- factor(mtcars$vs)\n",
        "mtcars$gear <- factor(mtcars$gear)\n",
        "\n",
        "ggplot(mtcars, aes(x = cyl, y = vs)) + geom_point()\n",
        "cat(\"\\n\")\n",
        "ggplot(mtcars, aes(x = cyl, y = vs)) + geom_jitter( width = 0.1)\n",
        "cat(\"\\n\")\n",
        "ggplot(mtcars, aes(x = cyl, y = vs)) + geom_jitter( width = 0.1 , alpha = 0.5)"
      ],
      "metadata": {
        "colab": {
          "base_uri": "https://localhost:8080/",
          "height": 1000
        },
        "id": "riEcSBjrCkfT",
        "outputId": "24a6febc-92b6-4c05-f1b6-5acc45acb565"
      },
      "execution_count": null,
      "outputs": [
        {
          "output_type": "stream",
          "name": "stdout",
          "text": [
            "\n"
          ]
        },
        {
          "output_type": "display_data",
          "data": {
            "text/plain": [
              "plot without title"
            ],
            "image/png": "[encoded data removed]"
          },
          "metadata": {
            "image/png": {
              "width": 420,
              "height": 420
            }
          }
        },
        {
          "output_type": "stream",
          "name": "stdout",
          "text": [
            "\n"
          ]
        },
        {
          "output_type": "display_data",
          "data": {
            "text/plain": [
              "plot without title"
            ],
            "image/png": "[encoded data removed]"
          },
          "metadata": {
            "image/png": {
              "width": 420,
              "height": 420
            }
          }
        },
        {
          "output_type": "display_data",
          "data": {
            "text/plain": [
              "plot without title"
            ],
            "image/png": "[encoded data removed]"
          },
          "metadata": {
            "image/png": {
              "width": 420,
              "height": 420
            }
          }
        }
      ]
    },
    {
      "cell_type": "code",
      "source": [
        "# @title Bar Chart (ggplot)\n",
        "library(ggplot2)\n",
        "\n",
        "ggplot(mtcars, aes(x = factor(cyl), fill = factor(am))) +\n",
        "  geom_bar(position = \"fill\") +\n",
        "  labs(x = \" Cylinders\", y = \"Proportion\", fill = \"Transmission\") +\n",
        "  facet_wrap(~gear)"
      ],
      "metadata": {
        "colab": {
          "base_uri": "https://localhost:8080/",
          "height": 437
        },
        "id": "--XCUZIxFAPF",
        "outputId": "b747d093-4a7c-42ad-a9ba-638ec064bf68"
      },
      "execution_count": null,
      "outputs": [
        {
          "output_type": "display_data",
          "data": {
            "text/plain": [
              "plot without title"
            ],
            "image/png": "[encoded data removed]"
          },
          "metadata": {
            "image/png": {
              "width": 420,
              "height": 420
            }
          }
        }
      ]
    },
    {
      "cell_type": "code",
      "source": [
        "# @title Histogram (ggplot)\n",
        "library(ggplot2)\n",
        "\n",
        "ggplot(mtcars, aes(x = mpg)) +\n",
        "  geom_histogram(binwidth = 2, fill = \"skyblue\", color = \"black\") +\n",
        "  labs(title = \"Histogram of MPG in mtcars\", x = \"MPG\", y = \"Frequency\")"
      ],
      "metadata": {
        "colab": {
          "base_uri": "https://localhost:8080/",
          "height": 437
        },
        "id": "yR77ovdVIbUV",
        "outputId": "fddcc560-4b69-44b0-96c5-a8f4ba3a3951"
      },
      "execution_count": null,
      "outputs": [
        {
          "output_type": "display_data",
          "data": {
            "text/plain": [
              "plot without title"
            ],
            "image/png": "[encoded data removed]"
          },
          "metadata": {
            "image/png": {
              "width": 420,
              "height": 420
            }
          }
        }
      ]
    },
    {
      "cell_type": "markdown",
      "source": [
        "# Visualisation Assignments"
      ],
      "metadata": {
        "id": "rRs2ylkJVS7A"
      }
    },
    {
      "cell_type": "code",
      "source": [
        "# @title Assignment 1\n",
        "data(airquality)\n",
        "\n",
        "# 1. Display row(s) where Ozone has the maximum value\n",
        "filter(airquality, Ozone == max(Ozone, na.rm = TRUE))\n",
        "\n",
        "# 2. Display vector of values of wind for the values of Ozone that are above the upper quartile\n",
        "boxplot(Wind ~ Ozone, data = airquality, main = \"Ozone Vs Wind\", xlab = \"Ozone\", ylab = \"Wind\", col = \"lightblue\")\n",
        "\n",
        "upper_quartile <- quantile(airquality$Ozone, 0.75, na.rm = TRUE)\n",
        "above_upper_quartile <- airquality$Ozone > upper_quartile\n",
        "na.omit(airquality$Wind[above_upper_quartile])"
      ],
      "metadata": {
        "colab": {
          "base_uri": "https://localhost:8080/",
          "height": 567
        },
        "id": "I8VIjoJvI8_F",
        "outputId": "71d58bfe-5d4f-4fa8-dd07-16cff61e3cbd"
      },
      "execution_count": null,
      "outputs": [
        {
          "output_type": "display_data",
          "data": {
            "text/html": [
              "<table class=\"dataframe\">\n",
              "<caption>A data.frame: 1 × 6</caption>\n",
              "<thead>\n",
              "\t<tr><th scope=col>Ozone</th><th scope=col>Solar.R</th><th scope=col>Wind</th><th scope=col>Temp</th><th scope=col>Month</th><th scope=col>Day</th></tr>\n",
              "\t<tr><th scope=col>&lt;int&gt;</th><th scope=col>&lt;int&gt;</th><th scope=col>&lt;dbl&gt;</th><th scope=col>&lt;int&gt;</th><th scope=col>&lt;int&gt;</th><th scope=col>&lt;int&gt;</th></tr>\n",
              "</thead>\n",
              "<tbody>\n",
              "\t<tr><td>168</td><td>238</td><td>3.4</td><td>81</td><td>8</td><td>25</td></tr>\n",
              "</tbody>\n",
              "</table>\n"
            ],
            "text/markdown": "\nA data.frame: 1 × 6\n\n| Ozone &lt;int&gt; | Solar.R &lt;int&gt; | Wind &lt;dbl&gt; | Temp &lt;int&gt; | Month &lt;int&gt; | Day &lt;int&gt; |\n|---|---|---|---|---|---|\n| 168 | 238 | 3.4 | 81 | 8 | 25 |\n\n",
            "text/latex": "A data.frame: 1 × 6\n\\begin{tabular}{llllll}\n Ozone & Solar.R & Wind & Temp & Month & Day\\\\\n <int> & <int> & <dbl> & <int> & <int> & <int>\\\\\n\\hline\n\t 168 & 238 & 3.4 & 81 & 8 & 25\\\\\n\\end{tabular}\n",
            "text/plain": [
              "  Ozone Solar.R Wind Temp Month Day\n",
              "1 168   238     3.4  81   8     25 "
            ]
          },
          "metadata": {}
        },
        {
          "output_type": "display_data",
          "data": {
            "text/html": [
              "<style>\n",
              ".list-inline {list-style: none; margin:0; padding: 0}\n",
              ".list-inline>li {display: inline-block}\n",
              ".list-inline>li:not(:last-child)::after {content: \"\\00b7\"; padding: 0 .5ex}\n",
              "</style>\n",
              "<ol class=list-inline><li>5.7</li><li>13.8</li><li>4.1</li><li>4.6</li><li>5.1</li><li>6.3</li><li>5.7</li><li>7.4</li><li>5.1</li><li>8.6</li><li>8</li><li>7.4</li><li>7.4</li><li>6.9</li><li>4.6</li><li>4</li><li>10.3</li><li>8</li><li>9.7</li><li>3.4</li><li>8</li><li>9.7</li><li>2.3</li><li>6.3</li><li>6.3</li><li>6.9</li><li>5.1</li><li>2.8</li><li>4.6</li></ol>\n"
            ],
            "text/markdown": "1. 5.7\n2. 13.8\n3. 4.1\n4. 4.6\n5. 5.1\n6. 6.3\n7. 5.7\n8. 7.4\n9. 5.1\n10. 8.6\n11. 8\n12. 7.4\n13. 7.4\n14. 6.9\n15. 4.6\n16. 4\n17. 10.3\n18. 8\n19. 9.7\n20. 3.4\n21. 8\n22. 9.7\n23. 2.3\n24. 6.3\n25. 6.3\n26. 6.9\n27. 5.1\n28. 2.8\n29. 4.6\n\n\n",
            "text/latex": "\\begin{enumerate*}\n\\item 5.7\n\\item 13.8\n\\item 4.1\n\\item 4.6\n\\item 5.1\n\\item 6.3\n\\item 5.7\n\\item 7.4\n\\item 5.1\n\\item 8.6\n\\item 8\n\\item 7.4\n\\item 7.4\n\\item 6.9\n\\item 4.6\n\\item 4\n\\item 10.3\n\\item 8\n\\item 9.7\n\\item 3.4\n\\item 8\n\\item 9.7\n\\item 2.3\n\\item 6.3\n\\item 6.3\n\\item 6.9\n\\item 5.1\n\\item 2.8\n\\item 4.6\n\\end{enumerate*}\n",
            "text/plain": [
              " [1]  5.7 13.8  4.1  4.6  5.1  6.3  5.7  7.4  5.1  8.6  8.0  7.4  7.4  6.9  4.6\n",
              "[16]  4.0 10.3  8.0  9.7  3.4  8.0  9.7  2.3  6.3  6.3  6.9  5.1  2.8  4.6\n",
              "attr(,\"na.action\")\n",
              " [1]  1  2  3  4  5  7  8  9 10 11 12 13 15 16 17 18 19 20 21 22 23 24 25 26 27\n",
              "[26] 28 30 36 37 39 40 50 51 53 54 57 66\n",
              "attr(,\"class\")\n",
              "[1] \"omit\""
            ]
          },
          "metadata": {}
        },
        {
          "output_type": "display_data",
          "data": {
            "text/plain": [
              "Plot with title “Ozone Vs Wind”"
            ],
            "image/png": "[encoded data removed]"
          },
          "metadata": {
            "image/png": {
              "width": 420,
              "height": 420
            }
          }
        }
      ]
    },
    {
      "cell_type": "code",
      "source": [
        "# @title Assignment 2\n",
        "\n",
        "# 1. Create a Dataframe \"snow\"\n",
        "snow <- data.frame (\n",
        "  year <- c(1970, 1972, 1973, 1974, 1974, 1976),\n",
        "  snowcover <- c(6.5, 12.0, 14.9, 10.0, 10.7, 7.9)\n",
        ")\n",
        "\n",
        "snow\n",
        "cat(\"\\n\")\n",
        "\n",
        "# 2. Display mean, median, 4th decile, and coefficent of Variance of snowcover\n",
        "mean(snow$snowcover)\n",
        "median(snow$snowcover)\n",
        "quantile(snow$snowcover, probs = 0.4)\n",
        "sd(snow$snowcover) / mean(snow$snowcover) * 100\n",
        "cat(\"\\n\")\n",
        "\n",
        "# 3. Find mean of snowcover for odd and even numbered years\n",
        "print(\"Odd Years\")\n",
        "mean(subset(snow$snowcover, snow$year %% 2 != 0))\n",
        "print(\"Even Years\")\n",
        "mean(subset(snow$snowcover, snow$year %% 2 == 0))"
      ],
      "metadata": {
        "colab": {
          "base_uri": "https://localhost:8080/",
          "height": 460
        },
        "id": "M9tLxItdQCWY",
        "outputId": "227888ff-36cf-463c-dd61-af687bdb10c5"
      },
      "execution_count": null,
      "outputs": [
        {
          "output_type": "display_data",
          "data": {
            "text/html": [
              "<table class=\"dataframe\">\n",
              "<caption>A data.frame: 6 × 2</caption>\n",
              "<thead>\n",
              "\t<tr><th scope=col>year....c.1970..1972..1973..1974..1974..1976.</th><th scope=col>snowcover....c.6.5..12..14.9..10..10.7..7.9.</th></tr>\n",
              "\t<tr><th scope=col>&lt;dbl&gt;</th><th scope=col>&lt;dbl&gt;</th></tr>\n",
              "</thead>\n",
              "<tbody>\n",
              "\t<tr><td>1970</td><td> 6.5</td></tr>\n",
              "\t<tr><td>1972</td><td>12.0</td></tr>\n",
              "\t<tr><td>1973</td><td>14.9</td></tr>\n",
              "\t<tr><td>1974</td><td>10.0</td></tr>\n",
              "\t<tr><td>1974</td><td>10.7</td></tr>\n",
              "\t<tr><td>1976</td><td> 7.9</td></tr>\n",
              "</tbody>\n",
              "</table>\n"
            ],
            "text/markdown": "\nA data.frame: 6 × 2\n\n| year....c.1970..1972..1973..1974..1974..1976. &lt;dbl&gt; | snowcover....c.6.5..12..14.9..10..10.7..7.9. &lt;dbl&gt; |\n|---|---|\n| 1970 |  6.5 |\n| 1972 | 12.0 |\n| 1973 | 14.9 |\n| 1974 | 10.0 |\n| 1974 | 10.7 |\n| 1976 |  7.9 |\n\n",
            "text/latex": "A data.frame: 6 × 2\n\\begin{tabular}{ll}\n year....c.1970..1972..1973..1974..1974..1976. & snowcover....c.6.5..12..14.9..10..10.7..7.9.\\\\\n <dbl> & <dbl>\\\\\n\\hline\n\t 1970 &  6.5\\\\\n\t 1972 & 12.0\\\\\n\t 1973 & 14.9\\\\\n\t 1974 & 10.0\\\\\n\t 1974 & 10.7\\\\\n\t 1976 &  7.9\\\\\n\\end{tabular}\n",
            "text/plain": [
              "  year....c.1970..1972..1973..1974..1974..1976.\n",
              "1 1970                                         \n",
              "2 1972                                         \n",
              "3 1973                                         \n",
              "4 1974                                         \n",
              "5 1974                                         \n",
              "6 1976                                         \n",
              "  snowcover....c.6.5..12..14.9..10..10.7..7.9.\n",
              "1  6.5                                        \n",
              "2 12.0                                        \n",
              "3 14.9                                        \n",
              "4 10.0                                        \n",
              "5 10.7                                        \n",
              "6  7.9                                        "
            ]
          },
          "metadata": {}
        },
        {
          "output_type": "stream",
          "name": "stdout",
          "text": [
            "\n"
          ]
        },
        {
          "output_type": "display_data",
          "data": {
            "text/html": [
              "10.3333333333333"
            ],
            "text/markdown": "10.3333333333333",
            "text/latex": "10.3333333333333",
            "text/plain": [
              "[1] 10.33333"
            ]
          },
          "metadata": {}
        },
        {
          "output_type": "display_data",
          "data": {
            "text/html": [
              "10.35"
            ],
            "text/markdown": "10.35",
            "text/latex": "10.35",
            "text/plain": [
              "[1] 10.35"
            ]
          },
          "metadata": {}
        },
        {
          "output_type": "display_data",
          "data": {
            "text/html": [
              "<strong>40%:</strong> 10"
            ],
            "text/markdown": "**40%:** 10",
            "text/latex": "\\textbf{40\\textbackslash{}\\%:} 10",
            "text/plain": [
              "40% \n",
              " 10 "
            ]
          },
          "metadata": {}
        },
        {
          "output_type": "display_data",
          "data": {
            "text/html": [
              "28.8683545402325"
            ],
            "text/markdown": "28.8683545402325",
            "text/latex": "28.8683545402325",
            "text/plain": [
              "[1] 28.86835"
            ]
          },
          "metadata": {}
        },
        {
          "output_type": "stream",
          "name": "stdout",
          "text": [
            "\n",
            "[1] \"Odd Years\"\n"
          ]
        },
        {
          "output_type": "display_data",
          "data": {
            "text/html": [
              "14.9"
            ],
            "text/markdown": "14.9",
            "text/latex": "14.9",
            "text/plain": [
              "[1] 14.9"
            ]
          },
          "metadata": {}
        },
        {
          "output_type": "stream",
          "name": "stdout",
          "text": [
            "[1] \"Even Years\"\n"
          ]
        },
        {
          "output_type": "display_data",
          "data": {
            "text/html": [
              "9.42"
            ],
            "text/markdown": "9.42",
            "text/latex": "9.42",
            "text/plain": [
              "[1] 9.42"
            ]
          },
          "metadata": {}
        }
      ]
    },
    {
      "cell_type": "code",
      "source": [
        "# @title Assignment 3\n",
        "data(PlantGrowth)\n",
        "\n",
        "# Draw boxplot of weight as a funtion of group and perform the following :\n",
        "# 1. Provide X axis Label as \"Treatmemt Group\" and Y axis Label as \"Dried Biomass Weight\"\n",
        "# 2. Set color of box as red and border.\n",
        "# 3. Change color and width of the staple and whisker\n",
        "\n",
        "boxplot(weight ~ group,\n",
        "        data = PlantGrowth,\n",
        "        main = \"Dried Biomass Weight vs Treatment Group\",\n",
        "        xlab = \"Treatment Group\",\n",
        "        ylab = \"Dried Biomass Weight\",\n",
        "        col = \"red\",\n",
        "        border = \"blue\",\n",
        "        whisklty = 2,\n",
        "        whisklwd = 2,\n",
        "        staplelty = 1,\n",
        "        staplelwd = 2)"
      ],
      "metadata": {
        "colab": {
          "base_uri": "https://localhost:8080/",
          "height": 437
        },
        "id": "WR2jRouLTDww",
        "outputId": "8a67d74b-2ecc-444b-802a-8e1a143d7c6d"
      },
      "execution_count": null,
      "outputs": [
        {
          "output_type": "display_data",
          "data": {
            "text/plain": [
              "Plot with title “Dried Biomass Weight vs Treatment Group”"
            ],
            "image/png": "[encoded data removed]"
          },
          "metadata": {
            "image/png": {
              "width": 420,
              "height": 420
            }
          }
        }
      ]
    }
  ]
}